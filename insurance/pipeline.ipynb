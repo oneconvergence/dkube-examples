{
 "cells": [
  {
   "cell_type": "code",
   "execution_count": 18,
   "metadata": {},
   "outputs": [
    {
     "name": "stdout",
     "output_type": "stream",
     "text": [
      "Requirement already satisfied: kfp==1.4.0 in /usr/local/lib/python3.6/dist-packages (1.4.0)\n",
      "Requirement already satisfied: kfp-server-api==1.2.0 in /usr/local/lib/python3.6/dist-packages (1.2.0)\n",
      "Requirement already satisfied: strip-hints in /usr/local/lib/python3.6/dist-packages (from kfp==1.4.0) (0.1.9)\n",
      "Requirement already satisfied: Deprecated in /usr/local/lib/python3.6/dist-packages (from kfp==1.4.0) (1.2.11)\n",
      "Requirement already satisfied: tabulate in /usr/local/lib/python3.6/dist-packages (from kfp==1.4.0) (0.8.9)\n",
      "Requirement already satisfied: requests-toolbelt>=0.8.0 in /usr/local/lib/python3.6/dist-packages (from kfp==1.4.0) (0.9.1)\n",
      "Requirement already satisfied: PyYAML>=5.3 in /usr/local/lib/python3.6/dist-packages (from kfp==1.4.0) (5.4.1)\n",
      "Requirement already satisfied: kubernetes<12.0.0,>=8.0.0 in /usr/local/lib/python3.6/dist-packages (from kfp==1.4.0) (11.0.0)\n",
      "Requirement already satisfied: cloudpickle in /usr/local/lib/python3.6/dist-packages (from kfp==1.4.0) (1.6.0)\n",
      "Requirement already satisfied: google-auth>=1.6.1 in /usr/local/lib/python3.6/dist-packages (from kfp==1.4.0) (1.26.1)\n",
      "Requirement already satisfied: docstring-parser>=0.7.3 in /usr/local/lib/python3.6/dist-packages (from kfp==1.4.0) (0.7.3)\n",
      "Requirement already satisfied: jsonschema>=3.0.1 in /usr/local/lib/python3.6/dist-packages (from kfp==1.4.0) (3.0.1)\n",
      "Requirement already satisfied: kfp-pipeline-spec<0.2.0,>=0.1.0 in /usr/local/lib/python3.6/dist-packages (from kfp==1.4.0) (0.1.7)\n",
      "Requirement already satisfied: fire>=0.3.1 in /usr/local/lib/python3.6/dist-packages (from kfp==1.4.0) (0.4.0)\n",
      "Requirement already satisfied: google-cloud-storage>=1.13.0 in /usr/local/lib/python3.6/dist-packages (from kfp==1.4.0) (1.36.0)\n",
      "Requirement already satisfied: click in /usr/local/lib/python3.6/dist-packages (from kfp==1.4.0) (7.1.2)\n",
      "Requirement already satisfied: urllib3>=1.15 in /usr/local/lib/python3.6/dist-packages (from kfp-server-api==1.2.0) (1.26.3)\n",
      "Requirement already satisfied: certifi in /usr/local/lib/python3.6/dist-packages (from kfp-server-api==1.2.0) (2020.12.5)\n",
      "Requirement already satisfied: six>=1.10 in /usr/local/lib/python3.6/dist-packages (from kfp-server-api==1.2.0) (1.15.0)\n",
      "Requirement already satisfied: python-dateutil in /usr/local/lib/python3.6/dist-packages (from kfp-server-api==1.2.0) (2.8.0)\n",
      "Requirement already satisfied: wheel in /usr/lib/python3/dist-packages (from strip-hints->kfp==1.4.0) (0.30.0)\n",
      "Requirement already satisfied: wrapt<2,>=1.10 in /usr/local/lib/python3.6/dist-packages (from Deprecated->kfp==1.4.0) (1.11.2)\n",
      "Requirement already satisfied: requests<3.0.0,>=2.0.1 in /usr/local/lib/python3.6/dist-packages (from requests-toolbelt>=0.8.0->kfp==1.4.0) (2.25.1)\n",
      "Requirement already satisfied: requests-oauthlib in /usr/local/lib/python3.6/dist-packages (from kubernetes<12.0.0,>=8.0.0->kfp==1.4.0) (1.3.0)\n",
      "Requirement already satisfied: setuptools>=21.0.0 in /usr/local/lib/python3.6/dist-packages (from kubernetes<12.0.0,>=8.0.0->kfp==1.4.0) (41.0.1)\n",
      "Requirement already satisfied: websocket-client!=0.40.0,!=0.41.*,!=0.42.*,>=0.32.0 in /usr/local/lib/python3.6/dist-packages (from kubernetes<12.0.0,>=8.0.0->kfp==1.4.0) (0.57.0)\n",
      "Requirement already satisfied: pyasn1-modules>=0.2.1 in /usr/local/lib/python3.6/dist-packages (from google-auth>=1.6.1->kfp==1.4.0) (0.2.8)\n",
      "Requirement already satisfied: rsa<5,>=3.1.4; python_version >= \"3.6\" in /usr/local/lib/python3.6/dist-packages (from google-auth>=1.6.1->kfp==1.4.0) (4.7)\n",
      "Requirement already satisfied: cachetools<5.0,>=2.0.0 in /usr/local/lib/python3.6/dist-packages (from google-auth>=1.6.1->kfp==1.4.0) (4.2.1)\n",
      "Requirement already satisfied: attrs>=17.4.0 in /usr/local/lib/python3.6/dist-packages (from jsonschema>=3.0.1->kfp==1.4.0) (19.1.0)\n",
      "Requirement already satisfied: pyrsistent>=0.14.0 in /usr/local/lib/python3.6/dist-packages (from jsonschema>=3.0.1->kfp==1.4.0) (0.15.2)\n",
      "Requirement already satisfied: protobuf<4,>=3.13.0 in /usr/local/lib/python3.6/dist-packages (from kfp-pipeline-spec<0.2.0,>=0.1.0->kfp==1.4.0) (3.14.0)\n",
      "Requirement already satisfied: termcolor in /usr/local/lib/python3.6/dist-packages (from fire>=0.3.1->kfp==1.4.0) (1.1.0)\n",
      "Requirement already satisfied: google-cloud-core<2.0dev,>=1.4.1 in /usr/local/lib/python3.6/dist-packages (from google-cloud-storage>=1.13.0->kfp==1.4.0) (1.6.0)\n",
      "Requirement already satisfied: google-resumable-media<2.0dev,>=1.2.0 in /usr/local/lib/python3.6/dist-packages (from google-cloud-storage>=1.13.0->kfp==1.4.0) (1.2.0)\n",
      "Requirement already satisfied: chardet<5,>=3.0.2 in /usr/local/lib/python3.6/dist-packages (from requests<3.0.0,>=2.0.1->requests-toolbelt>=0.8.0->kfp==1.4.0) (4.0.0)\n",
      "Requirement already satisfied: idna<3,>=2.5 in /usr/lib/python3/dist-packages (from requests<3.0.0,>=2.0.1->requests-toolbelt>=0.8.0->kfp==1.4.0) (2.6)\n",
      "Requirement already satisfied: oauthlib>=3.0.0 in /usr/local/lib/python3.6/dist-packages (from requests-oauthlib->kubernetes<12.0.0,>=8.0.0->kfp==1.4.0) (3.1.0)\n",
      "Requirement already satisfied: pyasn1<0.5.0,>=0.4.6 in /usr/local/lib/python3.6/dist-packages (from pyasn1-modules>=0.2.1->google-auth>=1.6.1->kfp==1.4.0) (0.4.8)\n",
      "Requirement already satisfied: google-api-core<2.0.0dev,>=1.21.0 in /usr/local/lib/python3.6/dist-packages (from google-cloud-core<2.0dev,>=1.4.1->google-cloud-storage>=1.13.0->kfp==1.4.0) (1.26.0)\n",
      "Requirement already satisfied: google-crc32c<2.0dev,>=1.0; python_version >= \"3.5\" in /usr/local/lib/python3.6/dist-packages (from google-resumable-media<2.0dev,>=1.2.0->google-cloud-storage>=1.13.0->kfp==1.4.0) (1.1.2)\n",
      "Requirement already satisfied: pytz in /usr/local/lib/python3.6/dist-packages (from google-api-core<2.0.0dev,>=1.21.0->google-cloud-core<2.0dev,>=1.4.1->google-cloud-storage>=1.13.0->kfp==1.4.0) (2021.1)\n",
      "Requirement already satisfied: googleapis-common-protos<2.0dev,>=1.6.0 in /usr/local/lib/python3.6/dist-packages (from google-api-core<2.0.0dev,>=1.21.0->google-cloud-core<2.0dev,>=1.4.1->google-cloud-storage>=1.13.0->kfp==1.4.0) (1.52.0)\n",
      "Requirement already satisfied: packaging>=14.3 in /usr/local/lib/python3.6/dist-packages (from google-api-core<2.0.0dev,>=1.21.0->google-cloud-core<2.0dev,>=1.4.1->google-cloud-storage>=1.13.0->kfp==1.4.0) (20.9)\n",
      "Requirement already satisfied: cffi>=1.0.0 in /usr/local/lib/python3.6/dist-packages (from google-crc32c<2.0dev,>=1.0; python_version >= \"3.5\"->google-resumable-media<2.0dev,>=1.2.0->google-cloud-storage>=1.13.0->kfp==1.4.0) (1.14.5)\n",
      "Requirement already satisfied: pyparsing>=2.0.2 in /usr/local/lib/python3.6/dist-packages (from packaging>=14.3->google-api-core<2.0.0dev,>=1.21.0->google-cloud-core<2.0dev,>=1.4.1->google-cloud-storage>=1.13.0->kfp==1.4.0) (2.4.0)\n",
      "Requirement already satisfied: pycparser in /usr/local/lib/python3.6/dist-packages (from cffi>=1.0.0->google-crc32c<2.0dev,>=1.0; python_version >= \"3.5\"->google-resumable-media<2.0dev,>=1.2.0->google-cloud-storage>=1.13.0->kfp==1.4.0) (2.20)\n",
      "\u001b[33mWARNING: You are using pip version 19.1.1, however version 21.0.1 is available.\n",
      "You should consider upgrading via the 'pip install --upgrade pip' command.\u001b[0m\n"
     ]
    }
   ],
   "source": [
    "!pip install kfp==1.4.0 kfp-server-api==1.2.0"
   ]
  },
  {
   "cell_type": "code",
   "execution_count": 19,
   "metadata": {},
   "outputs": [
    {
     "name": "stdout",
     "output_type": "stream",
     "text": [
      "\u001b[33mWARNING: You are using pip version 19.1.1, however version 21.0.1 is available.\n",
      "You should consider upgrading via the 'pip install --upgrade pip' command.\u001b[0m\n"
     ]
    }
   ],
   "source": [
    "import sys\n",
    "!{sys.executable} -m pip install kfp >/dev/null"
   ]
  },
  {
   "cell_type": "code",
   "execution_count": 3,
   "metadata": {},
   "outputs": [],
   "source": [
    "import os\n",
    "import json\n",
    "import kfp\n",
    "import kfp.dsl as dsl\n",
    "import kfp.compiler as compiler\n",
    "from kfp import components\n",
    "from kubernetes import client as k8s_client"
   ]
  },
  {
   "cell_type": "code",
   "execution_count": 4,
   "metadata": {},
   "outputs": [],
   "source": [
    "dkube_preprocessing_op      = components.load_component_from_file(\"/mnt/dkube/pipeline/components/preprocess/component.yaml\")\n",
    "dkube_training_op           = components.load_component_from_file(\"/mnt/dkube/pipeline/components/training/component.yaml\")\n",
    "dkube_serving_op            = components.load_component_from_file(\"/mnt/dkube/pipeline/components/serving/component.yaml\")"
   ]
  },
  {
   "cell_type": "code",
   "execution_count": 5,
   "metadata": {},
   "outputs": [],
   "source": [
    "image = \"docker.io/ocdr/d3-datascience-sklearn:v0.23.2\"\n",
    "serving_image = \"ocdr/sklearnserver:0.23.2\"\n",
    "dataset = 'insurance'\n",
    "featureset = 'insurance-fs'\n",
    "training_program = 'insurance'\n",
    "model = 'insurance'\n",
    "preprocessing_script = f\"python insurance/preprocessing.py --fs {featureset}\"\n",
    "training_script = f\"python insurance/training.py --fs {featureset}\"\n",
    "transformer_code='insurance/transformer.py'\n",
    "user = os.getenv('USERNAME')\n",
    "framework = \"sklearn\"\n",
    "f_version = \"0.23.2\"\n",
    "input_mount_point = \"/opt/dkube/in\"\n",
    "output_mount_point = \"/opt/dkube/out\""
   ]
  },
  {
   "cell_type": "code",
   "execution_count": 6,
   "metadata": {},
   "outputs": [],
   "source": [
    "@kfp.dsl.pipeline(\n",
    "    name='dkube-insurance-pl',\n",
    "    description='sample insurance pipeline with featuresets'\n",
    ")\n",
    "def insurance_pipeline(token):\n",
    "    \n",
    "    preprocessing = dkube_preprocessing_op(token, json.dumps({\"image\": image}),\n",
    "                                           program=training_program, run_script=preprocessing_script,\n",
    "                                           datasets=json.dumps([dataset]), \n",
    "                                           output_featuresets=json.dumps([str(featureset)]),\n",
    "                                           input_dataset_mounts=json.dumps([input_mount_point]), \n",
    "                                           output_featureset_mounts=json.dumps([output_mount_point])\n",
    "                                            )\n",
    "\n",
    "    train       = dkube_training_op(token, json.dumps({\"image\": image}),\n",
    "                                    framework=framework, version=f_version,\n",
    "                                    program=training_program, run_script=training_script,\n",
    "                                    featuresets=json.dumps([featureset]), outputs=json.dumps([model]),\n",
    "                                    input_featureset_mounts=json.dumps([input_mount_point]),\n",
    "                                    output_mounts=json.dumps([output_mount_point])).after(preprocessing)\n",
    "\n",
    "    serving     = dkube_serving_op(token, train.outputs['artifact'], device='cpu', \n",
    "                                    serving_image=json.dumps({\"image\": serving_image}),\n",
    "                                    transformer_image=json.dumps({\"image\": image}),\n",
    "                                    transformer_project=training_program,\n",
    "                                    transformer_code=transformer_code).after(train)"
   ]
  },
  {
   "cell_type": "markdown",
   "metadata": {},
   "source": [
    "# Create a run"
   ]
  },
  {
   "cell_type": "code",
   "execution_count": 7,
   "metadata": {},
   "outputs": [
    {
     "data": {
      "text/html": [
       "<a href=\"/pipeline/#/experiments/details/2c8568be-8fb6-469f-94f5-4b0844d86f7d\" target=\"_blank\" >Experiment details</a>."
      ],
      "text/plain": [
       "<IPython.core.display.HTML object>"
      ]
     },
     "metadata": {},
     "output_type": "display_data"
    },
    {
     "data": {
      "text/html": [
       "<a href=\"/pipeline/#/runs/details/e26607c3-9c0d-4a0f-916d-dd7707f2cb97\" target=\"_blank\" >Run details</a>."
      ],
      "text/plain": [
       "<IPython.core.display.HTML object>"
      ]
     },
     "metadata": {},
     "output_type": "display_data"
    },
    {
     "data": {
      "text/plain": [
       "RunPipelineResult(run_id=e26607c3-9c0d-4a0f-916d-dd7707f2cb97)"
      ]
     },
     "execution_count": 7,
     "metadata": {},
     "output_type": "execute_result"
    }
   ],
   "source": [
    "existing_token = os.getenv(\"DKUBE_USER_ACCESS_TOKEN\")\n",
    "client = kfp.Client(existing_token=existing_token)\n",
    "client.create_run_from_pipeline_func(insurance_pipeline, arguments={\"token\":existing_token})"
   ]
  },
  {
   "cell_type": "markdown",
   "metadata": {},
   "source": [
    "# Compile pipeline"
   ]
  },
  {
   "cell_type": "code",
   "execution_count": 8,
   "metadata": {},
   "outputs": [],
   "source": [
    "# compile\n",
    "import tempfile\n",
    "f = tempfile.NamedTemporaryFile(suffix=\".zip\", delete=False)\n",
    "kfp.compiler.Compiler().compile(insurance_pipeline, f.name)"
   ]
  },
  {
   "cell_type": "markdown",
   "metadata": {},
   "source": [
    "## Upload pipeline"
   ]
  },
  {
   "cell_type": "code",
   "execution_count": 17,
   "metadata": {},
   "outputs": [
    {
     "name": "stdout",
     "output_type": "stream",
     "text": [
      "29a60a7c-dd8b-40d1-ac85-ae1964ed9220\n",
      "Insurance pipeline already exists\n"
     ]
    },
    {
     "data": {
      "text/html": [
       "<a href=/pipeline/#/pipelines/details/4d97a236-a0fa-4254-ac2f-1010a46ce0b7>Pipeline details</a>."
      ],
      "text/plain": [
       "<IPython.core.display.HTML object>"
      ]
     },
     "metadata": {},
     "output_type": "display_data"
    }
   ],
   "source": [
    "pipeline_id = client.get_pipeline_id(\"Insurance pipeline\")\n",
    "print(pipeline_id)\n",
    "\n",
    "if(pipeline_id != None):\n",
    "    print(\"Insurance pipeline already exists\")\n",
    "    new_pipeline = client.upload_pipeline_version(f.name, 'Another version', pipeline_id = pipeline_id)\n",
    "else:\n",
    "    pipeline = client.upload_pipeline(f.name, pipeline_name=\"Insurance pipeline\")\n"
   ]
  }
 ],
 "metadata": {
  "kernelspec": {
   "display_name": "Python 3",
   "language": "python",
   "name": "python3"
  },
  "language_info": {
   "codemirror_mode": {
    "name": "ipython",
    "version": 3
   },
   "file_extension": ".py",
   "mimetype": "text/x-python",
   "name": "python",
   "nbconvert_exporter": "python",
   "pygments_lexer": "ipython3",
   "version": "3.6.8"
  }
 },
 "nbformat": 4,
 "nbformat_minor": 4
}
