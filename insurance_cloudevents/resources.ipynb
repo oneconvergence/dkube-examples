{
 "cells": [
  {
   "cell_type": "markdown",
   "metadata": {},
   "source": [
    "#### Defined by User"
   ]
  },
  {
   "cell_type": "code",
   "execution_count": null,
   "metadata": {},
   "outputs": [],
   "source": [
    "## specify your Dkube username\n",
    "DKUBEUSERNAME = \"ocdkube\"\n",
    "\n",
    "## Define the model monitor name here that you will be creating \n",
    "MONITOR_NAME = \"insurance-mm-kf\"\n",
    "\n",
    "DATA_SOURCE = \"local\"\n",
    "\n",
    "# Required in train.ipynb to retrain the model\n",
    "DKUBE_TRAINING_CODE_NAME = \"insurance\"\n",
    "\n",
    "LIVE_DATASET =  MONITOR_NAME+'-s3'\n",
    "\n",
    "## Dkube information\n",
    "import os\n",
    "TOKEN = os.getenv(\"DKUBE_USER_ACCESS_TOKEN\",\"\")\n",
    "DKUBE_URL = os.getenv(\"DKUBE_URL\",\"\")\n",
    "\n",
    "## AWS_S3 \n",
    "S3_KEY = ''\n",
    "S3_SECRET_KEY = ''\n",
    "S3_ENDPOINT = ''\n",
    "RETRAINING_DATASET = 'insurance-training-data'\n",
    "## Inference URL\n",
    "INFERENCE_URL = None\n",
    "\n",
    "# dataset to be used as training data\n",
    "DKUBE_BASE_DATASET = \"insurance-data\"\n",
    "\n",
    "# Model name to be created or used for example, it will create the model\n",
    "# if not existing otherwise it will ignore creation.\n",
    "MODEL_NAME = MONITOR_NAME\n",
    "\n",
    "# the frequency with which monitoring will run, value will be considered in minutes\n",
    "RUN_FREQUENCY = 5\n",
    "\n",
    "if not(TOKEN or DKUBEUSERNAME or DKUBE_URL):\n",
    "    print(\"Please fill the Dkube details first (TOKEN, DKUBE_URL, DKUBEUSERNAME)\")\n",
    "    raise TypeError\n",
    "if not (S3_KEY or S3_SECRET_KEY or S3_ENDPOINT):\n",
    "    print(\"Please fill the AWS_S3 details first (ACCESS_KEY, SECRET_KEY)\")\n",
    "    raise TypeError"
   ]
  },
  {
   "cell_type": "markdown",
   "metadata": {},
   "source": [
    "#### Dkube Resources"
   ]
  },
  {
   "cell_type": "code",
   "execution_count": null,
   "metadata": {},
   "outputs": [],
   "source": [
    "import time,json\n",
    "from dkube.sdk import *"
   ]
  },
  {
   "cell_type": "code",
   "execution_count": null,
   "metadata": {},
   "outputs": [],
   "source": [
    "api = DkubeApi(URL=DKUBE_URL,token=TOKEN)\n",
    "if DKUBEUSERNAME == api.validate_token()['username']:\n",
    "    pass\n",
    "else:\n",
    "    print(\"Invalid User, please check your username, first\")"
   ]
  },
  {
   "cell_type": "code",
   "execution_count": null,
   "metadata": {},
   "outputs": [],
   "source": [
    "data = api.get_modelmonitor_id(MONITOR_NAME)\n",
    "if data.data:\n",
    "    MONITOR_ID = data.data.get(MONITOR_NAME)\n",
    "    if MONITOR_ID:\n",
    "        raise ValueError(f\"{MONITOR_NAME} already existing please use a different name\")"
   ]
  },
  {
   "cell_type": "code",
   "execution_count": null,
   "metadata": {},
   "outputs": [],
   "source": [
    "INPUT_TRAIN_TYPE = \"training\"\n",
    "d3_config = {\"MONITOR_NAME\":MONITOR_NAME, \"DATA_SOURCE\": DATA_SOURCE, \n",
    "            \"INPUT_TRAIN_TYPE\":INPUT_TRAIN_TYPE, \"DKUBEUSERNAME\":DKUBEUSERNAME,\n",
    "            \"TOKEN\":TOKEN, \"DKUBE_URL\":DKUBE_URL, \"S3_KEY\":S3_KEY,\n",
    "            \"S3_SECRET_KEY\":S3_SECRET_KEY, \"S3_ENDPOINT\":S3_ENDPOINT,\n",
    "            \"DKUBE_BASE_DATASET\":DKUBE_BASE_DATASET, \"MODEL_NAME\":MODEL_NAME,\n",
    "            \"RETRAINING_DATASET\":RETRAINING_DATASET, \"RUN_FREQUENCY\":RUN_FREQUENCY,\n",
    "            \"DKUBE_TRAINING_CODE_NAME\":DKUBE_TRAINING_CODE_NAME,\n",
    "            \"LIVE_DATASET\":LIVE_DATASET}\n",
    "%store d3_config"
   ]
  },
  {
   "cell_type": "markdown",
   "metadata": {},
   "source": [
    "#### Dataset"
   ]
  },
  {
   "cell_type": "code",
   "execution_count": null,
   "metadata": {},
   "outputs": [],
   "source": [
    "try:\n",
    "    dataset = DkubeDataset(DKUBEUSERNAME, name=DKUBE_BASE_DATASET)\n",
    "    dataset.update_git_details(url=\"https://dkube-examples-data.s3.us-west-2.amazonaws.com/monitoring-insurance/training-data/insurance.csv\")\n",
    "    dataset.update_dataset_source(source=\"pub_url\")\n",
    "    api.create_dataset(dataset)\n",
    "except Exception as e:\n",
    "    if e.reason.lower()!=\"conflict\":\n",
    "        response = e.body\n",
    "        print(f\"Failed[{response.code}]: {response.message}\")\n",
    "        \n",
    "try:\n",
    "    dataset = DkubeDataset(DKUBEUSERNAME, name=RETRAINING_DATASET)\n",
    "    dataset.update_dataset_source(source=\"dvs\")\n",
    "    api.create_dataset(dataset)\n",
    "except Exception as e:\n",
    "    if e.reason.lower()!=\"conflict\":\n",
    "        response = e.body\n",
    "        print(f\"Failed[{response.code}]: {response.message}\")"
   ]
  },
  {
   "cell_type": "markdown",
   "metadata": {},
   "source": [
    "### Model Monitor Datasets"
   ]
  },
  {
   "cell_type": "markdown",
   "metadata": {},
   "source": [
    "##### Predict and labelled Dataset"
   ]
  },
  {
   "cell_type": "code",
   "execution_count": null,
   "metadata": {},
   "outputs": [],
   "source": [
    "try:\n",
    "    dataset = DkubeDataset(DKUBEUSERNAME, name=LIVE_DATASET,remote=True)\n",
    "    dataset.update_dataset_source('s3')\n",
    "    dataset.update_s3_details(\n",
    "        endpoint = S3_ENDPOINT,\n",
    "        bucket=\"modelmonitor\",\n",
    "        prefix='',\n",
    "        key=S3_KEY,\n",
    "        secret=S3_SECRET_KEY)\n",
    "    api.create_dataset(dataset)\n",
    "\n",
    "except Exception as e:\n",
    "    if e.reason:\n",
    "        if e.reason.lower() != \"conflict\":\n",
    "            response = e.body\n",
    "            print(f\"Failed[{response.code}]: {response.message}\")\n",
    "    else:\n",
    "        raise e"
   ]
  },
  {
   "cell_type": "markdown",
   "metadata": {},
   "source": [
    "\n",
    "#### Model"
   ]
  },
  {
   "cell_type": "code",
   "execution_count": null,
   "metadata": {},
   "outputs": [],
   "source": [
    "try:\n",
    "    model = DkubeModel(DKUBEUSERNAME, name=MODEL_NAME)\n",
    "    model.update_model_source(source='dvs')\n",
    "    api.create_model(model)\n",
    "except Exception as e:\n",
    "    if e.reason:\n",
    "        if e.reason.lower() != \"conflict\":\n",
    "            response = e.body\n",
    "            print(f\"Failed[{response.code}]: {response.message}\")\n",
    "    else:\n",
    "        raise e"
   ]
  },
  {
   "cell_type": "markdown",
   "metadata": {},
   "source": [
    "#### Cleanup"
   ]
  },
  {
   "cell_type": "code",
   "execution_count": null,
   "metadata": {},
   "outputs": [],
   "source": [
    "## Set CLEANUP = True, after your experiment is complete.\n",
    "CLEANUP = False\n",
    "if CLEANUP:\n",
    "    api.delete_dataset(DKUBEUSERNAME,DKUBE_BASE_DATASET,force=True)\n",
    "    api.delete_dataset(DKUBEUSERNAME,S3_DATASET,force=True)\n",
    "    api.delete_model(DKUBEUSERNAME,MODEL_NAME,force=True)\n",
    "    %store -d d3_config"
   ]
  },
  {
   "cell_type": "code",
   "execution_count": null,
   "metadata": {},
   "outputs": [],
   "source": []
  }
 ],
 "metadata": {
  "interpreter": {
   "hash": "916dbcbb3f70747c44a77c7bcd40155683ae19c65e1c03b4aa3499c5328201f1"
  },
  "kernelspec": {
   "display_name": "Python 3",
   "language": "python",
   "name": "python3"
  },
  "language_info": {
   "codemirror_mode": {
    "name": "ipython",
    "version": 3
   },
   "file_extension": ".py",
   "mimetype": "text/x-python",
   "name": "python",
   "nbconvert_exporter": "python",
   "pygments_lexer": "ipython3",
   "version": "3.6.8"
  }
 },
 "nbformat": 4,
 "nbformat_minor": 4
}
