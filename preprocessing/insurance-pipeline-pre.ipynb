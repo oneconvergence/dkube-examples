{
 "cells": [
  {
   "cell_type": "code",
   "execution_count": null,
   "id": "4c8f5e3d",
   "metadata": {},
   "outputs": [],
   "source": [
    "import os\n",
    "job_class = os.getenv(\"DKUBE_JOB_CLASS\")\n",
    "if not job_class:\n",
    "    !{sys.executable} -m pip install kfp >/dev/null"
   ]
  },
  {
   "cell_type": "code",
   "execution_count": null,
   "id": "6214e00e",
   "metadata": {},
   "outputs": [],
   "source": [
    "# Get the variables saved from the setup script\n",
    "%store -r\n",
    "\n",
    "# Load the required packages\n",
    "import json\n",
    "import kfp\n",
    "from kfp import components\n",
    "from dkube.sdk.api import DkubeApi\n",
    "import random, string\n",
    "from termcolor import colored"
   ]
  },
  {
   "attachments": {},
   "cell_type": "markdown",
   "id": "28945840",
   "metadata": {},
   "source": [
    "### Load the DKube Pipeline Components"
   ]
  },
  {
   "cell_type": "code",
   "execution_count": null,
   "id": "c70f8d72",
   "metadata": {},
   "outputs": [],
   "source": [
    "dkube_training_op = components.load_component_from_file(\"/mnt/dkube/pipeline/components/training/component.yaml\")\n",
    "dkube_serving_op  = components.load_component_from_file(\"/mnt/dkube/pipeline/components/serving/component.yaml\")\n",
    "dkube_preprocess_op  = components.load_component_from_file(\"/mnt/dkube/pipeline/components/preprocess/component.yaml\")"
   ]
  },
  {
   "attachments": {},
   "cell_type": "markdown",
   "id": "ff153a93",
   "metadata": {},
   "source": [
    "### Get Repo Names"
   ]
  },
  {
   "cell_type": "code",
   "execution_count": null,
   "id": "5a784969",
   "metadata": {},
   "outputs": [],
   "source": [
    "\n",
    "## These fields must be modified to allow the file to run based on your repo names\n",
    "## After the files are modified, run all of the cells to execute\n",
    "\n",
    "## Repo names for code, dataset & model\n",
    "code_repo = image_exp_config['CODE_REPO_NAME']\n",
    "dataset = image_exp_config['DATASET_REPO_NAME']\n",
    "model = image_exp_config['MODEL_REPO_NAME']"
   ]
  },
  {
   "attachments": {},
   "cell_type": "markdown",
   "id": "0e4364f6",
   "metadata": {},
   "source": [
    "### Other Variable Setup"
   ]
  },
  {
   "cell_type": "code",
   "execution_count": null,
   "id": "34055c38",
   "metadata": {},
   "outputs": [],
   "source": [
    "## These fields are specific to this example, and should not be modified\n",
    "\n",
    "## Get the environmental variables\n",
    "DKUBE_USERNAME = image_exp_config['DKUBE_USERNAME']\n",
    "DKUBE_TOKEN = image_exp_config['DKUBE_TOKEN']\n",
    "DKUBE_PROJECT_NAME = os.environ.get('DKUBE_PROJECT_NAME', 'insurance-pre')\n",
    "\n",
    "# Create DKube api variable\n",
    "api = DkubeApi(token=DKUBE_TOKEN)\n",
    "\n",
    "## Project ID, make sure IDE is created under the same project where the expriment is suppose to run\n",
    "## Or else provide it manually in the project_id variable.\n",
    "project_id = os.environ.get(\"DKUBE_PROJECT_ID\")\n",
    "\n",
    "## Set the variables needed to execute the pipeline stages\n",
    "image = \"ocdr/dkube-datascience-tf-cpu:v2.0.0-17\"\n",
    "serving_image = \"ocdr/tensorflowserver:2.0.0\"\n",
    "\n",
    "preprocess_script = \"python preprocessing/preprocess.py\"\n",
    "training_script = \"python preprocessing/training-pre.py\"\n",
    "\n",
    "transformer_code='preprocessing/transformer.py'\n",
    "user = DKUBE_USERNAME\n",
    "framework = \"tensorflow\"\n",
    "f_version = \"2.0.0\"\n",
    "\n",
    "## Get the list of versions for the input dataset & specify v1 to get original dataset for preprocessing\n",
    "dataset_version = api.get_dataset_versions(DKUBE_USERNAME, dataset)\n",
    "dataset_v1 = dataset_version[-1]['version']['uuid']\n",
    "preprocess_input_dataset_version = [dataset_v1]  \n",
    "\n",
    "# Set the mount paths\n",
    "input_dataset_mounts = [\"/input/dataset\"]\n",
    "output_dataset_mounts = [\"/output/dataset\"]\n",
    "\n",
    "output_mount_point = \"/opt/dkube/out\""
   ]
  },
  {
   "cell_type": "markdown",
   "id": "7cbb9c90",
   "metadata": {},
   "source": [
    "### Create Pipeline Definition"
   ]
  },
  {
   "cell_type": "code",
   "execution_count": null,
   "id": "6fae4a92",
   "metadata": {},
   "outputs": [],
   "source": [
    "@kfp.dsl.pipeline(\n",
    "    name='insurance-pre-pl',\n",
    "    description='Preprocessing insurnace pipeline'\n",
    ")\n",
    "def insurance_pipeline(DKUBE_TOKEN, tags, deployment_name):\n",
    "    \n",
    "    preprocess   = dkube_preprocess_op(DKUBE_TOKEN, json.dumps({\"image\": image}),\n",
    "                                    tags=tags,\n",
    "                                    program=code_repo, run_script=preprocess_script,\n",
    "                                    datasets=json.dumps([dataset]), input_dataset_mounts=input_dataset_mounts,\n",
    "                                    input_dataset_versions=preprocess_input_dataset_version,\n",
    "                                    outputs=json.dumps([dataset]),\n",
    "                                    output_mounts=output_dataset_mounts)\n",
    "\n",
    "    train       = dkube_training_op(DKUBE_TOKEN, json.dumps({\"image\": image}),\n",
    "                                    tags=tags,\n",
    "                                    framework=framework, version=f_version,\n",
    "                                    program=code_repo, run_script=training_script,\n",
    "                                    datasets=json.dumps([dataset]), input_dataset_mounts=input_dataset_mounts,\n",
    "                                    outputs=json.dumps([model]),\n",
    "                                    output_mounts=json.dumps([output_mount_point])).after(preprocess)\n",
    "\n",
    "    serving     = dkube_serving_op(DKUBE_TOKEN, train.outputs['artifact'], device='cpu', \n",
    "                                    name=deployment_name,\n",
    "                                    serving_image=json.dumps({\"image\": serving_image}),\n",
    "                                    transformer_image=json.dumps({\"image\": image}),\n",
    "                                    transformer_project=code_repo,\n",
    "                                    transformer_code=transformer_code,\n",
    "                                    production=\"true\").after(train)"
   ]
  },
  {
   "attachments": {},
   "cell_type": "markdown",
   "id": "34f5f7a9",
   "metadata": {},
   "source": [
    "### Create Pipeline Run Name"
   ]
  },
  {
   "cell_type": "code",
   "execution_count": null,
   "id": "3bdebb38",
   "metadata": {},
   "outputs": [],
   "source": [
    "res = ''.join(random.choices(string.ascii_lowercase + string.digits, k=4))\n",
    "\n",
    "# Check for project\n",
    "if project_id:\n",
    "    tags = json.dumps([f\"project:{project_id}\"])\n",
    "    project_name = os.environ.get(\"DKUBE_PROJECT_NAME\")\n",
    "\n",
    "    # Create pipeline name with project\n",
    "    run_name = f\"[{project_name}] {DKUBE_USERNAME}:{code_repo} %s\"%res\n",
    "\n",
    "    experiment = f\"[{project_name}] experiment\"\n",
    "    deployment_name = f\"{DKUBE_PROJECT_NAME}-{DKUBE_USERNAME}-%s\"%res\n",
    "else:\n",
    "    tags = []\n",
    "\n",
    "    # Create pipeline name without project\n",
    "    run_name = f\"{DKUBE_USERNAME}:{code_repo} %s\"%res\n",
    "\n",
    "    experiment = \"default\"\n",
    "    deployment_name = f\"{DKUBE_USERNAME}-ins-pre-%s\"%res"
   ]
  },
  {
   "attachments": {},
   "cell_type": "markdown",
   "id": "c499245f",
   "metadata": {},
   "source": [
    "### Create Pipeline Run"
   ]
  },
  {
   "cell_type": "code",
   "execution_count": null,
   "id": "964f7610",
   "metadata": {},
   "outputs": [],
   "source": [
    "deployment_id = api.get_deployment_id(name=deployment_name)\n",
    "if not deployment_id:\n",
    "    print(f\"On pipeline completion the deployment {colored(deployment_name, 'green', attrs=['bold'])} will be created\")\n",
    "    \n",
    "    client = kfp.Client(existing_token=DKUBE_TOKEN)\n",
    "    client.create_run_from_pipeline_func(insurance_pipeline, run_name=run_name, experiment_name=experiment,\n",
    "                                         arguments={\"DKUBE_TOKEN\":DKUBE_TOKEN, \"tags\":tags,\n",
    "                                                    'deployment_name':deployment_name}\n",
    "                                        )\n",
    "    run_id += 1\n",
    "    pl_config = {\"DEPLOYMENT_NAME\":deployment_name}\n",
    "    %store pl_config\n",
    "\n",
    "else:\n",
    "    print(\"Deployment Already Existing, skipping create, try running the cells again\")"
   ]
  }
 ],
 "metadata": {
  "kernelspec": {
   "display_name": "Python 3",
   "language": "python",
   "name": "python3"
  },
  "language_info": {
   "codemirror_mode": {
    "name": "ipython",
    "version": 3
   },
   "file_extension": ".py",
   "mimetype": "text/x-python",
   "name": "python",
   "nbconvert_exporter": "python",
   "pygments_lexer": "ipython3",
   "version": "3.7.5"
  },
  "vscode": {
   "interpreter": {
    "hash": "aee8b7b246df8f9039afb4144a1f6fd8d2ca17a180786b69acc140d282b71a49"
   }
  }
 },
 "nbformat": 4,
 "nbformat_minor": 5
}
