{
 "cells": [
  {
   "cell_type": "code",
   "execution_count": null,
   "metadata": {},
   "outputs": [],
   "source": [
    "%store -r\n",
    "import time\n",
    "import os,json\n",
    "import requests\n",
    "from dkube.sdk import *\n",
    "from dkube.sdk.api import DkubeApi\n",
    "from dkube.sdk.rsrcs import DkubeModelmonitor\n",
    "from dkube.sdk.rsrcs.modelmonitor import DatasetClass,ModelType,DriftAlgo, DataType\n",
    "from dkube.sdk.rsrcs.modelmonitor import DatasetFormat,DkubeModelmonitoralert, TimeZone"
   ]
  },
  {
   "cell_type": "code",
   "execution_count": null,
   "metadata": {},
   "outputs": [],
   "source": [
    "api = DkubeApi(URL=os.getenv('DKUBE_URL'),token=os.getenv(\"DKUBE_USER_ACCESS_TOKEN\"))"
   ]
  },
  {
   "cell_type": "code",
   "execution_count": null,
   "metadata": {},
   "outputs": [],
   "source": [
    "def wait_for_deployment_running(deployment_id):\n",
    "    status = None\n",
    "    inference_url, inference = None, None\n",
    "    while True:\n",
    "        data = api.get_deployment(deployment_id)\n",
    "        status = data.data.inferenceservice_deployment.parameters.generated.status.state\n",
    "        inference = data.data.inferenceservice_deployment.parameters.inference\n",
    "        inference_url = data.data.inferenceservice_deployment.parameters.generated.details.serving.servingurl\n",
    "        if status == \"RUNNING\":\n",
    "            break\n",
    "        print(\"waiting for deployment to be running\")\n",
    "        time.sleep(api.wait_interval)\n",
    "    return inference, inference_url\n",
    "\n",
    "def get_dataset_version(username, dataset_name, version):\n",
    "    dataset_versions = api.get_dataset_versions(username, dataset_name)\n",
    "    versions = []\n",
    "    for each_version in dataset_versions:\n",
    "        if each_version[\"version\"][\"name\"] == version:\n",
    "            uuid = each_version[\"version\"][\"uuid\"]\n",
    "            return f\"{version}:{uuid}\"\n",
    "        else:\n",
    "            versions.append(each_version[\"version\"][\"name\"])\n",
    "    return f\"dataset version {version} not found, available version are {versions}\""
   ]
  },
  {
   "cell_type": "markdown",
   "metadata": {},
   "source": [
    "### Importing deployment"
   ]
  },
  {
   "cell_type": "code",
   "execution_count": null,
   "metadata": {},
   "outputs": [],
   "source": [
    "if d3_config[\"USE_REMOTE_DEPLOYMENT\"]:\n",
    "    api.import_deployment(name=d3_config[\"MONITOR_NAME\"])\n",
    "while True:\n",
    "    DEPLOYMENT_ID = api.get_deployment_id(name=d3_config[\"MONITOR_NAME\"])\n",
    "    if DEPLOYMENT_ID:\n",
    "        break\n",
    "    print(\"waiting for deployment to come up\")\n",
    "    time.sleep(api.wait_interval)\n",
    "if not d3_config[\"USE_REMOTE_DEPLOYMENT\"]:\n",
    "    inference, INFERENCE_URL = wait_for_deployment_running(DEPLOYMENT_ID)\n",
    "    print(\"Inference is up at URL: \", INFERENCE_URL)\n",
    "d3_config[\"DEPLOYMENT_ID\"] = DEPLOYMENT_ID\n",
    "%store d3_config"
   ]
  },
  {
   "cell_type": "code",
   "execution_count": null,
   "metadata": {},
   "outputs": [],
   "source": [
    "text_file = open(\"transform-data.py\", \"r\")\n",
    "script = text_file.read()\n",
    "text_file.close()\n",
    "\n",
    "with open('thresholds.json') as f:\n",
    "    thresholds = json.load(f)"
   ]
  },
  {
   "cell_type": "markdown",
   "metadata": {},
   "source": [
    "### Model Monitor"
   ]
  },
  {
   "cell_type": "code",
   "execution_count": null,
   "metadata": {},
   "outputs": [],
   "source": [
    "mm=DkubeModelmonitor(deployemnt_id = DEPLOYMENT_ID)"
   ]
  },
  {
   "cell_type": "code",
   "execution_count": null,
   "metadata": {},
   "outputs": [],
   "source": [
    "mm.update_modelmonitor_basics(model_type=ModelType.Regression.value, \n",
    "                               input_data_type=DataType.Tabular.value,\n",
    "                               data_timezone=TimeZone.UTC.value)"
   ]
  },
  {
   "cell_type": "code",
   "execution_count": null,
   "metadata": {},
   "outputs": [],
   "source": [
    "mm.add_thresholds(thresholds=thresholds)"
   ]
  },
  {
   "cell_type": "markdown",
   "metadata": {},
   "source": [
    "## Health Monitoring"
   ]
  },
  {
   "cell_type": "code",
   "execution_count": null,
   "metadata": {},
   "outputs": [],
   "source": [
    "# checking if imported cluster has cluster added \n",
    "# Or is it a local deployemnt.\n",
    "deployment = api.get_deployment(DEPLOYMENT_ID)\n",
    "if ((deployment.data.imported_deployment and deployment.data.imported_deployment.cluster)\n",
    "    or\n",
    "    not deployment.data.imported_deployment):\n",
    "    mm.update_deployment_monitoring_details(enabled=True, frequency=1)"
   ]
  },
  {
   "cell_type": "markdown",
   "metadata": {},
   "source": [
    "### Add Drift monitoring details"
   ]
  },
  {
   "cell_type": "code",
   "execution_count": null,
   "metadata": {},
   "outputs": [],
   "source": [
    "mm.update_drift_monitoring_details(enabled=True,frequency=5,algorithm='auto')"
   ]
  },
  {
   "cell_type": "markdown",
   "metadata": {},
   "source": [
    "### Training Details"
   ]
  },
  {
   "cell_type": "code",
   "execution_count": null,
   "metadata": {},
   "outputs": [],
   "source": [
    "if d3_config['DATA_SOURCE'] == \"local\" or d3_config['DATA_SOURCE'] == \"aws_s3\":\n",
    "    training_data = f\"{d3_config['DKUBE_BASE_DATASET']}:\"+ d3_config['DKUBEUSERNAME']\n",
    "    train_data_version = get_dataset_version(d3_config['DKUBEUSERNAME'],\n",
    "                                            d3_config['DKUBE_BASE_DATASET'], \"v1\")\n",
    "    prediction_data = d3_config['MONITOR_NAME'] +'-predict:'+ d3_config['DKUBEUSERNAME']\n",
    "    labelled_data = d3_config['MONITOR_NAME'] +'-groundtruth:'+ d3_config['DKUBEUSERNAME']\n",
    "\n",
    "if d3_config['DATA_SOURCE'] == 'local':\n",
    "    predict_data_version = get_dataset_version(d3_config['DKUBEUSERNAME'],\n",
    "                                            d3_config['MONITOR_NAME']+'-predict', \"v1\")\n",
    "    labelled_data_version = get_dataset_version(d3_config['DKUBEUSERNAME'],\n",
    "                                            d3_config['MONITOR_NAME']+'-groundtruth', \"v1\")\n",
    "\n",
    "if d3_config['DATA_SOURCE'] == \"aws_s3\":\n",
    "    if d3_config['PREDICT_DATASET_FORMAT'] == \"tabular\":\n",
    "        predict_data_format = str(DatasetFormat.Tabular)\n",
    "    if d3_config['PREDICT_DATASET_FORMAT'] == \"cloudevents\":\n",
    "        predict_data_format = str(DatasetFormat.Cloudevents)\n",
    "    if d3_config['PREDICT_DATASET_FORMAT'] == \"sagemaker\":\n",
    "        predict_data_format = str(DatasetFormat.Sagemaker)  \n",
    "\n",
    "if d3_config['DATA_SOURCE'] == \"sql\":\n",
    "    training_data = f\"{d3_config['DKUBE_BASE_DATASET']}:\"+ d3_config['DKUBEUSERNAME']"
   ]
  },
  {
   "cell_type": "markdown",
   "metadata": {},
   "source": [
    "### Add Training, Predict and labelled Dataset"
   ]
  },
  {
   "cell_type": "code",
   "execution_count": null,
   "metadata": {},
   "outputs": [],
   "source": [
    "if d3_config['DATA_SOURCE'] == 'sql':\n",
    "    mm.add_datasources(data_class=str(DatasetClass.Train),name=training_data,data_format=str(DatasetFormat.Tabular),sql_query=\"select * from insurance\",transformer_script = script)\n",
    "    mm.add_datasources(data_class=str(DatasetClass.Predict),name=training_data,data_format=str(DatasetFormat.Tabular),sql_query=\"select * from insurance_predict\",date_suffix=\"yyyy/mm/dd/hh\")\n",
    "    mm.add_datasources(data_class=str(DatasetClass.Labelled),name=training_data,data_format=str(DatasetFormat.Tabular),sql_query=\"select * from insurance_gt\",predict_col=\"charges\",groundtruth_col=\"GT_target\",timestamp_col=\"timestamp\")\n",
    "\n",
    "if d3_config['DATA_SOURCE'] == 'local':\n",
    "    mm.add_datasources(data_class=str(DatasetClass.Train),name=training_data,data_format=str(DatasetFormat.Tabular),version=train_data_version,transformer_script = script)\n",
    "    mm.add_datasources(data_class=str(DatasetClass.Predict),name=prediction_data,data_format=str(DatasetFormat.Tabular),version=predict_data_version,date_suffix=\"none\")\n",
    "    mm.add_datasources(data_class=str(DatasetClass.Labelled),name=labelled_data,data_format=str(DatasetFormat.Tabular),version=labelled_data_version,predict_col=\"charges\",groundtruth_col=\"GT_target\",timestamp_col=\"timestamp\")\n",
    "\n",
    "if d3_config['DATA_SOURCE'] == 'aws_s3':\n",
    "    mm.add_datasources(data_class=str(DatasetClass.Train),name=training_data,data_format=str(DatasetFormat.Tabular),version=train_data_version,transformer_script = script)\n",
    "    mm.add_datasources(data_class=str(DatasetClass.Predict),name=prediction_data,data_format=predict_data_format,date_suffix=\"yyyy/mm/dd/hh\")\n",
    "    mm.add_datasources(data_class=str(DatasetClass.Labelled),name=labelled_data,data_format=str(DatasetFormat.Tabular),predict_col=\"charges\",groundtruth_col=\"GT_target\",timestamp_col=\"timestamp\")"
   ]
  },
  {
   "cell_type": "markdown",
   "metadata": {},
   "source": [
    "### Performance Monitoring"
   ]
  },
  {
   "cell_type": "code",
   "execution_count": null,
   "metadata": {},
   "outputs": [],
   "source": [
    "mm.update_performance_monitoring_details(enabled=True,source_type=\"labelled_data\",frequency=d3_config['RUN_FREQUENCY'])"
   ]
  },
  {
   "cell_type": "markdown",
   "metadata": {},
   "source": [
    "### Create Model monitor"
   ]
  },
  {
   "cell_type": "code",
   "execution_count": null,
   "metadata": {},
   "outputs": [],
   "source": [
    "api.modelmonitor_create(mm,wait_for_completion=True)"
   ]
  },
  {
   "cell_type": "markdown",
   "metadata": {},
   "source": [
    "### Extracting id of the Model Monitor"
   ]
  },
  {
   "cell_type": "code",
   "execution_count": null,
   "metadata": {},
   "outputs": [],
   "source": [
    "# The function below can be used to fetch model monitor ID by name.\n",
    "# The monitor id will be same as deployment id.\n",
    "# id = api.modelmonitor_get_id(MONITOR_NAME)\n",
    "id = DEPLOYMENT_ID\n",
    "print(id)"
   ]
  },
  {
   "cell_type": "markdown",
   "metadata": {},
   "source": [
    "### Schema update"
   ]
  },
  {
   "cell_type": "code",
   "execution_count": null,
   "metadata": {},
   "outputs": [],
   "source": [
    "api.modelmonitor_update_schema(id,label='charges',schema_class='continuous',schema_type=\"prediction_output\",selected=False)\n",
    "api.modelmonitor_update_schema(id,label='unique_id',schema_class='continuous',schema_type=\"row_id\",selected=False)\n",
    "api.modelmonitor_update_schema(id,label='timestamp',schema_class='continuous',schema_type=\"timestamp\",selected=False)\n",
    "\n",
    "## age and bmi to continuous\n",
    "api.modelmonitor_update_schema(id,label='age',schema_class='continuous',schema_type='input_feature',selected=True)\n",
    "api.modelmonitor_update_schema(id,label='bmi',schema_class='continuous',schema_type='input_feature',selected=True)\n",
    "\n",
    "## select these features\n",
    "api.modelmonitor_update_schema(id,label='sex',schema_type='input_feature',schema_class='categorical',selected=True)\n",
    "api.modelmonitor_update_schema(id,label='children',schema_type='input_feature',schema_class='categorical',selected=True)\n",
    "api.modelmonitor_update_schema(id,label='smoker',schema_type='input_feature',schema_class='categorical',selected=True)\n",
    "api.modelmonitor_update_schema(id,label='region',schema_type='input_feature',schema_class='categorical',selected=True)"
   ]
  },
  {
   "cell_type": "markdown",
   "metadata": {},
   "source": [
    "### Add alerts"
   ]
  },
  {
   "cell_type": "code",
   "execution_count": null,
   "metadata": {},
   "outputs": [],
   "source": [
    "alert = DkubeModelmonitoralert(name='age_alert')\n",
    "alert.update_alert(alert_class = 'feature_drift',feature='age',threshold=0.02)\n",
    "api.modelmonitor_add_alert(id,alert)"
   ]
  },
  {
   "cell_type": "markdown",
   "metadata": {},
   "source": [
    "### Start the model monitor"
   ]
  },
  {
   "cell_type": "code",
   "execution_count": null,
   "metadata": {},
   "outputs": [],
   "source": [
    "api.modelmonitor_start(id)"
   ]
  },
  {
   "cell_type": "markdown",
   "metadata": {},
   "source": [
    "### Retraining / Rebaselining Model Monitor"
   ]
  },
  {
   "cell_type": "code",
   "execution_count": null,
   "metadata": {},
   "outputs": [],
   "source": [
    "id = api.modelmonitor_get_id(d3_config['MONITOR_NAME'])\n",
    "\n",
    "if d3_config['INPUT_TRAIN_TYPE'] == 'retraining':\n",
    "    api.modelmonitor_stop(id)\n",
    "    \n",
    "    training_data = f\"{d3_config['RETRAINING_DATASET']}:\"+DKUBEUSERNAME\n",
    "    data_dict = api.get_dataset_versions(d3_config['DKUBEUSERNAME'],\n",
    "                                         d3_config['RETRAINING_DATASET'])[0]['version']\n",
    "    train_data_version = data_dict['name']+\":\"+data_dict['uuid']\n",
    "    \n",
    "    mm=DkubeModelmonitor(id)\n",
    "    mm.update_datasources(name=training_data,data_class=str(DatasetClass.Train),version=train_data_version)\n",
    "    api.modelmonitor_update(id,mm)\n",
    "    \n",
    "    ### Start the model monitor\n",
    "    api.modelmonitor_start(id)"
   ]
  },
  {
   "cell_type": "markdown",
   "metadata": {},
   "source": [
    "### Cleanup"
   ]
  },
  {
   "cell_type": "code",
   "execution_count": null,
   "metadata": {},
   "outputs": [],
   "source": [
    "CLEANUP = False\n",
    "if CLEANUP:\n",
    "    from time import sleep\n",
    "    RETRIES = 4\n",
    "    while RETRIES:\n",
    "        mm = api.modelmonitor_get(id)\n",
    "        if mm[\"status\"] and mm[\"status\"][\"state\"].lower() != \"active\":\n",
    "            break\n",
    "        elif mm[\"status\"] and mm[\"status\"][\"state\"].lower() == \"active\":\n",
    "            api.modelmonitor_stop(id)\n",
    "        RETRIES -= 1\n",
    "        sleep(5)\n",
    "    else:\n",
    "        raise TimeoutError(\"modelmonitor failed to stopped\")\n",
    "    api.modelmonitor_delete(id) "
   ]
  },
  {
   "cell_type": "code",
   "execution_count": null,
   "metadata": {},
   "outputs": [],
   "source": []
  }
 ],
 "metadata": {
  "kernelspec": {
   "display_name": "Python 3",
   "language": "python",
   "name": "python3"
  },
  "language_info": {
   "codemirror_mode": {
    "name": "ipython",
    "version": 3
   },
   "file_extension": ".py",
   "mimetype": "text/x-python",
   "name": "python",
   "nbconvert_exporter": "python",
   "pygments_lexer": "ipython3",
   "version": "3.6.8"
  }
 },
 "nbformat": 4,
 "nbformat_minor": 4
}
