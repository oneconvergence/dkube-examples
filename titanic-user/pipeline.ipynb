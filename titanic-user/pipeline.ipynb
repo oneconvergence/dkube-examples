{
 "cells": [
  {
   "cell_type": "code",
   "execution_count": null,
   "metadata": {},
   "outputs": [],
   "source": [
    "import sys\n",
    "!{sys.executable} -m pip install kfp >/dev/null"
   ]
  },
  {
   "cell_type": "code",
   "execution_count": null,
   "metadata": {},
   "outputs": [],
   "source": [
    "import os, json\n",
    "import kfp\n",
    "import kfp.compiler as compiler\n",
    "import random\n",
    "import string\n",
    "\n",
    "generate = lambda hint: \"{}-{}\".format(hint, ''.join([random.choice(string.digits) for n in range(4)]))"
   ]
  },
  {
   "cell_type": "code",
   "execution_count": null,
   "metadata": {},
   "outputs": [],
   "source": [
    "existing_token = os.getenv(\"DKUBE_USER_ACCESS_TOKEN\")\n",
    "client = kfp.Client(existing_token=existing_token)"
   ]
  },
  {
   "cell_type": "markdown",
   "metadata": {},
   "source": [
    "# Input and output parameters for the pipeline run"
   ]
  },
  {
   "cell_type": "code",
   "execution_count": null,
   "metadata": {},
   "outputs": [],
   "source": [
    "# Project owner resources\n",
    "project_id = os.getenv(\"DKUBE_PROJECT_ID\")\n",
    "project_owner = os.getenv(\"DKUBE_PROJECT_OWNER\")\n",
    "project_name = os.getenv(\"DKUBE_PROJECT_NAME\")\n",
    "ptrain_dataset = 'titanic-train-ds'\n",
    "ptest_dataset = 'titanic-test-ds'\n",
    "\n",
    "assert project_id != \"\", \"Please launch IDE under project or set above variables manually\"\n",
    "\n",
    "# User specific resources\n",
    "train_fs = f\"titanic-train-fs-{project_owner}\"\n",
    "test_fs = f\"titanic-test-fs-{project_owner}\"\n",
    "training_program = 'titanic-code-user'\n",
    "model = 'titanic-model-user'\n",
    "\n",
    "# Program specific variables\n",
    "image = \"docker.io/ocdr/dkube-datascience-tf-cpu:v2.0.0\"\n",
    "dataset_mount_points = [\"/opt/dkube/input/train\", \"/opt/dkube/input/test\"]\n",
    "output_featureset_mount_points = [\"/opt/dkube/output/train\", \"/opt/dkube/output/test\"]\n",
    "preprocessing_script = f\"python preprocessing.py --train_fs {train_fs} --test_fs {test_fs}\"\n",
    "training_script = f\"python training.py --train_fs {train_fs}\"\n",
    "predict_script = \"python predict.py\"\n",
    "train_inp_mount_points = [\"/titanic-train\",\"/titanic-test\"]\n",
    "train_out_mount_points = [\"/model\"]\n",
    "\n",
    "user = os.getenv('USERNAME')"
   ]
  },
  {
   "cell_type": "markdown",
   "metadata": {},
   "source": [
    "# Loading components"
   ]
  },
  {
   "cell_type": "code",
   "execution_count": null,
   "metadata": {},
   "outputs": [],
   "source": [
    "components_url = \"/mnt/dkube/pipeline/components/\"\n",
    "dkube_preprocessing_op = kfp.components.load_component_from_file(components_url + \"preprocess/component.yaml\")\n",
    "dkube_training_op = kfp.components.load_component_from_file(components_url + \"training/component.yaml\")\n",
    "dkube_job_op  = kfp.components.load_component_from_file(components_url + \"job/component.yaml\")\n",
    "dkube_submit_op = kfp.components.load_component_from_file(components_url + \"submit/component.yaml\")"
   ]
  },
  {
   "cell_type": "markdown",
   "metadata": {},
   "source": [
    "# Pipeline Definition"
   ]
  },
  {
   "cell_type": "code",
   "execution_count": null,
   "metadata": {},
   "outputs": [],
   "source": [
    "@kfp.dsl.pipeline(\n",
    "    name='dkube-titanic-pl',\n",
    "    description='example titanic pipeline to submit to leaderboard'\n",
    ")\n",
    "def titanic_pipeline(token, project_id):\n",
    "\n",
    "    preprocessing = dkube_preprocessing_op(token, json.dumps({\"image\": image}),\n",
    "                                           tags=json.dumps([f\"project:{project_id}\"]),\n",
    "                                           program=training_program, run_script=preprocessing_script,\n",
    "                                           datasets=json.dumps([ptrain_dataset, ptest_dataset]), \n",
    "                                           output_featuresets=json.dumps([train_fs, test_fs]),\n",
    "                                           input_dataset_mounts=json.dumps(dataset_mount_points), \n",
    "                                           output_featureset_mounts=json.dumps(output_featureset_mount_points)\n",
    "                                            ).set_display_name(\"Preprocessing\")\n",
    "\n",
    "    train       = dkube_training_op(token, json.dumps({\"image\": image}),\n",
    "                                    tags=json.dumps([f\"project:{project_id}\"]),\n",
    "                                    framework=\"sklearn\", version=\"0.23.2\",\n",
    "                                    program=training_program, run_script=training_script,\n",
    "                                    featuresets=json.dumps([train_fs, test_fs]), outputs=json.dumps([model]),\n",
    "                                    input_featureset_mounts=json.dumps(train_inp_mount_points),\n",
    "                                    output_mounts=json.dumps(train_out_mount_points)).after(preprocessing).set_display_name(\"Training\")\n",
    "\n",
    "\n",
    "    predict_op = dkube_job_op(\n",
    "        \"predict\", token, json.dumps({\"image\": image}),\n",
    "        tags=json.dumps([f\"project:{project_id}\"]),\n",
    "        program=training_program, run_script=predict_script,\n",
    "        featuresets=json.dumps([test_fs]),input_featureset_mounts=json.dumps([\"/data\"]),\n",
    "        models=json.dumps([model]), input_model_mounts=json.dumps([\"/model\"]),\n",
    "        file_outputs={\"output\": \"/output/prediction.csv\"},\n",
    "    ).after(train).set_display_name(\"Predict\")\n",
    "\n",
    "    predictions = kfp.dsl.InputArgumentPath(predict_op.outputs[\"output\"])\n",
    "\n",
    "    submit = dkube_submit_op(token, project_id, predictions=predict_op.outputs[\"output\"]).after(predict_op).set_display_name(\"Submit\")"
   ]
  },
  {
   "cell_type": "markdown",
   "metadata": {},
   "source": [
    "# Compling pipeline into tar file"
   ]
  },
  {
   "cell_type": "code",
   "execution_count": null,
   "metadata": {},
   "outputs": [],
   "source": [
    "pl_file_name = 'train_pl.tar.gz'\n",
    "pl_name = f'[{project_name}]' + f'-{user}-' + generate('pl') \n",
    "\n",
    "compiler.Compiler().compile(titanic_pipeline, pl_file_name)\n",
    "# Upload this generated tarball into the Pipelines UI"
   ]
  },
  {
   "cell_type": "markdown",
   "metadata": {},
   "source": [
    "# Creating experiment"
   ]
  },
  {
   "cell_type": "code",
   "execution_count": null,
   "metadata": {},
   "outputs": [],
   "source": [
    "experiment_name = f'[{project_name}]' + f'-{user}-' + 'exp'\n",
    "try:\n",
    "    titanic_experiment = client.create_experiment(name=experiment_name)\n",
    "except BaseException as e:\n",
    "    print(e)"
   ]
  },
  {
   "cell_type": "markdown",
   "metadata": {},
   "source": [
    "# Uploading Pipeline"
   ]
  },
  {
   "cell_type": "code",
   "execution_count": null,
   "metadata": {},
   "outputs": [],
   "source": [
    "client = kfp.Client(existing_token=existing_token)\n",
    "try:\n",
    "    pipeline = client.upload_pipeline(pipeline_package_path = pl_file_name, \n",
    "                                  pipeline_name = pl_name, description = None)\n",
    "except BaseException as e:\n",
    "    print(e)"
   ]
  },
  {
   "cell_type": "markdown",
   "metadata": {},
   "source": [
    "# Creating run from pipeline under the titanic experiment"
   ]
  },
  {
   "cell_type": "code",
   "execution_count": null,
   "metadata": {},
   "outputs": [],
   "source": [
    "run_name = f\"[{project_name}]\" + f'-{user}-' + generate(\"run\")\n",
    "try:\n",
    "    run = client.run_pipeline(titanic_experiment.id, run_name, pipeline_id=pipeline.id,\n",
    "                              params={\"token\":existing_token, \"project_id\":project_id})\n",
    "except BaseException as e:\n",
    "    print(e)\n"
   ]
  },
  {
   "cell_type": "code",
   "execution_count": null,
   "metadata": {},
   "outputs": [],
   "source": []
  }
 ],
 "metadata": {
  "kernelspec": {
   "display_name": "Python 3",
   "language": "python",
   "name": "python3"
  },
  "language_info": {
   "codemirror_mode": {
    "name": "ipython",
    "version": 3
   },
   "file_extension": ".py",
   "mimetype": "text/x-python",
   "name": "python",
   "nbconvert_exporter": "python",
   "pygments_lexer": "ipython3",
   "version": "3.6.8"
  }
 },
 "nbformat": 4,
 "nbformat_minor": 4
}
