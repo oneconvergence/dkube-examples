{
 "cells": [
  {
   "cell_type": "markdown",
   "metadata": {},
   "source": [
    "### DATA GENERATION"
   ]
  },
  {
   "cell_type": "code",
   "execution_count": null,
   "metadata": {},
   "outputs": [],
   "source": [
    "%store -r\n",
    "import pandas as pd\n",
    "from io import StringIO\n",
    "import io,random,datetime,boto3,sagemaker,os,time,json"
   ]
  },
  {
   "cell_type": "code",
   "execution_count": null,
   "metadata": {},
   "outputs": [],
   "source": [
    "os.environ[\"AWS_ACCESS_KEY_ID\"] = ACCESS_KEY\n",
    "os.environ[\"AWS_SECRET_ACCESS_KEY\"] = SECRET_KEY\n",
    "os.environ[\"AWS_DEFAULT_REGION\"] = REGION_NAME\n",
    "\n",
    "boto_session = boto3.session.Session(aws_access_key_id=ACCESS_KEY,aws_secret_access_key=SECRET_KEY,region_name=REGION_NAME)\n",
    "sagemaker_session = sagemaker.Session(boto_session)"
   ]
  },
  {
   "cell_type": "code",
   "execution_count": null,
   "metadata": {},
   "outputs": [],
   "source": [
    "def save_dataset_to_s3(data, monitor_name, name, typeofdata):\n",
    "    file_name = name + \".csv\"\n",
    "    data_dir = os.path.join(\n",
    "        monitor_name,\n",
    "        typeofdata\n",
    "    )\n",
    "    file_path = os.path.join(data_dir, file_name)\n",
    "    with io.StringIO() as csv_buffer:\n",
    "        data.to_csv(csv_buffer, index=False)\n",
    "\n",
    "        response =  boto3.client(\"s3\").put_object(\n",
    "            Bucket=BUCKET, Key=file_path, Body=csv_buffer.getvalue()\n",
    "        )\n",
    "        status = response.get(\"ResponseMetadata\", {}).get(\"HTTPStatusCode\")\n",
    "\n",
    "        if status == 200:\n",
    "            print(f\"Successful S3 put_object response. Status - {status}\")\n",
    "            print(file_path)\n",
    "        else:\n",
    "            print(f\"Unsuccessful S3 put_object response. Status - {status}\")\n"
   ]
  },
  {
   "cell_type": "markdown",
   "metadata": {},
   "source": [
    "### Invoke Endpoint"
   ]
  },
  {
   "cell_type": "code",
   "execution_count": null,
   "metadata": {},
   "outputs": [],
   "source": [
    "count = 1\n",
    "while True:\n",
    "    dataframe = pd.read_csv('insurance.csv')\n",
    "    dataframe = dataframe.iloc[1:,0:7]\n",
    "    no_of_samples = random.randint(10,15)\n",
    "    sample_df = dataframe.sample(no_of_samples)\n",
    "    labels = sample_df[\"charges\"]\n",
    "    sample_df = sample_df.drop([\"charges\"],axis=1)\n",
    "    csv_file = io.StringIO()\n",
    "    # by default sagemaker expects comma seperated\n",
    "    sample_df.to_csv(csv_file, sep=\",\", header=False, index=False)\n",
    "    my_payload_as_csv = csv_file.getvalue()\n",
    "    print(\"Invoking endpoint....\")\n",
    "    predictor = sagemaker.predictor.Predictor(\n",
    "               endpoint_name, \n",
    "               sagemaker_session=sagemaker_session,\n",
    "               serializer=sagemaker.serializers.CSVSerializer(),\n",
    "               ContentType=\"text/csv\")                                                           \n",
    "    response=predictor.predict(my_payload_as_csv)\n",
    "    \n",
    "    start = datetime.datetime.utcnow()\n",
    "    end = start + datetime.timedelta(seconds=10)\n",
    "    predictions = json.loads(response.decode(\"utf-8\"))\n",
    "    timestamps = pd.date_range(start, end, len(labels))\n",
    "    labelled_df = pd.DataFrame({\n",
    "        \"timestamp\": timestamps,\n",
    "        \"charges\": predictions,\n",
    "        \"GT_Target\": labels\n",
    "    })\n",
    "    gtfilename = str(count) +\"_GTdata\"\n",
    "    gt_data = pd.concat([sample_df, labelled_df], axis=1, join='inner')\n",
    "    save_dataset_to_s3(gt_data, DEPLOYMENT_NAME, gtfilename, \"groundtruth\")\n",
    "    count = count +1\n",
    "    time.sleep(60)"
   ]
  },
  {
   "cell_type": "code",
   "execution_count": null,
   "metadata": {},
   "outputs": [],
   "source": []
  }
 ],
 "metadata": {
  "kernelspec": {
   "display_name": "Python 3",
   "language": "python",
   "name": "python3"
  },
  "language_info": {
   "codemirror_mode": {
    "name": "ipython",
    "version": 3
   },
   "file_extension": ".py",
   "mimetype": "text/x-python",
   "name": "python",
   "nbconvert_exporter": "python",
   "pygments_lexer": "ipython3",
   "version": "3.6.8"
  }
 },
 "nbformat": 4,
 "nbformat_minor": 4
}
