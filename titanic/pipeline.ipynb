{
 "cells": [
  {
   "cell_type": "code",
   "execution_count": null,
   "metadata": {},
   "outputs": [],
   "source": [
    "import os,sys\n",
    "import kfp"
   ]
  },
  {
   "cell_type": "code",
   "execution_count": null,
   "metadata": {},
   "outputs": [],
   "source": [
    "components_url = \"/mnt/dkube/pipeline/components/\"\n",
    "dkube_training_op = kfp.components.load_component_from_file(components_url + \"training/component.yaml\")\n",
    "dkube_serving_op = kfp.components.load_component_from_file(components_url + \"serving/component.yaml\")\n",
    "token = os.getenv(\"DKUBE_USER_ACCESS_TOKEN\")\n",
    "client = kfp.Client(existing_token=token)"
   ]
  },
  {
   "cell_type": "code",
   "execution_count": null,
   "metadata": {},
   "outputs": [],
   "source": [
    "@kfp.dsl.pipeline(\n",
    "    name='dkube-titanic-pl',\n",
    "    description='sample titanic pipeline with dkube components'\n",
    ")\n",
    "def titanic_pipeline(token):\n",
    "    train       = dkube_training_op(auth_token = token,container = '{\"image\":\"ocdr/d3-datascience-sklearn:v0.23.2-1\"}',\n",
    "                                    framework=\"sklearn\", version=\"0.23.2\",\n",
    "                                    program=\"sklearn-examples\", run_script=\"python titanic/train.py\",\n",
    "                                    datasets='[\"titanic\"]', outputs='[\"titanic\"]',\n",
    "                                    input_dataset_mounts='[\"/titanic\"]',\n",
    "                                    output_mounts='[\"/model\"]',\n",
    "                                    envs='[{\"EPOCHS\": \"1\"}]')\n",
    "\n",
    "    serving     = dkube_serving_op(auth_token = token, model = train.outputs['artifact'], device='cpu', \n",
    "                                    serving_image='{\"image\":\"ocdr/sklearnserver:0.23.2\"}',\n",
    "                                    transformer_image='{\"image\":\"ocdr/d3-datascience-sklearn:v0.23.2-1\"}',\n",
    "                                    transformer_project=\"sklearn-examples\",\n",
    "                                    transformer_code='titanic/transformer.py').after(train)"
   ]
  },
  {
   "cell_type": "code",
   "execution_count": null,
   "metadata": {},
   "outputs": [],
   "source": [
    "client.create_run_from_pipeline_func(titanic_pipeline, arguments={\"token\":token})"
   ]
  },
  {
   "cell_type": "code",
   "execution_count": null,
   "metadata": {},
   "outputs": [],
   "source": [
    "#kfp.compiler.Compiler().compile(titanic_pipeline, \"titanic_pipeline.zip\")"
   ]
  }
 ],
 "metadata": {
  "kernelspec": {
   "display_name": "Python 3",
   "language": "python",
   "name": "python3"
  },
  "language_info": {
   "codemirror_mode": {
    "name": "ipython",
    "version": 3
   },
   "file_extension": ".py",
   "mimetype": "text/x-python",
   "name": "python",
   "nbconvert_exporter": "python",
   "pygments_lexer": "ipython3",
   "version": "3.6.8"
  }
 },
 "nbformat": 4,
 "nbformat_minor": 4
}
