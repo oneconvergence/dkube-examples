{
 "cells": [
  {
   "cell_type": "code",
   "execution_count": null,
   "metadata": {},
   "outputs": [],
   "source": [
    "import sys\n",
    "!{sys.executable} -m pip install kfp==1.4.0 kfp-server-api==1.2.0 >/dev/null\n"
   ]
  },
  {
   "cell_type": "code",
   "execution_count": null,
   "metadata": {},
   "outputs": [],
   "source": [
    "import os\n",
    "import random\n",
    "import string\n",
    "import json\n",
    "import kfp\n",
    "import kfp.dsl as dsl\n",
    "import kfp.compiler as compiler\n",
    "from kfp import components\n",
    "from kubernetes import client as k8s_client"
   ]
  },
  {
   "cell_type": "code",
   "execution_count": null,
   "metadata": {},
   "outputs": [],
   "source": [
    "dkube_training_op           = components.load_component_from_file(\"/mnt/dkube/pipeline/components/training/component.yaml\")\n",
    "dkube_serving_op            = components.load_component_from_file(\"/mnt/dkube/pipeline/components/serving/component.yaml\")"
   ]
  },
  {
   "cell_type": "code",
   "execution_count": null,
   "metadata": {},
   "outputs": [],
   "source": [
    "image = \"ocdr/d3-datascience-pytorch-cpu:v1.6\"\n",
    "serving_image = \"ocdr/pytorchserver:1.6\"\n",
    "training_program = \"Img-DN\"\n",
    "dataset = \"Img-DN\"\n",
    "model = \"Img-DN\"\n",
    "training_script = \"python image-denoising/model-care.py\"\n",
    "transformer_code=\"image-denoising/transformer.py\"\n",
    "user = os.getenv('USERNAME')\n",
    "framework = \"pytorch\"\n",
    "f_version =  \"1.6\"\n",
    "output_mount_point = \"/opt/dkube/output/\"\n",
    "input_mount_point = \"/opt/dkube/input/\""
   ]
  },
  {
   "cell_type": "code",
   "execution_count": null,
   "metadata": {},
   "outputs": [],
   "source": [
    "@kfp.dsl.pipeline(\n",
    "    name='Img-Denoising',\n",
    "    description='IMAGE-DENOISING EXAMPLE'\n",
    ")\n",
    "def image_denoising_pipeline(token):\n",
    "    \n",
    "        train       = dkube_training_op(auth_token = token, container = json.dumps({\"image\": image}),\n",
    "                                    framework=framework, version=f_version,\n",
    "                                    program=training_program, run_script=training_script,\n",
    "                                    datasets=json.dumps([dataset]), outputs=json.dumps([model]),\n",
    "                                    input_dataset_mounts=json.dumps([input_mount_point]),\n",
    "                                    output_mounts=json.dumps([output_mount_point]))\n",
    "\n",
    "       \n",
    "        serving     = dkube_serving_op(auth_token = token, model = train.outputs['artifact'], device='cpu', \n",
    "                                    serving_image=json.dumps({\"image\": serving_image}),\n",
    "                                    transformer_image=json.dumps({\"image\": image}),\n",
    "                                    transformer_project=training_program,\n",
    "                                    transformer_code=transformer_code).after(train)"
   ]
  },
  {
   "cell_type": "markdown",
   "metadata": {},
   "source": [
    "### Create a Run"
   ]
  },
  {
   "cell_type": "code",
   "execution_count": null,
   "metadata": {},
   "outputs": [],
   "source": [
    "existing_token = os.getenv(\"DKUBE_USER_ACCESS_TOKEN\")\n",
    "client = kfp.Client(existing_token=existing_token)\n",
    "client.create_run_from_pipeline_func(image_denoising_pipeline, arguments={\"token\":existing_token})"
   ]
  },
  {
   "cell_type": "markdown",
   "metadata": {},
   "source": [
    "### Compile and generate tar ball"
   ]
  },
  {
   "cell_type": "code",
   "execution_count": null,
   "metadata": {},
   "outputs": [],
   "source": [
    "# compile\n",
    "import tempfile\n",
    "f = tempfile.NamedTemporaryFile(suffix=\".zip\", delete=False)\n",
    "kfp.compiler.Compiler().compile(image_denoising_pipeline,f.name)"
   ]
  },
  {
   "cell_type": "markdown",
   "metadata": {},
   "source": [
    "### Upload pipeline"
   ]
  },
  {
   "cell_type": "code",
   "execution_count": null,
   "metadata": {},
   "outputs": [],
   "source": [
    "pipeline_id = client.get_pipeline_id(\"Img-Denoising\")\n",
    "\n",
    "if(pipeline_id != None):\n",
    "    pipeline_version = ''.join(random.choices(string.ascii_uppercase + string.digits, k = 7))\n",
    "    new_pipeline = client.upload_pipeline_version(f.name,pipeline_version_name = pipeline_version, pipeline_id = pipeline_id)\n",
    "else:\n",
    "    pipeline = client.upload_pipeline(f.name, pipeline_name=\"Img-Denoising\")\n"
   ]
  },
  {
   "cell_type": "code",
   "execution_count": null,
   "metadata": {},
   "outputs": [],
   "source": []
  }
 ],
 "metadata": {
  "kernelspec": {
   "display_name": "Python 3",
   "language": "python",
   "name": "python3"
  },
  "language_info": {
   "codemirror_mode": {
    "name": "ipython",
    "version": 3
   },
   "file_extension": ".py",
   "mimetype": "text/x-python",
   "name": "python",
   "nbconvert_exporter": "python",
   "pygments_lexer": "ipython3",
   "version": "3.8.5"
  }
 },
 "nbformat": 4,
 "nbformat_minor": 4
}
