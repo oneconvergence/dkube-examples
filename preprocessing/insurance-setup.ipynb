{
 "cells": [
  {
   "attachments": {},
   "cell_type": "markdown",
   "metadata": {},
   "source": [
    "### Checking and upgrading the DKube SDK"
   ]
  },
  {
   "cell_type": "code",
   "execution_count": null,
   "metadata": {},
   "outputs": [],
   "source": [
    "import pkg_resources, sys\n",
    "try:\n",
    "    dkube_sdk_version = float(pkg_resources.get_distribution(\"dkube\").version)\n",
    "except:\n",
    "    dkube_sdk_version = 0 ## means the dkube sdk is not installed\n",
    "if dkube_sdk_version < 3.7:\n",
    "    !{sys.executable} -m pip install  git+https://github.com/oneconvergence/dkube.git@3.7 --user >/dev/null\n",
    "%reset -f"
   ]
  },
  {
   "attachments": {},
   "cell_type": "markdown",
   "metadata": {},
   "source": [
    "### DKube Resources"
   ]
  },
  {
   "cell_type": "code",
   "execution_count": null,
   "metadata": {},
   "outputs": [],
   "source": [
    "import time,json\n",
    "from dkube.sdk import *\n",
    "import os\n",
    "from urllib.parse import urlparse\n",
    "\n",
    "# Set up font definitions for output\n",
    "class style:\n",
    "   RED = '\\033[91m\\033[1m'\n",
    "   BOLD = '\\033[1m'\n",
    "   END = '\\033[0m'\n",
    "\n",
    "## Assign the username & token for access to the serving cluster\n",
    "DKUBE_USERNAME = os.environ.get(\"DKUBE_USER_LOGIN_NAME\")\n",
    "DKUBE_TOKEN = os.environ.get(\"DKUBE_USER_ACCESS_TOKEN\") \n",
    "DKUBE_URL = os.environ.get(\"DKUBE_URL\")"
   ]
  },
  {
   "attachments": {},
   "cell_type": "markdown",
   "metadata": {},
   "source": [
    "### User-Defined Variables"
   ]
  },
  {
   "cell_type": "code",
   "execution_count": null,
   "metadata": {},
   "outputs": [],
   "source": [
    "## fill in the name for your Code, Dataset, & Model repos here\n",
    "\n",
    "CODE_REPO_NAME = \"insurance-pre\"\n",
    "DATASET_REPO_NAME = \"insurance-pre\"\n",
    "MODEL_REPO_NAME = \"insurance-pre\""
   ]
  },
  {
   "cell_type": "markdown",
   "metadata": {},
   "source": [
    "### Create Dataset & Model"
   ]
  },
  {
   "cell_type": "code",
   "execution_count": null,
   "metadata": {},
   "outputs": [],
   "source": [
    "# URL for the training dataset\n",
    "DKUBE_DATASET_URL = \"https://dkube-examples-data.s3.us-west-2.amazonaws.com/monitoring-insurance/training-data/insurance.csv\"\n",
    "\n",
    "# Create the DKube api variable\n",
    "dkube_api = DkubeApi(URL=DKUBE_URL,token=DKUBE_TOKEN)\n",
    "\n",
    "# Create Dataset\n",
    "try:\n",
    "    print(f\"{style.BOLD}Creating Dataset \\\"{DATASET_REPO_NAME}\\\"\")\n",
    "    dataset = DkubeDataset(DKUBE_USERNAME, name=DATASET_REPO_NAME)\n",
    "    dataset.update_dataset_source(source=\"pub_url\")\n",
    "    dataset.update_puburl_details(url=DKUBE_DATASET_URL, extract=\"False\")\n",
    "    dkube_api.create_dataset(dataset)\n",
    "except Exception as e:\n",
    "    if e.reason.lower()!=\"conflict\":\n",
    "        response = e.body\n",
    "        print(f\"Failed[{response.code}]: {response.message}\")\n",
    "    else:\n",
    "        print(f\"{style.BOLD}Training Dataset \\\"{DATASET_REPO_NAME}\\\" exists\")\n",
    "\n",
    "# Create Model\n",
    "print(f\"{style.BOLD}Creating Model \\\"{MODEL_REPO_NAME}\\\"\")\n",
    "try:\n",
    "    model = DkubeModel(DKUBE_USERNAME, name=MODEL_REPO_NAME)\n",
    "    model.update_model_source(source='dvs')\n",
    "    dkube_api.create_model(model)\n",
    "except Exception as e:\n",
    "    if e.reason:\n",
    "        if e.reason.lower() != \"conflict\":\n",
    "            response = e.body\n",
    "            print(f\"Failed[{response.code}]: {response.message}\")\n",
    "        else:\n",
    "            print(f\"{style.BOLD}Model \\\"{MODEL_REPO_NAME}\\\" exists\")\n",
    "    else:\n",
    "        raise e"
   ]
  },
  {
   "cell_type": "markdown",
   "metadata": {},
   "source": [
    "### Save the configuration info"
   ]
  },
  {
   "cell_type": "code",
   "execution_count": null,
   "metadata": {},
   "outputs": [],
   "source": [
    "image_exp_config = {\"DKUBE_USERNAME\":DKUBE_USERNAME,\n",
    "                    \"DKUBE_TOKEN\":DKUBE_TOKEN, \n",
    "                    \"CODE_REPO_NAME\":CODE_REPO_NAME,\n",
    "                    \"DATASET_REPO_NAME\":DATASET_REPO_NAME,\n",
    "                    \"MODEL_REPO_NAME\":MODEL_REPO_NAME,\n",
    "                    \"DKUBE_URL\":DKUBE_URL}\n",
    "%store image_exp_config"
   ]
  }
 ],
 "metadata": {
  "language_info": {
   "name": "python"
  },
  "orig_nbformat": 4
 },
 "nbformat": 4,
 "nbformat_minor": 2
}
