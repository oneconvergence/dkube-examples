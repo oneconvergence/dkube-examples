{
 "cells": [
  {
   "cell_type": "code",
   "execution_count": null,
   "metadata": {},
   "outputs": [],
   "source": [
    "import sys\n",
    "!{sys.executable} -m pip install kfp >/dev/null"
   ]
  },
  {
   "cell_type": "code",
   "execution_count": null,
   "metadata": {},
   "outputs": [],
   "source": [
    "import os, json\n",
    "import kfp\n",
    "import kfp.compiler as compiler"
   ]
  },
  {
   "cell_type": "code",
   "execution_count": null,
   "metadata": {},
   "outputs": [],
   "source": [
    "existing_token = os.getenv(\"DKUBE_USER_ACCESS_TOKEN\")\n",
    "client = kfp.Client(existing_token=existing_token)"
   ]
  },
  {
   "cell_type": "markdown",
   "metadata": {},
   "source": [
    "# Input and output parameters for the pipeline run"
   ]
  },
  {
   "cell_type": "code",
   "execution_count": null,
   "metadata": {},
   "outputs": [],
   "source": [
    "# Project owner resources\n",
    "project_id = \"pjti25\"\n",
    "project_owner = \"ocdkube\"\n",
    "project_name = f\"titanic-{project_owner}\"\n",
    "ptrain_dataset = 'titanic-train-ds'\n",
    "ptest_dataset = 'titanic-test-ds'\n",
    "\n",
    "# User specific resources\n",
    "train_fs = f\"titanic-train-fs-{project_owner}\"\n",
    "test_fs = f\"titanic-test-fs-{project_owner}\"\n",
    "training_program = 'titanic-code-user'\n",
    "model = 'titanic-model-user'\n",
    "\n",
    "# Program specific variables\n",
    "image = \"docker.io/ocdr/dkube-datascience-tf-cpu:v2.0.0\"\n",
    "dataset_mount_points = [\"/opt/dkube/input/train\", \"/opt/dkube/input/test\"]\n",
    "output_featureset_mount_points = [\"/opt/dkube/output/train\", \"/opt/dkube/output/test\"]\n",
    "preprocessing_script = f\"python preprocessing.py --train_fs {train_fs} --test_fs {test_fs}\"\n",
    "training_script = f\"python training.py --train_fs {train_fs}\"\n",
    "train_inp_mount_points = [\"/titanic-train\",\"/titanic-test\"]\n",
    "train_out_mount_points = [\"/model\"]\n",
    "\n",
    "user = os.getenv('USERNAME')"
   ]
  },
  {
   "cell_type": "markdown",
   "metadata": {},
   "source": [
    "# Loading components"
   ]
  },
  {
   "cell_type": "code",
   "execution_count": null,
   "metadata": {},
   "outputs": [],
   "source": [
    "components_url = \"https://raw.githubusercontent.com/oneconvergence/dkube/master/components/\"\n",
    "dkube_preprocessing_op = kfp.components.load_component_from_url(components_url + \"preprocess/component.yaml\")\n",
    "dkube_training_op = kfp.components.load_component_from_url(components_url + \"training/component.yaml\")\n",
    "runid = 0"
   ]
  },
  {
   "cell_type": "markdown",
   "metadata": {},
   "source": [
    "# Pipeline Definition"
   ]
  },
  {
   "cell_type": "code",
   "execution_count": null,
   "metadata": {},
   "outputs": [],
   "source": [
    "@kfp.dsl.pipeline(\n",
    "    name='dkube-titanic-pl',\n",
    "    description='example titanic pipeline to submit to leaderboard'\n",
    ")\n",
    "def titanic_pipeline(token, project_id):\n",
    "\n",
    "    preprocessing = dkube_preprocessing_op(token, json.dumps({\"image\": image}),\n",
    "                                           program=training_program, run_script=preprocessing_script,\n",
    "                                           datasets=json.dumps([ptrain_dataset, ptest_dataset]), \n",
    "                                           output_featuresets=json.dumps([train_fs, test_fs]),\n",
    "                                           input_dataset_mounts=json.dumps(dataset_mount_points), \n",
    "                                           output_featureset_mounts=json.dumps(output_featureset_mount_points)\n",
    "                                            )\n",
    "\n",
    "    train       = dkube_training_op(token, json.dumps({\"image\": image}),\n",
    "                                framework=\"sklearn\", version=\"0.23.2\",\n",
    "                                program=training_program, run_script=training_script,\n",
    "                                featuresets=json.dumps([train_fs, test_fs]), outputs=json.dumps([model]),\n",
    "                                input_featureset_mounts=json.dumps(train_inp_mount_points),\n",
    "                                output_mounts=json.dumps(train_out_mount_points)).after(preprocessing)"
   ]
  },
  {
   "cell_type": "markdown",
   "metadata": {},
   "source": [
    "# Compling pipeline into tar file"
   ]
  },
  {
   "cell_type": "code",
   "execution_count": null,
   "metadata": {},
   "outputs": [],
   "source": [
    "pl_file_name = 'titanic_pre_train_pl.tar.gz'\n",
    "pl_name = \"[titanic] pipeline demo\"\n",
    "compiler.Compiler().compile(titanic_pipeline, pl_file_name)\n",
    "# Upload this generated tarball into the Pipelines UI"
   ]
  },
  {
   "cell_type": "markdown",
   "metadata": {},
   "source": [
    "# Uploading Pipeline"
   ]
  },
  {
   "cell_type": "code",
   "execution_count": null,
   "metadata": {},
   "outputs": [],
   "source": [
    "client = kfp.Client(existing_token=existing_token)\n",
    "try:\n",
    "  client.upload_pipeline(pipeline_package_path = pl_file_name, pipeline_name = pl_name, description = None)\n",
    "except BaseException as e:\n",
    "    print(e)"
   ]
  },
  {
   "cell_type": "markdown",
   "metadata": {},
   "source": [
    "# Creating experiment"
   ]
  },
  {
   "cell_type": "code",
   "execution_count": null,
   "metadata": {},
   "outputs": [],
   "source": [
    "try:\n",
    "    titanic_experiment = client.create_experiment(name='[titanic] experiment')\n",
    "except BaseException as e:\n",
    "    print(e)"
   ]
  },
  {
   "cell_type": "markdown",
   "metadata": {},
   "source": [
    "# Creating run from pipeline under the titanic experiment"
   ]
  },
  {
   "cell_type": "code",
   "execution_count": null,
   "metadata": {},
   "outputs": [],
   "source": [
    "try:\n",
    "    run = client.run_pipeline(titanic_experiment.id, \"[titanic] Run\" + str(runid), pipeline_package_path='train_pl.tar.gz',\n",
    "                              params={\"token\":existing_token, \"project_id\":project_id})\n",
    "except BaseException as e:\n",
    "    print(e)\n",
    "runid += 1"
   ]
  },
  {
   "cell_type": "code",
   "execution_count": null,
   "metadata": {},
   "outputs": [],
   "source": [
    "# client = kfp.Client(existing_token=existing_token)\n",
    "# #Replace [titanic] & wprz8s with your project name and id respectively.\n",
    "# client.create_run_from_pipeline_func(titanic_pipeline, run_name=\"[titanic] Run\" + str(runid), arguments={\"token\":existing_token,\"project_id\":\"ynli7c\"}, experiment_name = titanic_experiment.name)\n",
    "# runid += 1"
   ]
  },
  {
   "cell_type": "code",
   "execution_count": null,
   "metadata": {},
   "outputs": [],
   "source": []
  }
 ],
 "metadata": {
  "kernelspec": {
   "display_name": "Python 3",
   "language": "python",
   "name": "python3"
  },
  "language_info": {
   "codemirror_mode": {
    "name": "ipython",
    "version": 3
   },
   "file_extension": ".py",
   "mimetype": "text/x-python",
   "name": "python",
   "nbconvert_exporter": "python",
   "pygments_lexer": "ipython3",
   "version": "3.6.8"
  }
 },
 "nbformat": 4,
 "nbformat_minor": 4
}
