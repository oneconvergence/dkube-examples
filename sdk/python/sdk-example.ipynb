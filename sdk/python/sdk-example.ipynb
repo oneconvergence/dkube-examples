{
 "cells": [
  {
   "cell_type": "code",
   "execution_count": null,
   "metadata": {},
   "outputs": [],
   "source": [
    "from dkube.sdk import *\n",
    "import os"
   ]
  },
  {
   "cell_type": "markdown",
   "metadata": {},
   "source": [
    "## Initializing feilds"
   ]
  },
  {
   "cell_type": "code",
   "execution_count": null,
   "metadata": {},
   "outputs": [],
   "source": [
    "user = os.getenv('USERNAME')\n",
    "token = os.getenv('DKUBE_USER_ACCESS_TOKEN')\n",
    "inp_path = \"/opt/dkube/input\"\n",
    "out_path = \"/opt/dkube/output\"\n",
    "code_name = \"mnist-fs\"\n",
    "dataset_name = \"mnist\"\n",
    "training_fs = \"mnist-fs\"\n",
    "model_name = \"mnist\"\n",
    "framework = \"tensorflow_1.14\"\n",
    "image = \"ocdr/d3-datascience-tf-cpu:v1.14-3\"\n",
    "preprocess_script = f\"python featureset.py --fs {training_fs}\"\n",
    "training_script = f\"python model.py --fs {training_fs}\"\n",
    "transformer_script = \"tf/classification/mnist-fs/digits/transformer/transformer.py\""
   ]
  },
  {
   "cell_type": "code",
   "execution_count": null,
   "metadata": {},
   "outputs": [],
   "source": [
    "# Dkube client handle\n",
    "api = DkubeApi(token=token)\n",
    "api.wait_interval = 20"
   ]
  },
  {
   "cell_type": "markdown",
   "metadata": {},
   "source": [
    "## Creating Repos"
   ]
  },
  {
   "cell_type": "code",
   "execution_count": null,
   "metadata": {},
   "outputs": [],
   "source": [
    "print(f\"Adding code {code_name}\")\n",
    "code = DkubeCode(user, name=code_name)\n",
    "code.update_git_details(\"https://github.com/oneconvergence/dkubeio-examples/tree/master/tf/classification/mnist-fs/digits/classifier/program\")\n",
    "try:\n",
    "    api.create_code(code)\n",
    "    print(f\"Code {code_name} added\")\n",
    "except BaseException as e:\n",
    "    print(e)\n",
    "\n",
    "print(f\"Adding dataset {dataset_name}\")\n",
    "dataset = DkubeDataset(user, name=dataset_name)\n",
    "dataset.update_dataset_source(source='git')\n",
    "dataset.update_git_details(\"https://github.com/oneconvergence/dkubeio-examples-data/tree/master/tf/mnist\")\n",
    "try:\n",
    "    api.create_dataset(dataset)\n",
    "    print(f\"Dataset {dataset_name} added\")\n",
    "except BaseException as e:\n",
    "    print(e)\n",
    "\n",
    "print(f\"Adding featureset {training_fs}\")\n",
    "featureset = DkubeFeatureSet(name=training_fs)\n",
    "try:\n",
    "    api.create_featureset(featureset)\n",
    "    print(f\"Featureset {training_fs} added\")\n",
    "except BaseException as e:\n",
    "    print(e)\n",
    "    \n",
    "print(f\"Adding model {model_name}\")\n",
    "model = DkubeModel(user, name=model_name)\n",
    "model.update_model_source(source='dvs')\n",
    "try:\n",
    "    api.create_model(model)\n",
    "    print(f\"Model {model_name} added\")\n",
    "except BaseException as e:\n",
    "    print(e)"
   ]
  },
  {
   "cell_type": "markdown",
   "metadata": {},
   "source": [
    "## Defining and Creating preprocessing run"
   ]
  },
  {
   "cell_type": "code",
   "execution_count": null,
   "metadata": {},
   "outputs": [],
   "source": [
    "preprocessing_name= generate(code_name)\n",
    "preprocessing = DkubePreprocessing(user, name=preprocessing_name, description='triggered from dkube sdk')\n",
    "preprocessing.update_container(image_url=image)\n",
    "preprocessing.update_startupscript(preprocess_script)\n",
    "preprocessing.add_code(code_name)\n",
    "preprocessing.add_input_dataset(dataset_name, mountpath=inp_path)\n",
    "preprocessing.add_output_featureset(training_fs, mountpath=out_path)"
   ]
  },
  {
   "cell_type": "code",
   "execution_count": null,
   "metadata": {},
   "outputs": [],
   "source": [
    "api.create_preprocessing_run(preprocessing)"
   ]
  },
  {
   "cell_type": "markdown",
   "metadata": {},
   "source": [
    "## Defining and Creating training run"
   ]
  },
  {
   "cell_type": "code",
   "execution_count": null,
   "metadata": {},
   "outputs": [],
   "source": [
    "training_name= generate(code_name)\n",
    "training = DkubeTraining(user, name=training_name, description='triggered from dkube sdk')\n",
    "training.update_container(framework=framework, image_url=image)\n",
    "training.update_startupscript(training_script)\n",
    "training.add_code(code_name)\n",
    "training.add_input_featureset(training_fs, mountpath=inp_path)\n",
    "training.add_output_model(model_name, mountpath=out_path)"
   ]
  },
  {
   "cell_type": "code",
   "execution_count": null,
   "metadata": {},
   "outputs": [],
   "source": [
    "api.create_training_run(training)"
   ]
  },
  {
   "cell_type": "markdown",
   "metadata": {},
   "source": [
    "## Fetching head version of model"
   ]
  },
  {
   "cell_type": "code",
   "execution_count": null,
   "metadata": {},
   "outputs": [],
   "source": [
    "for each_datum in api.list_models(user = user)[0][\"datums\"]:\n",
    "    if each_datum[\"datum\"][\"name\"] == model_name:\n",
    "        head_version = each_datum[\"datum\"][\"generated\"][\"head_version\"]\n",
    "        break"
   ]
  },
  {
   "cell_type": "code",
   "execution_count": null,
   "metadata": {},
   "outputs": [],
   "source": [
    "head_version"
   ]
  },
  {
   "cell_type": "markdown",
   "metadata": {},
   "source": [
    "## Defining and Creating inference from model head version"
   ]
  },
  {
   "cell_type": "code",
   "execution_count": null,
   "metadata": {},
   "outputs": [],
   "source": [
    "serving_name=generate(code_name)\n",
    "serving = DkubeServing(user, name=serving_name, description='serving deployed from dkube sdk')\n",
    "serving.set_transformer(transformer=True, script=transformer_script)\n",
    "serving.update_transformer_code(code=code_name)\n",
    "serving.update_transformer_image(image_url=image)\n",
    "serving.update_serving_model(model_name, version = head_version)\n",
    "serving.update_serving_image(image_url='ocdr/tensorflowserver:1.14')\n",
    "serving.set_production_deploy() #For production deployment, when MODEL_CATALOG_ENABLED=false\n",
    "serving.update_autoscaling_config(min_replicas=1, max_concurrent_requests=1)"
   ]
  },
  {
   "cell_type": "code",
   "execution_count": null,
   "metadata": {},
   "outputs": [],
   "source": [
    "api.create_test_inference(serving)"
   ]
  },
  {
   "cell_type": "code",
   "execution_count": null,
   "metadata": {},
   "outputs": [],
   "source": []
  }
 ],
 "metadata": {
  "kernelspec": {
   "display_name": "Python 3",
   "language": "python",
   "name": "python3"
  },
  "language_info": {
   "codemirror_mode": {
    "name": "ipython",
    "version": 3
   },
   "file_extension": ".py",
   "mimetype": "text/x-python",
   "name": "python",
   "nbconvert_exporter": "python",
   "pygments_lexer": "ipython3",
   "version": "3.6.8"
  }
 },
 "nbformat": 4,
 "nbformat_minor": 4
}
