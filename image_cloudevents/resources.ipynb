{
 "cells": [
  {
   "attachments": {},
   "cell_type": "markdown",
   "metadata": {},
   "source": [
    "#### Checking and upgrading the DKube SDK"
   ]
  },
  {
   "cell_type": "code",
   "execution_count": null,
   "metadata": {},
   "outputs": [],
   "source": [
    "import pkg_resources, sys\n",
    "try:\n",
    "    dkube_sdk_version = float(pkg_resources.get_distribution(\"dkube\").version)\n",
    "except:\n",
    "    dkube_sdk_version = 0 ## means the dkube sdk is not installed\n",
    "if dkube_sdk_version < 3.7:\n",
    "    !{sys.executable} -m pip install  git+https://github.com/oneconvergence/dkube.git@3.7 --user >/dev/null\n",
    "%reset -f"
   ]
  },
  {
   "attachments": {},
   "cell_type": "markdown",
   "metadata": {},
   "source": [
    "#### DKube Resources"
   ]
  },
  {
   "cell_type": "code",
   "execution_count": null,
   "metadata": {},
   "outputs": [],
   "source": [
    "import time,json\n",
    "from dkube.sdk import *\n",
    "import os\n",
    "from urllib.parse import urlparse\n",
    "\n",
    "# Set up font definitions for output\n",
    "class style:\n",
    "   RED = '\\033[91m\\033[1m'\n",
    "   BOLD = '\\033[1m'\n",
    "   END = '\\033[0m'\n",
    "\n",
    "## Assign the username & token for access to the serving cluster\n",
    "SERVING_DKUBE_USERNAME = os.getenv(\"DKUBE_USER_LOGIN_NAME\",\"\")\n",
    "SERVING_DKUBE_TOKEN = os.getenv(\"DKUBE_USER_ACCESS_TOKEN\",\"\") "
   ]
  },
  {
   "attachments": {},
   "cell_type": "markdown",
   "metadata": {},
   "source": [
    "#### User-Defined Variables"
   ]
  },
  {
   "cell_type": "code",
   "execution_count": null,
   "metadata": {},
   "outputs": [],
   "source": [
    "## The monitor name will be the same as the deployment name.\n",
    "## By default, it will be of the form <your user name>-image-mm-kf.\n",
    "## If you want to create a monitor from a different deployment, provide the deployment name here.\n",
    "MONITOR_NAME = f\"{SERVING_DKUBE_USERNAME}-image-mm-kf\"\n",
    "\n",
    "## Required to train the model\n",
    "DKUBE_TRAINING_CODE_NAME = \"chest-xray\"\n",
    "\n",
    "## By default, you will be running this notebook script\n",
    "##  (1) within the setup where the deployment is executing, and\n",
    "##  (2) executing the monitor on the same cluster\n",
    "## \n",
    "## If either of these are not true (i.e. you are running the monitor on another cluster),\n",
    "## change the variable to SERVING_CLUSTER_EXECUTION = False\n",
    "## You will then need to provide input to other variables as described below\n",
    "SERVING_CLUSTER_EXECUTION = True\n",
    "\n",
    "## If \"SERVING_CLUSTER_EXECUTION = False\" then SERVING_DKUBE_URL, SERVING_DKUBE_CLUSTER_NAME, & information on the\n",
    "## monitoring cluster must be completed.\n",
    "##\n",
    "## The SERVING_DKUBE_URL is the external IP of the serving cluster (e.g. https://<External IP>:32222/)\n",
    "##  Note: The final \"/\" must be included\n",
    "SERVING_DKUBE_URL = \"\"\n",
    "\n",
    "\n",
    "MONITORING_DKUBE_URL = \"\"\n",
    "MONITORING_DKUBE_USERNAME = \"\"\n",
    "MONITORING_DKUBE_TOKEN = \"\"\n",
    "\n",
    "## Provide the existing cluster name (link) on the monitoring setup which points to the serving cluster.\n",
    "## Leave it empty if a new cluster needs to be created.\n",
    "## A new cluster will only be created if the user has operator role permission. \n",
    "SERVING_DKUBE_CLUSTER_NAME = \"\""
   ]
  },
  {
   "attachments": {},
   "cell_type": "markdown",
   "metadata": {},
   "source": [
    "## Variables setup"
   ]
  },
  {
   "cell_type": "code",
   "execution_count": null,
   "metadata": {},
   "outputs": [],
   "source": [
    "# If the monitor is on the same cluster as the serving, pick up everything by default.\n",
    "# Otherwise, get the URL from the cell above\n",
    "if SERVING_CLUSTER_EXECUTION:\n",
    "    MINIO_ENDPOINT = os.getenv(\"MLFLOW_S3_ENDPOINT_URL\")\n",
    "    SERVING_DKUBE_URL = os.getenv(\"DKUBE_URL\")\n",
    "else:\n",
    "    parsed_url = urlparse(SERVING_DKUBE_URL)\n",
    "    SERVING_DKUBE_IP = parsed_url.hostname\n",
    "    MINIO_ENDPOINT = f\"http://{SERVING_DKUBE_IP}:32221\"\n",
    "\n",
    "if (not SERVING_DKUBE_URL) or (not MINIO_ENDPOINT):\n",
    "    raise ValueError(\"Either SERVING_DKUBE_URL or MINIO_ENDPOINT is empty\")\n",
    "\n",
    "# Required in train.ipynb to retrain the model\n",
    "LIVE_DATASET =  MONITOR_NAME+'-s3'\n",
    "TRAINING_DATASET = 'chest-xray'\n",
    "\n",
    "# Model name to be created or used for example, it will create the model\n",
    "# if not existing otherwise it will ignore creation.\n",
    "MODEL_NAME = MONITOR_NAME\n",
    "\n",
    "# the frequency with which monitoring will run, value will be considered in minutes\n",
    "RUN_FREQUENCY = 5\n",
    "\n",
    "\n",
    "if not MODEL_NAME:\n",
    "    raise Exception(\"Model name is empty\")\n",
    "\n",
    "if not(SERVING_DKUBE_TOKEN and SERVING_DKUBE_USERNAME and SERVING_DKUBE_URL):\n",
    "    raise Exception(\"Please fill the Serving Dkube details first (SERVING_DKUBE_TOKEN, SERVING_DKUBE_URL, SERVING_DKUBE_USERNAME)\")\n",
    "    \n",
    "if (MONITORING_DKUBE_URL\n",
    "   and\n",
    "   not(MONITORING_DKUBE_USERNAME and MONITORING_DKUBE_TOKEN)):\n",
    "    raise Exception(\"Please fill the Monitoring Dkube details first (MONITORING_DKUBE_USERNAME, MONITORING_DKUBE_TOKEN, MONITORING_DKUBE_URL)\")"
   ]
  },
  {
   "attachments": {},
   "cell_type": "markdown",
   "metadata": {},
   "source": [
    "#### General Variable Definitions"
   ]
  },
  {
   "cell_type": "code",
   "execution_count": null,
   "metadata": {},
   "outputs": [],
   "source": [
    "serving_api = DkubeApi(URL=SERVING_DKUBE_URL,token=SERVING_DKUBE_TOKEN)\n",
    "if SERVING_DKUBE_USERNAME == serving_api.validate_token()['username']:\n",
    "    pass\n",
    "else:\n",
    "    print(\"Invalid User, please check your username, first\")"
   ]
  },
  {
   "cell_type": "code",
   "execution_count": null,
   "metadata": {},
   "outputs": [],
   "source": [
    "response =  serving_api.get_cloudevents_logstore_creds()\n",
    "MINIO_KEY = response[\"access_key_id\"]\n",
    "MINIO_SECRET_KEY = response[\"access_key\"]\n",
    "MINIO_BUCKET = response[\"bucket\"]"
   ]
  },
  {
   "cell_type": "code",
   "execution_count": null,
   "metadata": {},
   "outputs": [],
   "source": [
    "INPUT_TRAIN_TYPE = \"training\"\n",
    "image_exp_config = {\"MONITOR_NAME\":MONITOR_NAME,\n",
    "                    \"INPUT_TRAIN_TYPE\":INPUT_TRAIN_TYPE, \"SERVING_DKUBE_USERNAME\":SERVING_DKUBE_USERNAME,\n",
    "                    \"SERVING_DKUBE_URL\":SERVING_DKUBE_URL, \"SERVING_DKUBE_TOKEN\":SERVING_DKUBE_TOKEN, \n",
    "                    \"MINIO_KEY\":MINIO_KEY,\"MINIO_SECRET_KEY\":MINIO_SECRET_KEY, \"MINIO_ENDPOINT\":MINIO_ENDPOINT,\n",
    "                    \"MINIO_BUCKET\": MINIO_BUCKET,\n",
    "                    \"TRAINING_DATASET\":TRAINING_DATASET, \"RUN_FREQUENCY\":RUN_FREQUENCY,\n",
    "                    \"DKUBE_TRAINING_CODE_NAME\":DKUBE_TRAINING_CODE_NAME,\n",
    "                    \"LIVE_DATASET\":LIVE_DATASET,\n",
    "                    \"MONITORING_DKUBE_USERNAME\":MONITORING_DKUBE_USERNAME, \"MONITORING_DKUBE_TOKEN\":MONITORING_DKUBE_TOKEN,\n",
    "                    \"MONITORING_DKUBE_URL\":MONITORING_DKUBE_URL,\n",
    "                    \"SERVING_DKUBE_CLUSTER_NAME\":SERVING_DKUBE_CLUSTER_NAME}\n",
    "%store image_exp_config"
   ]
  },
  {
   "attachments": {},
   "cell_type": "markdown",
   "metadata": {},
   "source": [
    "#### Create Training Dataset on Serving Cluster"
   ]
  },
  {
   "cell_type": "code",
   "execution_count": null,
   "metadata": {},
   "outputs": [],
   "source": [
    "try:\n",
    "    print(f\"{style.BOLD}Creating Training Dataset \\\"{TRAINING_DATASET}\\\" on Serving Cluster{style.END}\")\n",
    "    dataset = DkubeDataset(SERVING_DKUBE_USERNAME, name=TRAINING_DATASET)\n",
    "    dataset.update_dataset_source(source=\"git\")\n",
    "    dataset.update_git_details(url=\"https://github.com/oneconvergence/dkube-examples/tree/monitoring/image_cloudevents/data/chest-xray-mini\")\n",
    "    serving_api.create_dataset(dataset)\n",
    "except Exception as e:\n",
    "    if e.reason.lower()!=\"conflict\":\n",
    "        response = e.body\n",
    "        print(f\"Failed[{response.code}]: {response.message}\")\n",
    "    else:\n",
    "        print(f\"{style.BOLD}Training Dataset \\\"{TRAINING_DATASET}\\\" exists on Serving Cluster{style.END}\")"
   ]
  },
  {
   "attachments": {},
   "cell_type": "markdown",
   "metadata": {},
   "source": [
    "#### Create Model on Serving Cluster"
   ]
  },
  {
   "cell_type": "code",
   "execution_count": null,
   "metadata": {},
   "outputs": [],
   "source": [
    "print(f\"{style.BOLD}Creating Model \\\"{MODEL_NAME}\\\" on Serving Cluster{style.END}\")\n",
    "try:\n",
    "    model = DkubeModel(SERVING_DKUBE_USERNAME, name=MODEL_NAME)\n",
    "    model.update_model_source(source='dvs')\n",
    "    serving_api.create_model(model)\n",
    "except Exception as e:\n",
    "    if e.reason:\n",
    "        if e.reason.lower() != \"conflict\":\n",
    "            response = e.body\n",
    "            print(f\"Failed[{response.code}]: {response.message}\")\n",
    "        else:\n",
    "            print(f\"{style.BOLD}Model \\\"{MODEL_NAME}\\\" exists on Serving Cluster{style.END}\")\n",
    "    else:\n",
    "        raise e"
   ]
  },
  {
   "attachments": {},
   "cell_type": "markdown",
   "metadata": {},
   "source": [
    "#### Checking for seperate monitoring cluster and adding datasets accordingly."
   ]
  },
  {
   "cell_type": "code",
   "execution_count": null,
   "metadata": {},
   "outputs": [],
   "source": [
    "if MONITORING_DKUBE_URL:\n",
    "    print(f\"{style.BOLD}Creating Training Dataset \\\"{TRAINING_DATASET}\\\" on Monitoring Cluster{style.END}\")\n",
    "    monitoring_api = DkubeApi(URL=MONITORING_DKUBE_URL,token=MONITORING_DKUBE_TOKEN)\n",
    "    try:\n",
    "        dataset = DkubeDataset(MONITORING_DKUBE_USERNAME, name=TRAINING_DATASET)\n",
    "        dataset.update_dataset_source(source=\"git\")\n",
    "        dataset.update_git_details(url=\"https://github.com/oneconvergence/dkube-examples/tree/monitoring/image_cloudevents/data/chest-xray-mini\")\n",
    "        serving_api.create_dataset(dataset)\n",
    "    except Exception as e:\n",
    "        if e.reason.lower()!=\"conflict\":\n",
    "            response = e.body\n",
    "            print(f\"Failed[{response.code}]: {response.message}\")\n",
    "        else:\n",
    "            print(f\"{style.BOLD}Training Dataset \\\"{TRAINING_DATASET}\\\" exists on Monitoring Cluster{style.END}\")\n"
   ]
  },
  {
   "cell_type": "markdown",
   "metadata": {},
   "source": [
    "### Model Monitor Datasets"
   ]
  },
  {
   "cell_type": "markdown",
   "metadata": {},
   "source": [
    "##### Predict and labelled Dataset"
   ]
  },
  {
   "cell_type": "code",
   "execution_count": null,
   "metadata": {},
   "outputs": [],
   "source": [
    "# Set up the right cluster for the predict and labelled dataset\n",
    "if MONITORING_DKUBE_URL:\n",
    "    api = monitoring_api  \n",
    "    user = MONITORING_DKUBE_USERNAME\n",
    "else:\n",
    "    api = serving_api\n",
    "    user = SERVING_DKUBE_USERNAME"
   ]
  },
  {
   "cell_type": "code",
   "execution_count": null,
   "metadata": {},
   "outputs": [],
   "source": [
    "data = api.get_modelmonitor_id(MONITOR_NAME)\n",
    "if data.data:\n",
    "    MONITOR_ID = data.data.get(MONITOR_NAME)\n",
    "    if MONITOR_ID:\n",
    "        raise ValueError(f\"{MONITOR_NAME} already exists. Please use a different name\")"
   ]
  },
  {
   "cell_type": "code",
   "execution_count": null,
   "metadata": {},
   "outputs": [],
   "source": [
    "# Create the predict & label dataset on the serving or monitoring cluster\n",
    "try:\n",
    "    dataset = DkubeDataset(user, name=LIVE_DATASET,remote=True)\n",
    "    dataset.update_dataset_source('s3')\n",
    "    dataset.update_s3_details(\n",
    "        endpoint = MINIO_ENDPOINT,\n",
    "        bucket=MINIO_BUCKET,\n",
    "        prefix='',\n",
    "        key=MINIO_KEY,\n",
    "        secret=MINIO_SECRET_KEY)\n",
    "    \n",
    "    if MONITORING_DKUBE_URL:\n",
    "        cluster_type = \"Monitoring\"\n",
    "    else:\n",
    "        cluster_type = \"Serving\"\n",
    "    print(f\"{style.BOLD}Creating Live Dataset \\\"{LIVE_DATASET}\\\" on {cluster_type} Cluster{style.END}\")\n",
    "\n",
    "    api.create_dataset(dataset)\n",
    "except Exception as e:\n",
    "    if e.reason:\n",
    "        if e.reason.lower() != \"conflict\":\n",
    "            response = e.body\n",
    "            print(f\"Failed[{response.code}]: {response.message}\")\n",
    "        else:\n",
    "            print(f\"{style.BOLD}Live Dataset \\\"{LIVE_DATASET}\\\" exists on {cluster_type} Cluster{style.END}\")\n",
    "    else:\n",
    "        raise e"
   ]
  },
  {
   "cell_type": "markdown",
   "metadata": {},
   "source": [
    "#### Cleanup"
   ]
  },
  {
   "cell_type": "code",
   "execution_count": null,
   "metadata": {},
   "outputs": [],
   "source": [
    "## Set CLEANUP = True, after your experiment is complete.\n",
    "CLEANUP = False\n",
    "if CLEANUP:\n",
    "    # Delete the serving cluster resources\n",
    "    api = serving_api\n",
    "    api.delete_model(SERVING_DKUBE_USERNAME,MODEL_NAME,force=True)        \n",
    "    api.delete_dataset(SERVING_DKUBE_USERNAME,TRAINING_DATASET,force=True)        \n",
    "\n",
    "    # Delete the monitoring cluster resources if separate cluster\n",
    "    if MONITORING_DKUBE_URL:\n",
    "        api = monitoring_api\n",
    "        api.delete_dataset(SERVING_DKUBE_USERNAME,TRAINING_DATASET,force=True)\n",
    "        api.delete_dataset(SERVING_DKUBE_USERNAME,LIVE_DATASET,force=True)\n",
    "\n",
    "    # Or delete the live dataset on the serving cluster\n",
    "    else:\n",
    "        api = serving_api\n",
    "        api.delete_dataset(SERVING_DKUBE_USERNAME,LIVE_DATASET,force=True)        \n",
    "\n",
    "    %store -d image_exp_config"
   ]
  },
  {
   "cell_type": "code",
   "execution_count": null,
   "metadata": {},
   "outputs": [],
   "source": []
  }
 ],
 "metadata": {
  "kernelspec": {
   "display_name": "Python 3",
   "language": "python",
   "name": "python3"
  },
  "language_info": {
   "codemirror_mode": {
    "name": "ipython",
    "version": 3
   },
   "file_extension": ".py",
   "mimetype": "text/x-python",
   "name": "python",
   "nbconvert_exporter": "python",
   "pygments_lexer": "ipython3",
   "version": "3.10.7 (main, Sep 15 2022, 01:51:29) [Clang 14.0.0 (clang-1400.0.29.102)]"
  },
  "vscode": {
   "interpreter": {
    "hash": "aee8b7b246df8f9039afb4144a1f6fd8d2ca17a180786b69acc140d282b71a49"
   }
  }
 },
 "nbformat": 4,
 "nbformat_minor": 4
}
