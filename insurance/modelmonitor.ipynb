{
 "cells": [
  {
   "cell_type": "markdown",
   "metadata": {},
   "source": [
    "## MM-SDK"
   ]
  },
  {
   "cell_type": "code",
   "execution_count": null,
   "metadata": {},
   "outputs": [],
   "source": [
    "%store -r\n",
    "import os,json\n",
    "from dkube.sdk import *\n",
    "from dkube.sdk.api import DkubeApi\n",
    "from dkube.sdk.rsrcs import DkubeModelmonitor\n",
    "from dkube.sdk.rsrcs.modelmonitor import DkubeModelmonitordataset,DkubeModelmonitoralert\n",
    "from dkube.sdk.rsrcs.modelmonitor import ModelFrameworks,DatasetClass,AlertClass,ModelType,ModelCategory,DriftAlgo"
   ]
  },
  {
   "cell_type": "code",
   "execution_count": null,
   "metadata": {},
   "outputs": [],
   "source": [
    "api = DkubeApi(URL=os.getenv('DKUBE_URL',DKUBE_URL),token=os.getenv(\"DKUBE_USER_ACCESS_TOKEN\",TOKEN))"
   ]
  },
  {
   "cell_type": "code",
   "execution_count": null,
   "metadata": {},
   "outputs": [],
   "source": [
    "mt=ModelType.Regression\n",
    "da=DriftAlgo.Auto\n",
    "dc_t=DatasetClass.TrainData\n",
    "dc_p=DatasetClass.PredictData\n",
    "text_file = open(\"transform-data.py\", \"r\")\n",
    "#read whole file to a string\n",
    "script = text_file.read()\n",
    "#close file\n",
    "text_file.close()\n",
    "\n",
    "train_metrics = open(\"train_metrics.json\", \"r\")\n",
    "# read whole file to a string\n",
    "model_metrics = train_metrics.read()\n",
    "# close file\n",
    "train_metrics.close()\n"
   ]
  },
  {
   "cell_type": "markdown",
   "metadata": {},
   "source": [
    "### TRAINING"
   ]
  },
  {
   "cell_type": "code",
   "execution_count": null,
   "metadata": {},
   "outputs": [],
   "source": [
    "model_name = 'insurance-model:'+DKUBEUSERNAME\n",
    "for i in api.get_model_versions(DKUBEUSERNAME,'insurance-model'):\n",
    "        version=i['version']['uuid']\n",
    "        model_version = i['version']['name']+':'+version"
   ]
  },
  {
   "cell_type": "code",
   "execution_count": null,
   "metadata": {},
   "outputs": [],
   "source": [
    "if DATA_SOURCE == \"local\" or DATA_SOURCE == \"aws_s3\":\n",
    "    training_data = 'insurance-data:'+ DKUBEUSERNAME\n",
    "    train_data_version = 'v1:'+api.get_dataset_versions(DKUBEUSERNAME,'insurance-data')[0]['version']['uuid']\n",
    "    prediction_data = MONITOR_NAME +'-predict:'+ DKUBEUSERNAME\n",
    "    labelled_data = MONITOR_NAME +'-groundtruth:'+ DKUBEUSERNAME\n",
    "\n",
    "if DATA_SOURCE == 'local':\n",
    "    predict_data_version = 'v1:'+api.get_dataset_versions(DKUBEUSERNAME,MONITOR_NAME+'-predict')[0]['version']['uuid']\n",
    "    labelled_data_version = 'v1:'+api.get_dataset_versions(DKUBEUSERNAME,MONITOR_NAME+'-groundtruth')[0]['version']['uuid']"
   ]
  },
  {
   "cell_type": "markdown",
   "metadata": {},
   "source": [
    "#### 1. CREATE MODEL MONITOR"
   ]
  },
  {
   "cell_type": "code",
   "execution_count": null,
   "metadata": {},
   "outputs": [],
   "source": [
    "mm=DkubeModelmonitor(name=MONITOR_NAME,model_name=model_name,description='mm',tags=\"d3qatest\")\n",
    "mm.update_modelmonitor(model_type=str(mt),run_freq=5,version=model_version,drift_algo=str(da),train_metrics=model_metrics)"
   ]
  },
  {
   "cell_type": "code",
   "execution_count": null,
   "metadata": {},
   "outputs": [],
   "source": [
    "api.modelmonitor_create(mm,wait_for_completion=True)"
   ]
  },
  {
   "cell_type": "markdown",
   "metadata": {},
   "source": [
    "#### Extracting ID of the model monitor"
   ]
  },
  {
   "cell_type": "code",
   "execution_count": null,
   "metadata": {},
   "outputs": [],
   "source": [
    "id = api.modelmonitor_get_id(MONITOR_NAME)"
   ]
  },
  {
   "cell_type": "markdown",
   "metadata": {},
   "source": [
    "#### 2. Add Training Data"
   ]
  },
  {
   "cell_type": "code",
   "execution_count": null,
   "metadata": {},
   "outputs": [],
   "source": [
    "if DATA_SOURCE == 'sql':\n",
    "    data = DkubeModelmonitordataset(name = \"insurance-data-sql:\"+DKUBEUSERNAME)\n",
    "    data.update_dataset(data_class = str(DatasetClass.TrainData),sql_query = \"select * from insurance\",transformer_script=script)\n",
    "\n",
    "else:\n",
    "    data = DkubeModelmonitordataset(name = training_data)\n",
    "    data.update_dataset(data_class = str(DatasetClass.TrainData),transformer_script=script,version=train_data_version)\n",
    "\n",
    "api.modelmonitor_add_dataset(id,data)"
   ]
  },
  {
   "cell_type": "markdown",
   "metadata": {},
   "source": [
    "#### 3. Update schema"
   ]
  },
  {
   "cell_type": "code",
   "execution_count": null,
   "metadata": {},
   "outputs": [],
   "source": [
    "api.modelmonitor_update_schema(id,label='charges',schema_class='Continuous',schema_type=\"PredictionOutput\",selected=False)\n",
    "api.modelmonitor_update_schema(id,label='unique_id',schema_class='Continuous',schema_type=\"RowID\",selected=False)\n",
    "api.modelmonitor_update_schema(id,label='timestamp',schema_class='Continuous',schema_type=\"Timestamp\",selected=False)\n",
    "\n",
    "## age and bmi to continuous\n",
    "api.modelmonitor_update_schema(id,label='age',schema_class='Continuous')\n",
    "api.modelmonitor_update_schema(id,label='bmi',schema_class='Continuous')\n",
    "\n",
    "## select these features\n",
    "api.modelmonitor_update_schema(id,label='sex')\n",
    "api.modelmonitor_update_schema(id,label='children')\n",
    "api.modelmonitor_update_schema(id,label='smoker')\n",
    "api.modelmonitor_update_schema(id,label='region')"
   ]
  },
  {
   "cell_type": "markdown",
   "metadata": {},
   "source": [
    "#### 4. Add Prediction data"
   ]
  },
  {
   "cell_type": "code",
   "execution_count": null,
   "metadata": {},
   "outputs": [],
   "source": [
    "data = DkubeModelmonitordataset(name = prediction_data)\n",
    "if DATA_SOURCE == \"local\":\n",
    "    data.update_dataset(data_class = str(DatasetClass.PredictData),version = predict_data_version)\n",
    "if DATA_SOURCE == \"aws_s3\":\n",
    "    data.update_dataset(data_class = str(DatasetClass.PredictData))\n",
    "if DATA_SOURCE == \"sql\":\n",
    "    data = DkubeModelmonitordataset(name = \"insurance-data-sql:\"+DKUBEUSERNAME)\n",
    "    data.update_dataset(data_class = str(DatasetClass.PredictData),sql_query = \"select * from insurance_predict\")\n",
    "\n",
    "api.modelmonitor_add_dataset(id,data)"
   ]
  },
  {
   "cell_type": "markdown",
   "metadata": {},
   "source": [
    "#### 4. Add Labelled data"
   ]
  },
  {
   "cell_type": "code",
   "execution_count": null,
   "metadata": {},
   "outputs": [],
   "source": [
    "data = DkubeModelmonitordataset(name =labelled_data)\n",
    "if DATA_SOURCE == 'local':\n",
    "    data.update_dataset(data_class = str(DatasetClass.LabelledData),groundtruth_col='GT_target',predict_col='charges',version=labelled_data_version)\n",
    "if DATA_SOURCE == 'aws_s3':\n",
    "    data.update_dataset(data_class = str(DatasetClass.LabelledData),groundtruth_col='GT_target',predict_col='charges')\n",
    "if DATA_SOURCE == \"sql\":\n",
    "    data = DkubeModelmonitordataset(name = \"insurance-data-sql:\"+DKUBEUSERNAME)\n",
    "    data.update_dataset(data_class = str(DatasetClass.LabelledData),groundtruth_col='GT_target',predict_col='charges',sql_query=\"select * from insurance_gt\")\n",
    "\n",
    "api.modelmonitor_add_dataset(id,data)"
   ]
  },
  {
   "cell_type": "markdown",
   "metadata": {},
   "source": [
    "#### 5. Add Alert"
   ]
  },
  {
   "cell_type": "markdown",
   "metadata": {},
   "source": [
    "#### Feature Alerts"
   ]
  },
  {
   "cell_type": "code",
   "execution_count": null,
   "metadata": {},
   "outputs": [],
   "source": [
    "alert = DkubeModelmonitoralert(name='age_alert')\n",
    "alert.update_alert(alert_class = 'FeatureDrift',feature='age',threshold=0.02)\n",
    "api.modelmonitor_add_alert(id,alert)"
   ]
  },
  {
   "cell_type": "code",
   "execution_count": null,
   "metadata": {},
   "outputs": [],
   "source": [
    "\n",
    "alert = DkubeModelmonitoralert(name='bmi_alert')\n",
    "alert.update_alert(alert_class = 'FeatureDrift',feature='bmi',threshold=0.05)\n",
    "api.modelmonitor_add_alert(id,alert)"
   ]
  },
  {
   "cell_type": "markdown",
   "metadata": {},
   "source": [
    "#### Performance Alerts"
   ]
  },
  {
   "cell_type": "code",
   "execution_count": null,
   "metadata": {},
   "outputs": [],
   "source": [
    "alert = DkubeModelmonitoralert(name='metrics_alert')\n",
    "alert.update_alert(alert_class = 'PerformanceDecay',metric = 'mse',threshold=36000000)\n",
    "api.modelmonitor_add_alert(id,alert)"
   ]
  },
  {
   "cell_type": "markdown",
   "metadata": {},
   "source": [
    "#### 6. Start the Model Monitor"
   ]
  },
  {
   "cell_type": "code",
   "execution_count": null,
   "metadata": {},
   "outputs": [],
   "source": [
    "api.modelmonitor_start(id)"
   ]
  },
  {
   "cell_type": "markdown",
   "metadata": {},
   "source": [
    "### 7. RETRAINING"
   ]
  },
  {
   "cell_type": "code",
   "execution_count": null,
   "metadata": {},
   "outputs": [],
   "source": [
    "%store -r\n",
    "id = api.modelmonitor_get_id(MONITOR_NAME)\n",
    "\n",
    "if INPUT_TRAIN_TYPE == 'retraining':\n",
    "    api.modelmonitor_stop(id)\n",
    "    id = api.modelmonitor_get_id(MONITOR_NAME)\n",
    "    model_name = 'insurance-model:'+ DKUBEUSERNAME\n",
    "    models = api.get_model_versions(DKUBEUSERNAME,'insurance-model')[0]['version']\n",
    "    model_version = models['name']+\":\"+models['uuid']\n",
    "    \n",
    "    ## update model version \n",
    "    mm=DkubeModelmonitor(MONITOR_NAME,model_name=model_name,description=\"mm\")\n",
    "    mm.update_model_version(model_version)\n",
    "    api.modelmonitor_update(id,mm)\n",
    "    \n",
    "\n",
    "    training_data = 'insurance-training-data:'+DKUBEUSERNAME\n",
    "    data_dict = api.get_dataset_versions(DKUBEUSERNAME,'insurance-training-data')[0]['version']\n",
    "    train_data_version = data_dict['name']+\":\"+data_dict['uuid']\n",
    "    \n",
    "    ### update training dataset version\n",
    "    data = DkubeModelmonitordataset(name=training_data)\n",
    "    data.update_dataset(version=train_data_version)\n",
    "    api.modelmonitor_update_dataset(id=id,data_class=str(DatasetClass.TrainData),data=data)\n",
    "    \n",
    "    \n",
    "    ### Start the model monitor\n",
    "    api.modelmonitor_start(id)"
   ]
  },
  {
   "cell_type": "markdown",
   "metadata": {},
   "source": [
    "### 8. Cleanup"
   ]
  },
  {
   "cell_type": "code",
   "execution_count": null,
   "metadata": {},
   "outputs": [],
   "source": [
    "CLEANUP = False\n",
    "if CLEANUP:\n",
    "    api.modelmonitor_delete(id)\n",
    "    "
   ]
  }
 ],
 "metadata": {
  "interpreter": {
   "hash": "916dbcbb3f70747c44a77c7bcd40155683ae19c65e1c03b4aa3499c5328201f1"
  },
  "kernelspec": {
   "display_name": "Python 3",
   "language": "python",
   "name": "python3"
  },
  "language_info": {
   "codemirror_mode": {
    "name": "ipython",
    "version": 3
   },
   "file_extension": ".py",
   "mimetype": "text/x-python",
   "name": "python",
   "nbconvert_exporter": "python",
   "pygments_lexer": "ipython3",
   "version": "3.8.10"
  }
 },
 "nbformat": 4,
 "nbformat_minor": 4
}
