{
 "cells": [
  {
   "cell_type": "code",
   "execution_count": null,
   "metadata": {},
   "outputs": [
    {
     "name": "stdout",
     "output_type": "stream",
     "text": [
      "Requirement already satisfied: psycopg2-binary in /root/.local/lib/python3.6/site-packages (2.8.6)\n",
      "\u001b[33mWARNING: You are using pip version 19.1.1, however version 20.2.4 is available.\n",
      "You should consider upgrading via the 'pip install --upgrade pip' command.\u001b[0m\n"
     ]
    }
   ],
   "source": [
    "!pip install psycopg2-binary --user\n",
    "import os\n",
    "os._exit(00)"
   ]
  },
  {
   "cell_type": "code",
   "execution_count": 1,
   "metadata": {},
   "outputs": [],
   "source": [
    "import numpy as np\n",
    "import csv, sys, requests\n",
    "import joblib, psycopg2\n",
    "import os, json, re"
   ]
  },
  {
   "cell_type": "code",
   "execution_count": 2,
   "metadata": {},
   "outputs": [],
   "source": [
    "def rs_fetch_datasets():\n",
    "    user = os.getenv(\"DKUBE_USER_LOGIN_NAME\")\n",
    "    url = \"http://dkube-controller-worker.dkube:5000/dkube/v2/controller/users/%s/datums/class/dataset/datum/%s\"\n",
    "    headers={\"authorization\": \"Bearer \"+os.getenv(\"DKUBE_USER_ACCESS_TOKEN\")}\n",
    "    datasets = []\n",
    "    for ds in json.load(open('/etc/dkube/redshift.json')):\n",
    "        resp = requests.get(url % (user, ds.get('rs_name')), headers=headers).json()\n",
    "        ds['rs_password'] = resp['data']['datum']['redshift']['password']\n",
    "        datasets.append(ds)\n",
    "    return datasets\n",
    "\n",
    "def get_password(user, db):\n",
    "    datasets = rs_fetch_datasets()\n",
    "    for dataset in datasets:\n",
    "        if dataset.get(\"rs_user\") == user and dataset.get(\"rs_database\") == db:\n",
    "            return dataset.get(\"rs_password\")\n",
    "    raise Exception(\"Failed to find password for DB {} with User {}\".format(user, db))"
   ]
  },
  {
   "cell_type": "code",
   "execution_count": 3,
   "metadata": {},
   "outputs": [],
   "source": [
    "def print_records(usr,passwd, hst, prt, db, table):\n",
    "    try:\n",
    "        connection = psycopg2.connect(user = usr,\n",
    "       \t                              password = passwd,\n",
    "           \t                          host = hst,\n",
    "               \t                      port = prt,\n",
    "                   \t                  database = db)\n",
    "    except (Exception, psycopg2.Error) as error :\n",
    "        print(\"Error while connecting to Redshift\", error)\n",
    "\n",
    "    cursor = connection.cursor()\n",
    "    cursor.execute(\"SELECT * from \" + table + \";\")\n",
    "    record = cursor.fetchall()\n",
    "    for each in record[:10]:\n",
    "        print(each)"
   ]
  },
  {
   "cell_type": "code",
   "execution_count": 4,
   "metadata": {},
   "outputs": [],
   "source": [
    "r_endpoint = os.getenv('DKUBE_DATASET_REDSHIFT_ENDPOINT', None)\n",
    "r_database = os.getenv('DKUBE_DATASET_REDSHIFT_DATABASE', None)\n",
    "r_user = os.getenv('DKUBE_DATASET_REDSHIFT_USER', None)\n",
    "r_password = get_password(r_user, r_database)"
   ]
  },
  {
   "cell_type": "code",
   "execution_count": 5,
   "metadata": {},
   "outputs": [],
   "source": [
    "if 'https:' in r_endpoint:\n",
    "    p = '(?:https*://)?(?P<host>[^:/ ]+).?(?P<port>[0-9]*).*'\n",
    "    m = re.search(p,r_endpoint)\n",
    "else:\n",
    "    p = '(?:http*://)?(?P<host>[^:/ ]+).?(?P<port>[0-9]*).*'\n",
    "    m = re.search(p,r_endpoint)"
   ]
  },
  {
   "cell_type": "code",
   "execution_count": 6,
   "metadata": {},
   "outputs": [
    {
     "name": "stdout",
     "output_type": "stream",
     "text": [
      "('26-Feb-16', '708.58', '713.43', '700.86', '705.07', '2239978')\n",
      "('25-Feb-16', '700.01', '705.98', '690.58', '705.75', '1631855')\n",
      "('24-Feb-16', '688.92', '700.00', '680.78', '699.56', '1958611')\n",
      "('23-Feb-16', '701.45', '708.40', '693.58', '695.85', '1999699')\n",
      "('22-Feb-16', '707.45', '713.24', '702.51', '706.46', '1946067')\n",
      "('19-Feb-16', '695.03', '703.08', '694.05', '700.91', '1582260')\n",
      "('18-Feb-16', '710.00', '712.35', '696.03', '697.35', '1859130')\n",
      "('17-Feb-16', '699.00', '709.75', '691.38', '708.40', '2466808')\n",
      "('16-Feb-16', '692.98', '698.00', '685.05', '691.00', '2497024')\n",
      "('12-Feb-16', '690.26', '693.75', '678.60', '682.40', '2129831')\n"
     ]
    }
   ],
   "source": [
    "table = 'sklearn'\n",
    "print_records(r_user, r_password, m.group('host'), m.group('port'), r_database, table)"
   ]
  }
 ],
 "metadata": {
  "kernelspec": {
   "display_name": "Python 3",
   "language": "python",
   "name": "python3"
  },
  "language_info": {
   "codemirror_mode": {
    "name": "ipython",
    "version": 3
   },
   "file_extension": ".py",
   "mimetype": "text/x-python",
   "name": "python",
   "nbconvert_exporter": "python",
   "pygments_lexer": "ipython3",
   "version": "3.6.8"
  }
 },
 "nbformat": 4,
 "nbformat_minor": 4
}
