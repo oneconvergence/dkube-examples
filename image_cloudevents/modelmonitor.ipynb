{
 "cells": [
  {
   "cell_type": "code",
   "execution_count": null,
   "metadata": {},
   "outputs": [],
   "source": [
    "%store -r\n",
    "import time\n",
    "import os,json, random, string\n",
    "import requests, operator\n",
    "from dkube.sdk import *\n",
    "from dkube.sdk.api import DkubeApi\n",
    "from dkube.sdk.rsrcs import DkubeModelmonitor\n",
    "from dkube.sdk.rsrcs.operator import DkubeCluster\n",
    "from dkube.sdk.rsrcs.modelmonitor import DatasetClass,ModelType,DriftAlgo\n",
    "from dkube.sdk.rsrcs.modelmonitor import DatasetFormat,DkubeModelmonitorAlert, TimeZone\n",
    "from dkube.sdk.rsrcs.modelmonitor import DataType, ChannelOrder, ImageDataSavedFileFormat"
   ]
  },
  {
   "cell_type": "code",
   "execution_count": null,
   "metadata": {},
   "outputs": [],
   "source": [
    "MONITOR_NAME = image_exp_config['MONITOR_NAME']\n",
    "INPUT_TRAIN_TYPE = image_exp_config['INPUT_TRAIN_TYPE']\n",
    "SERVING_DKUBE_USERNAME = image_exp_config['SERVING_DKUBE_USERNAME']\n",
    "SERVING_DKUBE_TOKEN = image_exp_config['SERVING_DKUBE_TOKEN']\n",
    "SERVING_DKUBE_URL = image_exp_config['SERVING_DKUBE_URL']\n",
    "RUN_FREQUENCY = image_exp_config['RUN_FREQUENCY']\n",
    "LIVE_DATASET = image_exp_config['LIVE_DATASET']\n",
    "TRAINING_DATASET = image_exp_config['TRAINING_DATASET']\n",
    "SERVING_DEPLOYMENT_ID = image_exp_config['SERVING_DEPLOYMENT_ID']\n",
    "\n",
    "MONITORING_DKUBE_USERNAME = image_exp_config[\"MONITORING_DKUBE_USERNAME\"]\n",
    "MONITORING_DKUBE_TOKEN = image_exp_config[\"MONITORING_DKUBE_TOKEN\"]\n",
    "MONITORING_DKUBE_URL = image_exp_config[\"MONITORING_DKUBE_URL\"]\n",
    "SERVING_DKUBE_CLUSTER_NAME = image_exp_config[\"SERVING_DKUBE_CLUSTER_NAME\"]"
   ]
  },
  {
   "cell_type": "code",
   "execution_count": null,
   "metadata": {},
   "outputs": [],
   "source": [
    "serving_api = DkubeApi(URL=SERVING_DKUBE_URL,token=SERVING_DKUBE_TOKEN)"
   ]
  },
  {
   "attachments": {},
   "cell_type": "markdown",
   "metadata": {},
   "source": [
    "## Define Functions"
   ]
  },
  {
   "cell_type": "code",
   "execution_count": null,
   "metadata": {},
   "outputs": [],
   "source": [
    "def get_dataset_version(username, dataset_name, version):\n",
    "    dataset_versions = monitoring_api.get_dataset_versions(username, dataset_name)\n",
    "    versions = []\n",
    "    for each_version in dataset_versions:\n",
    "        if each_version[\"version\"][\"name\"] == version:\n",
    "            uuid = each_version[\"version\"][\"uuid\"]\n",
    "            return f\"{version}:{uuid}\"\n",
    "        else:\n",
    "            versions.append(each_version[\"version\"][\"name\"])\n",
    "    return f\"dataset version {version} not found, available version are {versions}\""
   ]
  },
  {
   "cell_type": "markdown",
   "metadata": {},
   "source": [
    "## Checking for seperate monitoring cluster and adding cluster and deployment to the monitoring cluster."
   ]
  },
  {
   "cell_type": "code",
   "execution_count": null,
   "metadata": {},
   "outputs": [],
   "source": [
    "if MONITORING_DKUBE_URL:\n",
    "    monitoring_api = DkubeApi(URL=MONITORING_DKUBE_URL,token=MONITORING_DKUBE_TOKEN)\n",
    "    DKUBEUSERNAME = MONITORING_DKUBE_USERNAME\n",
    "    ## Checking if the cluster exists\n",
    "    cluster_exists = False\n",
    "    if SERVING_DKUBE_CLUSTER_NAME:\n",
    "        for each_cluster in monitoring_api.get_clusters()[\"data\"]:\n",
    "            if each_cluster[\"name\"] == SERVING_DKUBE_CLUSTER_NAME:\n",
    "                cluster_exists = True\n",
    "                print(f\"Cluster {SERVING_DKUBE_CLUSTER_NAME} already exists\")\n",
    "                break\n",
    "        if not cluster_exists:\n",
    "            msg = f'''\n",
    "            Cluster {SERVING_DKUBE_CLUSTER_NAME} not found on monitoring cluster,\n",
    "            Kindly verify the cluster name.\n",
    "            '''\n",
    "            raise Exception(msg)\n",
    "    else:\n",
    "        ## Generating serving cluster name if not provide\n",
    "        ## A cluster with the generated name would be added\n",
    "        res = ''.join(random.choices(string.ascii_lowercase + string.digits, k=4))\n",
    "        SERVING_DKUBE_CLUSTER_NAME = f\"{SERVING_DKUBE_USERNAME}-{res}\"\n",
    "        print(f\"Attempt to create cluster with name {SERVING_DKUBE_CLUSTER_NAME} on monitoring setup will be taken\")\n",
    "        ## checking if the user have operator permissions\n",
    "        op_permission = False\n",
    "        if \"operator\" in monitoring_api.validate_token()[\"role\"]:\n",
    "            op_permission = True\n",
    "        if op_permission:\n",
    "        ### adding cluster\n",
    "            pcluster = DkubeCluster(name=SERVING_DKUBE_CLUSTER_NAME)\n",
    "            pcluster.update_kind(\"dkube-remote\")\n",
    "            pcluster.update_class(\"monitoring\")\n",
    "            pcluster.update_authtype(\"jwt\")\n",
    "            pcluster.update_url(url=SERVING_DKUBE_URL)\n",
    "            pcluster.update_jwt_details(jwt_token=SERVING_DKUBE_TOKEN)\n",
    "            try:\n",
    "                monitoring_api.configure_clusters(pcluster.cluster)\n",
    "                print(\"Cluster added\")\n",
    "            except Exception as e:\n",
    "                print(e)\n",
    "        else:\n",
    "            msg = f'''\n",
    "            User {MONITORING_DKUBE_USERNAME} doesn't have operator permissions,\n",
    "            Ask the operator to add cluster first.\n",
    "            '''\n",
    "            raise Exception(msg)\n",
    "    ## Importing deployment\n",
    "    try:\n",
    "        DEPLOYMENT_ID = monitoring_api.import_deployment(name=MONITOR_NAME,\n",
    "                                                         cluster=SERVING_DKUBE_CLUSTER_NAME,\n",
    "                                                         namespace=SERVING_DKUBE_USERNAME)\n",
    "        print(\"Deployment Imported\")\n",
    "    except Exception as e:\n",
    "        print(e)\n",
    "        \n",
    "else:\n",
    "    monitoring_api = serving_api\n",
    "    DKUBEUSERNAME = SERVING_DKUBE_USERNAME\n",
    "    DEPLOYMENT_ID = SERVING_DEPLOYMENT_ID"
   ]
  },
  {
   "cell_type": "markdown",
   "metadata": {},
   "source": [
    "## Initializing model monitor"
   ]
  },
  {
   "cell_type": "code",
   "execution_count": null,
   "metadata": {},
   "outputs": [],
   "source": [
    "mm=DkubeModelmonitor(deployemnt_id = DEPLOYMENT_ID)"
   ]
  },
  {
   "cell_type": "code",
   "execution_count": null,
   "metadata": {},
   "outputs": [],
   "source": [
    "schema = {\"features\": [{\n",
    "        \"class\": \"categorical\",\n",
    "        \"label\": \"prediction\",\n",
    "        \"type\": \"prediction_output\"\n",
    "      }]\n",
    "    }\n",
    "mm.modelmonitor.schema = schema"
   ]
  },
  {
   "cell_type": "code",
   "execution_count": null,
   "metadata": {},
   "outputs": [],
   "source": [
    "mm.update_modelmonitor_basics(model_type=ModelType.Classification.value, \n",
    "                               input_data_type=DataType.Image.value,\n",
    "                               data_timezone=TimeZone.UTC.value)"
   ]
  },
  {
   "cell_type": "code",
   "execution_count": null,
   "metadata": {},
   "outputs": [],
   "source": [
    "mm.update_image_data_shape(height=200, width=200, channel=1)"
   ]
  },
  {
   "cell_type": "code",
   "execution_count": null,
   "metadata": {},
   "outputs": [],
   "source": [
    "with open('thresholds.json') as f:\n",
    "    thresholds = json.load(f)\n",
    "mm.add_thresholds(thresholds=thresholds)"
   ]
  },
  {
   "cell_type": "code",
   "execution_count": null,
   "metadata": {},
   "outputs": [],
   "source": [
    "training_data = f'{DKUBEUSERNAME}:{TRAINING_DATASET}'\n",
    "train_data_version = get_dataset_version(DKUBEUSERNAME,\n",
    "                                            TRAINING_DATASET, \"v1\")\n",
    "labelled_data = f\"{DKUBEUSERNAME}:{LIVE_DATASET}\"\n",
    "predict_data_format = \"cloudeventlogs\""
   ]
  },
  {
   "cell_type": "markdown",
   "metadata": {},
   "source": [
    "## Adding train, predict, and labelled datasets"
   ]
  },
  {
   "cell_type": "code",
   "execution_count": null,
   "metadata": {},
   "outputs": [],
   "source": [
    "mm.add_datasources(data_class=DatasetClass.Train.value,name=training_data,\n",
    "                   version=train_data_version,\n",
    "                   s3_subpath=DEPLOYMENT_ID)\n",
    "\n",
    "if MONITORING_DKUBE_URL:\n",
    "    mm.add_datasources(data_class=str(DatasetClass.Predict), name=labelled_data,\n",
    "                       data_format=predict_data_format, s3_subpath=SERVING_DEPLOYMENT_ID)\n",
    "else:\n",
    "    mm.add_datasources(data_class=str(DatasetClass.Predict),\n",
    "                       data_format=predict_data_format)\n",
    "\n",
    "mm.add_datasources(data_class=DatasetClass.Labelled.value,name=labelled_data,\n",
    "                   data_format=DataType.Tabular.value, s3_subpath=SERVING_DEPLOYMENT_ID + \"/livedata\",\n",
    "                   predict_col=\"output\",groundtruth_col=\"label\",timestamp_col=\"timestamp\")"
   ]
  },
  {
   "cell_type": "markdown",
   "metadata": {},
   "source": [
    "## Health Monitoring"
   ]
  },
  {
   "cell_type": "code",
   "execution_count": null,
   "metadata": {},
   "outputs": [],
   "source": [
    "mm.update_deployment_monitoring_details(enabled=True, frequency=1)"
   ]
  },
  {
   "cell_type": "markdown",
   "metadata": {},
   "source": [
    "## Drift monitoring"
   ]
  },
  {
   "cell_type": "code",
   "execution_count": null,
   "metadata": {},
   "outputs": [],
   "source": [
    "mm.update_drift_monitoring_details(enabled=True,\n",
    "                                  frequency=RUN_FREQUENCY,\n",
    "                                  image_train_data_savedfile_format=\"images_in_labelled_folder\")"
   ]
  },
  {
   "cell_type": "markdown",
   "metadata": {},
   "source": [
    "## Performance Monitoring"
   ]
  },
  {
   "cell_type": "code",
   "execution_count": null,
   "metadata": {},
   "outputs": [],
   "source": [
    "mm.update_performance_monitoring_details(enabled=True,source_type=\"labelled_data\",frequency=RUN_FREQUENCY)"
   ]
  },
  {
   "cell_type": "markdown",
   "metadata": {},
   "source": [
    "## Creating model monitor"
   ]
  },
  {
   "cell_type": "code",
   "execution_count": null,
   "metadata": {},
   "outputs": [],
   "source": [
    "id = monitoring_api.modelmonitor_create(mm,wait_for_completion=True)"
   ]
  },
  {
   "cell_type": "markdown",
   "metadata": {},
   "source": [
    "### Add alerts"
   ]
  },
  {
   "cell_type": "markdown",
   "metadata": {},
   "source": [
    "#### Deployment Health Alert"
   ]
  },
  {
   "cell_type": "code",
   "execution_count": null,
   "metadata": {},
   "outputs": [],
   "source": [
    "alert = DkubeModelmonitorAlert(name='latency_alert', alert_class = 'deployment_health')\n",
    "alert.add_alert_condition(metric='latency_avg',threshold=300, op=operator.gt)\n",
    "monitoring_api.modelmonitor_add_alert(id,alert)"
   ]
  },
  {
   "cell_type": "markdown",
   "metadata": {},
   "source": [
    "#### Data Drift Alert"
   ]
  },
  {
   "cell_type": "code",
   "execution_count": null,
   "metadata": {},
   "outputs": [],
   "source": [
    "alert = DkubeModelmonitorAlert(name='image_drift_alert', alert_class = 'feature_drift')\n",
    "alert.add_alert_condition(feature=\"image\", threshold=0.42, op=operator.gt)\n",
    "monitoring_api.modelmonitor_add_alert(id,alert)"
   ]
  },
  {
   "cell_type": "markdown",
   "metadata": {},
   "source": [
    "#### Performance Alert"
   ]
  },
  {
   "cell_type": "code",
   "execution_count": null,
   "metadata": {},
   "outputs": [],
   "source": [
    "alert = DkubeModelmonitorAlert(name='accuracy_alert', alert_class = 'performance_decay')\n",
    "alert.update_alert(metric='accuracy',threshold=0.9, op=operator.lt)\n",
    "monitoring_api.modelmonitor_add_alert(id,alert)"
   ]
  },
  {
   "cell_type": "markdown",
   "metadata": {},
   "source": [
    "### Start the model monitor"
   ]
  },
  {
   "cell_type": "code",
   "execution_count": null,
   "metadata": {},
   "outputs": [],
   "source": [
    "monitoring_api.modelmonitor_start(DEPLOYMENT_ID)"
   ]
  },
  {
   "cell_type": "markdown",
   "metadata": {},
   "source": [
    "### Cleanup"
   ]
  },
  {
   "cell_type": "code",
   "execution_count": null,
   "metadata": {},
   "outputs": [],
   "source": [
    "CLEANUP = False\n",
    "if CLEANUP:\n",
    "    from time import sleep\n",
    "    RETRIES = 4\n",
    "    while RETRIES:\n",
    "        mm = monitoring_api.modelmonitor_get(DEPLOYMENT_ID)\n",
    "        if mm[\"status\"] and mm[\"status\"][\"state\"].lower() != \"active\":\n",
    "            break\n",
    "        elif mm[\"status\"] and mm[\"status\"][\"state\"].lower() == \"active\":\n",
    "            monitoring_api.modelmonitor_stop(DEPLOYMENT_ID)\n",
    "        RETRIES -= 1\n",
    "        sleep(5)\n",
    "    else:\n",
    "        raise TimeoutError(\"modelmonitor failed to stopped\")\n",
    "    monitoring_api.modelmonitor_delete(DEPLOYMENT_ID)"
   ]
  },
  {
   "cell_type": "code",
   "execution_count": null,
   "metadata": {},
   "outputs": [],
   "source": []
  }
 ],
 "metadata": {
  "kernelspec": {
   "display_name": "Python 3.9.6 64-bit",
   "language": "python",
   "name": "python3"
  },
  "language_info": {
   "codemirror_mode": {
    "name": "ipython",
    "version": 3
   },
   "file_extension": ".py",
   "mimetype": "text/x-python",
   "name": "python",
   "nbconvert_exporter": "python",
   "pygments_lexer": "ipython3"
  },
  "vscode": {
   "interpreter": {
    "hash": "31f2aee4e71d21fbe5cf8b01ff0e069b9275f58929596ceb00d14d90e3e16cd6"
   }
  }
 },
 "nbformat": 4,
 "nbformat_minor": 4
}
