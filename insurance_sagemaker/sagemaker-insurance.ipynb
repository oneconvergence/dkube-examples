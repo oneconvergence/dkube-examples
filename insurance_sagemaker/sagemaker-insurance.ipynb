{
    "cells": [
     {
      "cell_type": "markdown",
      "metadata": {},
      "source": [
       "### Insurance model deployment in SageMaker"
      ]
     },
     {
      "cell_type": "code",
      "execution_count": null,
      "metadata": {},
      "outputs": [],
      "source": [
       "!pip install sagemaker >> /dev/null\n",
       "%store -r"
      ]
     },
     {
      "cell_type": "code",
      "execution_count": null,
      "metadata": {},
      "outputs": [],
      "source": [
       "ACCESS_KEY = sgmkr_config['ACCESS_KEY']\n",
       "SECRET_KEY = sgmkr_config['SECRET_KEY']\n",
       "BUCKET = sgmkr_config['BUCKET']\n",
       "PREFIX = sgmkr_config['PREFIX']\n",
       "REGION_NAME = sgmkr_config['REGION_NAME']\n",
       "ROLE = sgmkr_config['ROLE']\n",
       "MONITOR_NAME = sgmkr_config[\"MONITOR_NAME\"]"
      ]
     },
     {
      "cell_type": "code",
      "execution_count": null,
      "metadata": {},
      "outputs": [],
      "source": [
       "import os\n",
       "os.environ[\"AWS_ACCESS_KEY_ID\"] = ACCESS_KEY\n",
       "os.environ[\"AWS_SECRET_ACCESS_KEY\"] = SECRET_KEY\n",
       "os.environ[\"AWS_DEFAULT_REGION\"] = REGION_NAME\n",
       "HOME = os.getenv(\"HOME\")\n",
       "if HOME:\n",
       "    EXECUTABLE_DIR = os.path.join(HOME,\".local\", \"bin\")\n",
       "    PATH = os.getenv(\"PATH\")\n",
       "    if EXECUTABLE_DIR not in PATH:\n",
       "        os.environ[\"PATH\"] = f\"{PATH}:{EXECUTABLE_DIR}\"\n",
       "    PATH = os.getenv(\"PATH\")"
      ]
     },
     {
      "cell_type": "markdown",
      "metadata": {},
      "source": [
       "### Libraries"
      ]
     },
     {
      "cell_type": "code",
      "execution_count": null,
      "metadata": {},
      "outputs": [],
      "source": [
       "import os\n",
       "import boto3\n",
       "import re\n",
       "import time\n",
       "import json\n",
       "import joblib\n",
       "import pickle\n",
       "import tarfile\n",
       "import sagemaker\n",
       "from sagemaker.estimator import Estimator\n",
       "import time\n",
       "from time import gmtime, strftime\n",
       "import subprocess"
      ]
     },
     {
      "cell_type": "markdown",
      "metadata": {},
      "source": [
       "### Deploy the model in sagemaker"
      ]
     },
     {
      "cell_type": "code",
      "execution_count": null,
      "metadata": {},
      "outputs": [],
      "source": [
       "data_capture_prefix = \"{}/datacapture\".format(PREFIX)\n",
       "s3_capture_upload_path = \"s3://{}/{}\".format(BUCKET, data_capture_prefix)          \n",
       "\n",
       "print(\"Capture path: {}\".format(s3_capture_upload_path))"
      ]
     },
     {
      "cell_type": "code",
      "execution_count": null,
      "metadata": {},
      "outputs": [],
      "source": [
       "bashCommand = \"tar -cvpzf model.tar.gz model.joblib\"\n",
       "process = subprocess.Popen(bashCommand.split(), stdout=subprocess.PIPE)\n",
       "output, error = process.communicate()"
      ]
     },
     {
      "cell_type": "markdown",
      "metadata": {},
      "source": [
       "#### Upload trained model.tar.gz file in sagemaker"
      ]
     },
     {
      "cell_type": "code",
      "execution_count": null,
      "metadata": {},
      "outputs": [],
      "source": [
       "boto_session = boto3.session.Session(aws_access_key_id=ACCESS_KEY,\n",
       "                                     aws_secret_access_key=SECRET_KEY,\n",
       "                                     region_name=REGION_NAME)\n",
       "s3 = boto_session.resource('s3')\n",
       "#Upload tar.gz to bucket\n",
       "response = s3.meta.client.upload_file('model.tar.gz', BUCKET, 'model.tar.gz')"
      ]
     },
     {
      "cell_type": "code",
      "execution_count": null,
      "metadata": {},
      "outputs": [],
      "source": [
       "%%writefile inference_script.py\n",
       "import joblib\n",
       "import os\n",
       "\n",
       "def model_fn(model_dir):\n",
       "    clf = joblib.load(os.path.join(model_dir, \"model.joblib\"))\n",
       "    return clf"
      ]
     },
     {
      "cell_type": "code",
      "execution_count": null,
      "metadata": {},
      "outputs": [],
      "source": [
       "from sagemaker.sklearn.model import SKLearnModel\n",
       "\n",
       "model = SKLearnModel(\n",
       "    model_data=f\"s3://{BUCKET}/model.tar.gz\",\n",
       "    role=ROLE,\n",
       "    entry_point='inference_script.py',\n",
       "    framework_version='0.23-1')"
      ]
     },
     {
      "cell_type": "markdown",
      "metadata": {},
      "source": [
       "### Deploying..."
      ]
     },
     {
      "cell_type": "code",
      "execution_count": null,
      "metadata": {},
      "outputs": [],
      "source": [
       "ENDPOINT_NAME = MONITOR_NAME\n",
       "sgmkr_config['ENDPOINT_NAME'] = ENDPOINT_NAME\n",
       "%store sgmkr_config"
      ]
     },
     {
      "cell_type": "code",
      "execution_count": null,
      "metadata": {},
      "outputs": [],
      "source": [
       "from sagemaker.model_monitor import DataCaptureConfig\n",
       "\n",
       "print(\"ENDPOINT_NAME = {}\".format(ENDPOINT_NAME))\n",
       "\n",
       "data_capture_config = DataCaptureConfig(\n",
       "    enable_capture=True, sampling_percentage=100, destination_s3_uri=s3_capture_upload_path\n",
       ")\n",
       "\n",
       "predictor = model.deploy(\n",
       "    initial_instance_count=1,\n",
       "    instance_type=\"ml.t2.medium\",\n",
       "    endpoint_name=ENDPOINT_NAME,\n",
       "    data_capture_config=data_capture_config,\n",
       "    wait=False\n",
       ")\n",
       "print(\"Sagemaker will take 10-15 mins to create the endpoint\")"
      ]
     },
     {
      "cell_type": "code",
      "execution_count": null,
      "metadata": {},
      "outputs": [],
      "source": [
       "CLEANUP = True\n",
       "if CLEANUP:\n",
       "    client = boto3.client(service_name=\"sagemaker\", aws_access_key_id=ACCESS_KEY,\n",
       "                                     aws_secret_access_key=SECRET_KEY,\n",
       "                                     region_name=REGION_NAME)\n",
       "    client.delete_endpoint(EndpointName = ENDPOINT_NAME)\n",
       "    client.delete_endpoint_config(EndpointConfigName = ENDPOINT_NAME)"
      ]
     },
     {
      "cell_type": "code",
      "execution_count": null,
      "metadata": {},
      "outputs": [],
      "source": []
     }
    ],
    "metadata": {
     "kernelspec": {
      "display_name": "Python 3",
      "language": "python",
      "name": "python3"
     },
     "language_info": {
      "codemirror_mode": {
       "name": "ipython",
       "version": 3
      },
      "file_extension": ".py",
      "mimetype": "text/x-python",
      "name": "python",
      "nbconvert_exporter": "python",
      "pygments_lexer": "ipython3",
      "version": "3.6.8"
     }
    },
    "nbformat": 4,
    "nbformat_minor": 4
   }
   