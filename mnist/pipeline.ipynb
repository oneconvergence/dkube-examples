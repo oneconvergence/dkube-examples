{
 "cells": [
  {
   "cell_type": "code",
   "execution_count": null,
   "metadata": {},
   "outputs": [],
   "source": [
    "import sys\n",
    "!{sys.executable} -m pip install kfp==1.4.0 kfp-server-api==1.2.0 --user>/dev/null"
   ]
  },
  {
   "cell_type": "code",
   "execution_count": null,
   "metadata": {},
   "outputs": [],
   "source": [
    "import os,sys\n",
    "import kfp\n",
    "import random\n",
    "import string"
   ]
  },
  {
   "cell_type": "code",
   "execution_count": null,
   "metadata": {},
   "outputs": [],
   "source": [
    "components_url = \"/mnt/dkube/pipeline/components/\"\n",
    "dkube_training_op = kfp.components.load_component_from_file(components_url + \"training/component.yaml\")\n",
    "dkube_serving_op = kfp.components.load_component_from_file(components_url + \"serving/component.yaml\")\n",
    "token = os.getenv(\"DKUBE_USER_ACCESS_TOKEN\")\n",
    "client = kfp.Client(host=os.getenv(\"KF_PIPELINES_ENDPOINT\"), existing_token=token, namespace=os.getenv(\"USERNAME\"))"
   ]
  },
  {
   "cell_type": "code",
   "execution_count": null,
   "metadata": {},
   "outputs": [],
   "source": [
    "@kfp.dsl.pipeline(\n",
    "    name='dkube-mnist-pl',\n",
    "    description='sample mnist pipeline with dkube components'\n",
    ")\n",
    "def mnist_pipeline():\n",
    "    train       = dkube_training_op(token,container = '{\"image\":\"ocdr/d3-datascience-pytorch-cpu:v1.6\"}',\n",
    "                                    framework=\"pytorch\", version=\"1.6\",\n",
    "                                    program=\"pytorch-examples\", run_script=\"python mnist/train.py\",\n",
    "                                    datasets='[\"mnist\"]', outputs='[\"mnist\"]',\n",
    "                                    input_dataset_mounts='[\"/mnist\"]',\n",
    "                                    output_mounts='[\"/model\"]',\n",
    "                                    envs='[{\"EPOCHS\": \"1\"}]')\n",
    "\n",
    "    serving     = dkube_serving_op(token,model = train.outputs['artifact'], device='cpu', \n",
    "                                    serving_image='{\"image\":\"ocdr/pytorchserver:1.6\"}',\n",
    "                                    transformer_image='{\"image\":\"ocdr/d3-datascience-pytorch-cpu:v1.6-1\"}',\n",
    "                                    transformer_project=\"pytorch-examples\",\n",
    "                                    transformer_code='mnist/transformer.py').after(train)"
   ]
  },
  {
   "cell_type": "code",
   "execution_count": null,
   "metadata": {},
   "outputs": [],
   "source": [
    "client.create_run_from_pipeline_func(mnist_pipeline, arguments={})"
   ]
  },
  {
   "cell_type": "code",
   "execution_count": null,
   "metadata": {},
   "outputs": [],
   "source": [
    "# compile\n",
    "import tempfile\n",
    "f = tempfile.NamedTemporaryFile(suffix=\".zip\", delete=False)\n",
    "kfp.compiler.Compiler().compile(mnist_pipeline,f.name)"
   ]
  },
  {
   "cell_type": "code",
   "execution_count": null,
   "metadata": {},
   "outputs": [],
   "source": [
    "pipeline_id = client.get_pipeline_id(\"mnist-pipeline\")\n",
    "\n",
    "if(pipeline_id != None):\n",
    "    pipeline_version = ''.join(random.choices(string.ascii_uppercase + string.digits, k = 7))\n",
    "    new_pipeline = client.upload_pipeline_version(f.name,pipeline_version_name = pipeline_version, pipeline_id = pipeline_id)\n",
    "else:\n",
    "    pipeline = client.upload_pipeline(f.name, pipeline_name=\"mnist-pipeline\")\n"
   ]
  }
 ],
 "metadata": {
  "kernelspec": {
   "display_name": "Python 3",
   "language": "python",
   "name": "python3"
  },
  "language_info": {
   "codemirror_mode": {
    "name": "ipython",
    "version": 3
   },
   "file_extension": ".py",
   "mimetype": "text/x-python",
   "name": "python",
   "nbconvert_exporter": "python",
   "pygments_lexer": "ipython3",
   "version": "3.8.5"
  }
 },
 "nbformat": 4,
 "nbformat_minor": 4
}
