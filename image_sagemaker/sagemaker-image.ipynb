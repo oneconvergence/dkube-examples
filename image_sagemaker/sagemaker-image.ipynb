{
 "cells": [
  {
   "cell_type": "code",
   "execution_count": null,
   "metadata": {},
   "outputs": [],
   "source": [
    "!pip install sagemaker >> /dev/null\n",
    "%store -r "
   ]
  },
  {
   "cell_type": "code",
   "execution_count": null,
   "metadata": {},
   "outputs": [],
   "source": [
    "ACCESS_KEY = image_sgmkr_config['ACCESS_KEY']\n",
    "SECRET_KEY = image_sgmkr_config['SECRET_KEY']\n",
    "BUCKET = image_sgmkr_config['BUCKET']\n",
    "PREFIX = image_sgmkr_config['PREFIX']\n",
    "REGION_NAME = image_sgmkr_config['REGION_NAME']\n",
    "ROLE = image_sgmkr_config['ROLE']\n",
    "MONITOR_NAME = image_sgmkr_config[\"MONITOR_NAME\"]"
   ]
  },
  {
   "cell_type": "code",
   "execution_count": null,
   "metadata": {},
   "outputs": [],
   "source": [
    "import os\n",
    "os.environ[\"AWS_ACCESS_KEY_ID\"] = ACCESS_KEY\n",
    "os.environ[\"AWS_SECRET_ACCESS_KEY\"] = SECRET_KEY\n",
    "os.environ[\"AWS_DEFAULT_REGION\"] = REGION_NAME\n",
    "HOME = os.getenv(\"HOME\")\n",
    "if HOME:\n",
    "    EXECUTABLE_DIR = os.path.join(HOME,\".local\", \"bin\")\n",
    "    PATH = os.getenv(\"PATH\")\n",
    "    if EXECUTABLE_DIR not in PATH:\n",
    "        os.environ[\"PATH\"] = f\"{PATH}:{EXECUTABLE_DIR}\"\n",
    "    PATH = os.getenv(\"PATH\")\n",
    "    \n",
    "os.environ[\"AWS_ACCESS_KEY_ID\"] = ACCESS_KEY\n",
    "os.environ[\"AWS_SECRET_ACCESS_KEY\"] = SECRET_KEY\n",
    "os.environ[\"AWS_DEFAULT_REGION\"] = REGION_NAME"
   ]
  },
  {
   "cell_type": "code",
   "execution_count": null,
   "metadata": {},
   "outputs": [],
   "source": [
    "import tensorflow as tf\n",
    "import os\n",
    "import boto3\n",
    "from sagemaker import get_execution_role\n",
    "from sagemaker import Session\n",
    "import sagemaker\n",
    "import numpy as np"
   ]
  },
  {
   "cell_type": "code",
   "execution_count": null,
   "metadata": {},
   "outputs": [],
   "source": [
    "role = ROLE\n",
    "sess = Session()\n",
    "bucket = BUCKET"
   ]
  },
  {
   "cell_type": "code",
   "execution_count": null,
   "metadata": {},
   "outputs": [],
   "source": [
    "model_archive = 'model.tar.gz'\n",
    "model_data = sess.upload_data(path=model_archive,bucket=bucket, key_prefix='model')"
   ]
  },
  {
   "cell_type": "code",
   "execution_count": null,
   "metadata": {},
   "outputs": [],
   "source": [
    "data_capture_prefix = \"{}/datacapture\".format(PREFIX)\n",
    "s3_capture_upload_path = \"s3://{}/{}\".format(BUCKET, data_capture_prefix)\n",
    "print(s3_capture_upload_path)"
   ]
  },
  {
   "cell_type": "code",
   "execution_count": null,
   "metadata": {},
   "outputs": [],
   "source": [
    "ENDPOINT_NAME = MONITOR_NAME\n",
    "image_sgmkr_config['ENDPOINT_NAME'] = ENDPOINT_NAME\n",
    "%store image_sgmkr_config"
   ]
  },
  {
   "cell_type": "code",
   "execution_count": null,
   "metadata": {},
   "outputs": [],
   "source": [
    "from sagemaker.tensorflow.serving import Model\n",
    "from sagemaker.model_monitor import DataCaptureConfig\n",
    "\n",
    "instance_type = \"ml.t2.medium\"\n",
    "tf_framework_version = \"2.0\"\n",
    "\n",
    "sm_model = Model(model_data=model_data, \n",
    "                 framework_version=tf_framework_version,role=role)\n",
    "\n",
    "data_capture_config = DataCaptureConfig(enable_capture=True, sampling_percentage=100, \n",
    "                                        destination_s3_uri=s3_capture_upload_path)\n",
    "\n",
    "uncompiled_predictor = sm_model.deploy(initial_instance_count=1, \n",
    "                                       instance_type=instance_type,\n",
    "                                       endpoint_name = ENDPOINT_NAME,\n",
    "                                       data_capture_config=data_capture_config,\n",
    "                                       wait=False)\n",
    "print(\"Sagemaker will take 10-15 mins to create the endpoint\")"
   ]
  },
  {
   "cell_type": "code",
   "execution_count": null,
   "metadata": {},
   "outputs": [],
   "source": [
    "CLEANUP = False\n",
    "if CLEANUP:\n",
    "    client = boto3.client(service_name=\"sagemaker\", aws_access_key_id=ACCESS_KEY,\n",
    "                                     aws_secret_access_key=SECRET_KEY,\n",
    "                                     region_name=REGION_NAME)\n",
    "    client.delete_endpoint(EndpointName = ENDPOINT_NAME)\n",
    "    client.delete_endpoint_config(EndpointConfigName = ENDPOINT_NAME)\n",
    "    client.delete_model(ModelName=ENDPOINT_NAME)"
   ]
  }
 ],
 "metadata": {
  "kernelspec": {
   "display_name": "Python 3",
   "language": "python",
   "name": "python3"
  },
  "language_info": {
   "codemirror_mode": {
    "name": "ipython",
    "version": 3
   },
   "file_extension": ".py",
   "mimetype": "text/x-python",
   "name": "python",
   "nbconvert_exporter": "python",
   "pygments_lexer": "ipython3",
   "version": "3.6.8"
  }
 },
 "nbformat": 4,
 "nbformat_minor": 4
}
