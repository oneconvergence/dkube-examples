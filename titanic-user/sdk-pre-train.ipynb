{
 "cells": [
  {
   "cell_type": "markdown",
   "metadata": {},
   "source": [
    "## Installing DKube SDK"
   ]
  },
  {
   "cell_type": "code",
   "execution_count": null,
   "metadata": {},
   "outputs": [],
   "source": [
    "import sys\n",
    "!{sys.executable} -m pip install git+https://github.com/oneconvergence/dkube.git@2.2-dev --upgrade --no-cache-dir > /dev/null"
   ]
  },
  {
   "cell_type": "markdown",
   "metadata": {},
   "source": [
    "# Importing DKube SDK"
   ]
  },
  {
   "cell_type": "code",
   "execution_count": null,
   "metadata": {},
   "outputs": [],
   "source": [
    "from dkube.sdk import *"
   ]
  },
  {
   "cell_type": "markdown",
   "metadata": {},
   "source": [
    "# Input and output parameters for the run"
   ]
  },
  {
   "cell_type": "code",
   "execution_count": null,
   "metadata": {},
   "outputs": [],
   "source": [
    "user = os.getenv('USERNAME')\n",
    "authToken = os.getenv('DKUBE_USER_ACCESS_TOKEN')\n",
    "project_id = \"ynli7c\"\n",
    "project_name = \"titanic\"\n",
    "ptrain_dataset = 'titanic-train'\n",
    "ptest_dataset = 'titanic-test'\n",
    "dataset_mount_points = [\"/opt/dkube/input/train\", \"/opt/dkube/input/test\"]\n",
    "ptrain_out_path = \"/opt/dkube/output/train\"\n",
    "ptest_out_path = \"/opt/dkube/output/test\"\n",
    "train_fs = \"titanic-train-fs\"\n",
    "test_fs = \"titanic-test-fs\"\n",
    "model_name = \"titanic\"\n",
    "framework = \"scikit_v0.2.2\"\n",
    "image = \"docker.io/ocdr/dkube-datascience-tf-cpu:fs-v2.0.0\"\n",
    "preprocess_script = f\"python preprocessing.py --train_fs {train_fs} --test_fs {test_fs}\"\n",
    "training_script = f\"python training.py --train_fs {train_fs}\""
   ]
  },
  {
   "cell_type": "markdown",
   "metadata": {},
   "source": [
    "# DKube client handle"
   ]
  },
  {
   "cell_type": "code",
   "execution_count": null,
   "metadata": {},
   "outputs": [],
   "source": [
    "api = DkubeApi(token=authToken)"
   ]
  },
  {
   "cell_type": "markdown",
   "metadata": {},
   "source": [
    "# Updating preprocessing run details"
   ]
  },
  {
   "cell_type": "code",
   "execution_count": null,
   "metadata": {},
   "outputs": [],
   "source": [
    "preprocessing_name= generate(project_name)\n",
    "preprocessing = DkubePreprocessing(user, name=preprocessing_name, description='triggered from dkube sdk', tags = [\"project:\" + project_id])\n",
    "preprocessing.update_container(image_url=image)\n",
    "preprocessing.update_startupscript(preprocess_script)\n",
    "preprocessing.add_project(project_name)\n",
    "preprocessing.add_input_dataset(ptrain_dataset, mountpath=dataset_mount_points[0])\n",
    "preprocessing.add_input_dataset(ptest_dataset, mountpath=dataset_mount_points[1])\n",
    "preprocessing.add_output_featureset(train_fs, mountpath=ptrain_out_path)\n",
    "preprocessing.add_output_featureset(test_fs, mountpath=ptest_out_path)"
   ]
  },
  {
   "cell_type": "markdown",
   "metadata": {},
   "source": [
    "# Creating preprocessing run"
   ]
  },
  {
   "cell_type": "code",
   "execution_count": null,
   "metadata": {},
   "outputs": [],
   "source": [
    "# Skip if preprocessing is not required\n",
    "api.create_preprocessing_run(preprocessing)"
   ]
  },
  {
   "cell_type": "markdown",
   "metadata": {},
   "source": [
    "# Updating training run details"
   ]
  },
  {
   "cell_type": "code",
   "execution_count": null,
   "metadata": {},
   "outputs": [],
   "source": [
    "training_name = generate(project_name)\n",
    "training = DkubeTraining(user, name = training_name, description='triggered from dkube sdk', tags = [\"project:\" + project_id])\n",
    "training.update_container(framework = framework, image_url=image)\n",
    "training.update_startupscript(training_script)\n",
    "training.add_project(project_name)\n",
    "training.add_input_featureset(train_fs, mountpath=\"/titanic-train\")\n",
    "training.add_input_featureset(test_fs, mountpath=\"/titanic-test\")\n",
    "training.add_output_model(model_name, mountpath=\"/model\")"
   ]
  },
  {
   "cell_type": "markdown",
   "metadata": {},
   "source": [
    "# Creating training run"
   ]
  },
  {
   "cell_type": "code",
   "execution_count": null,
   "metadata": {},
   "outputs": [],
   "source": [
    "api.create_training_run(training)"
   ]
  },
  {
   "cell_type": "code",
   "execution_count": null,
   "metadata": {},
   "outputs": [],
   "source": []
  }
 ],
 "metadata": {
  "kernelspec": {
   "display_name": "Python 3",
   "language": "python",
   "name": "python3"
  },
  "language_info": {
   "codemirror_mode": {
    "name": "ipython",
    "version": 3
   },
   "file_extension": ".py",
   "mimetype": "text/x-python",
   "name": "python",
   "nbconvert_exporter": "python",
   "pygments_lexer": "ipython3",
   "version": "3.6.8"
  }
 },
 "nbformat": 4,
 "nbformat_minor": 4
}
