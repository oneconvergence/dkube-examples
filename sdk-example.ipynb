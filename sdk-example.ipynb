{
 "cells": [
  {
   "cell_type": "markdown",
   "metadata": {},
   "source": [
    "## Installing DKube SDK"
   ]
  },
  {
   "cell_type": "code",
   "execution_count": null,
   "metadata": {},
   "outputs": [
    {
     "name": "stdout",
     "output_type": "stream",
     "text": [
      "Collecting git+https://github.com/oneconvergence/dkube.git@2.2-dev\n",
      "  Cloning https://github.com/oneconvergence/dkube.git (to revision 2.2-dev) to /tmp/pip-req-build-yrmntbxt\n",
      "  Running command git clone -q https://github.com/oneconvergence/dkube.git /tmp/pip-req-build-yrmntbxt\n",
      "  Running command git checkout -b 2.2-dev --track origin/2.2-dev\n",
      "  Switched to a new branch '2.2-dev'\n",
      "  Branch '2.2-dev' set up to track remote branch '2.2-dev' from 'origin'.\n",
      "Requirement already satisfied (use --upgrade to upgrade): dkube==2.1.5 from git+https://github.com/oneconvergence/dkube.git@2.2-dev in /root/.local/lib/python3.6/site-packages\n",
      "Requirement already satisfied: validators in /root/.local/lib/python3.6/site-packages (from dkube==2.1.5) (0.18.1)\n",
      "Requirement already satisfied: minio in /usr/local/lib/python3.6/dist-packages (from dkube==2.1.5) (6.0.0)\n",
      "Requirement already satisfied: requests in /usr/local/lib/python3.6/dist-packages (from dkube==2.1.5) (2.24.0)\n",
      "Requirement already satisfied: certifi>=14.05.14 in /usr/local/lib/python3.6/dist-packages (from dkube==2.1.5) (2020.6.20)\n",
      "Requirement already satisfied: six>=1.10 in /usr/local/lib/python3.6/dist-packages (from dkube==2.1.5) (1.15.0)\n",
      "Requirement already satisfied: python_dateutil>=2.5.3 in /usr/local/lib/python3.6/dist-packages (from dkube==2.1.5) (2.8.0)\n",
      "Requirement already satisfied: setuptools>=21.0.0 in /usr/local/lib/python3.6/dist-packages (from dkube==2.1.5) (41.0.1)\n",
      "Requirement already satisfied: urllib3>=1.15.1 in /usr/local/lib/python3.6/dist-packages (from dkube==2.1.5) (1.25.11)\n",
      "Requirement already satisfied: url_normalize in /root/.local/lib/python3.6/site-packages (from dkube==2.1.5) (1.4.3)\n",
      "Requirement already satisfied: pyarrow in /root/.local/lib/python3.6/site-packages (from dkube==2.1.5) (2.0.0)\n",
      "Requirement already satisfied: pandas>=1.1.4 in /usr/local/lib/python3.6/dist-packages (from dkube==2.1.5) (1.1.4)\n",
      "Requirement already satisfied: decorator>=3.4.0 in /usr/local/lib/python3.6/dist-packages (from validators->dkube==2.1.5) (4.4.0)\n",
      "Requirement already satisfied: pytz in /usr/local/lib/python3.6/dist-packages (from minio->dkube==2.1.5) (2020.4)\n",
      "Requirement already satisfied: configparser in /usr/local/lib/python3.6/dist-packages (from minio->dkube==2.1.5) (5.0.1)\n",
      "Requirement already satisfied: idna<3,>=2.5 in /usr/lib/python3/dist-packages (from requests->dkube==2.1.5) (2.6)\n",
      "Requirement already satisfied: chardet<4,>=3.0.2 in /usr/local/lib/python3.6/dist-packages (from requests->dkube==2.1.5) (3.0.4)\n",
      "Requirement already satisfied: numpy>=1.14 in /usr/local/lib/python3.6/dist-packages (from pyarrow->dkube==2.1.5) (1.19.4)\n",
      "Building wheels for collected packages: dkube\n",
      "  Building wheel for dkube (setup.py) ... \u001b[?25ldone\n",
      "\u001b[?25h  Stored in directory: /tmp/pip-ephem-wheel-cache-rxdzk3q_/wheels/2a/4b/84/14bfd7a4e7b1f305a75a29b13eccb45c94deb415823d831405\n",
      "Successfully built dkube\n",
      "\u001b[33mWARNING: You are using pip version 19.1.1, however version 20.2.4 is available.\n",
      "You should consider upgrading via the 'pip install --upgrade pip' command.\u001b[0m\n"
     ]
    }
   ],
   "source": [
    "! pip3 install git+https://github.com/oneconvergence/dkube.git@2.2-dev --user\n",
    "import os\n",
    "os._exit(00)"
   ]
  },
  {
   "cell_type": "code",
   "execution_count": 1,
   "metadata": {},
   "outputs": [],
   "source": [
    "from dkube.sdk import *"
   ]
  },
  {
   "cell_type": "code",
   "execution_count": 2,
   "metadata": {},
   "outputs": [],
   "source": [
    "user = os.getenv('USERNAME')\n",
    "authToken = os.getenv('DKUBE_USER_ACCESS_TOKEN')\n",
    "inp_path = \"/opt/dkube/input\"\n",
    "out_path = \"/opt/dkube/output\"\n",
    "project_name = \"mnist-fs\"\n",
    "training_fs = \"mnist-fs\"\n",
    "dataset_name = \"mnist\"\n",
    "model_name = \"mnist\"\n",
    "framework = \"tensorflow_v1.14\"\n",
    "image = \"ocdr/d3-datascience-tf-cpu:fs-v1.14\"\n",
    "preprocess_script = \"python featureset.py\"\n",
    "training_script = \"python model.py\"\n",
    "transformer_code = \"tensorflow/classification/mnist-fs/digits/transformer/transformer.py\""
   ]
  },
  {
   "cell_type": "code",
   "execution_count": 3,
   "metadata": {},
   "outputs": [],
   "source": [
    "preprocessing_name= generate(project_name)\n",
    "preprocessing = DkubePreprocessing(user, name=preprocessing_name, description='triggered from dkube sdk')\n",
    "preprocessing.update_container(image_url=image)\n",
    "preprocessing.update_startupscript(preprocess_script)\n",
    "preprocessing.add_project(project_name)\n",
    "preprocessing.add_input_dataset(dataset_name, mountpath=inp_path)\n",
    "preprocessing.add_output_featureset(training_fs, mountpath=out_path)"
   ]
  },
  {
   "cell_type": "code",
   "execution_count": 4,
   "metadata": {},
   "outputs": [
    {
     "name": "stdout",
     "output_type": "stream",
     "text": [
      "run mnist-fs-6175 - waiting for completion, current state STARTING\n",
      "run mnist-fs-6175 - waiting for completion, current state STARTING\n",
      "run mnist-fs-6175 - waiting for completion, current state STARTING\n",
      "run mnist-fs-6175 - waiting for completion, current state RUNNING\n",
      "run mnist-fs-6175 - waiting for completion, current state RUNNING\n",
      "run mnist-fs-6175 - completed with state COMPLETE and reason Reason: Completed; Exit code: 0\n"
     ]
    }
   ],
   "source": [
    "api = DkubeApi(token=authToken)\n",
    "api.create_preprocessing_run(preprocessing)"
   ]
  },
  {
   "cell_type": "code",
   "execution_count": 5,
   "metadata": {},
   "outputs": [],
   "source": [
    "training_name= generate(project_name)\n",
    "training = DkubeTraining(user, name=training_name, description='triggered from dkube sdk')\n",
    "training.update_container(framework=framework, image_url=image)\n",
    "training.update_startupscript(training_script)\n",
    "training.add_project(project_name)\n",
    "training.add_input_featureset(training_fs, mountpath=inp_path)\n",
    "training.add_output_model(model_name, mountpath=out_path)"
   ]
  },
  {
   "cell_type": "code",
   "execution_count": 6,
   "metadata": {},
   "outputs": [
    {
     "name": "stdout",
     "output_type": "stream",
     "text": [
      "run mnist-fs-7796 - waiting for completion, current state STARTING\n",
      "run mnist-fs-7796 - waiting for completion, current state STARTING\n",
      "run mnist-fs-7796 - waiting for completion, current state STARTING\n",
      "run mnist-fs-7796 - waiting for completion, current state TRAINING\n",
      "run mnist-fs-7796 - waiting for completion, current state TRAINING\n",
      "run mnist-fs-7796 - waiting for completion, current state TRAINING\n",
      "run mnist-fs-7796 - waiting for completion, current state TRAINING\n",
      "run mnist-fs-7796 - waiting for completion, current state TRAINING\n",
      "run mnist-fs-7796 - waiting for completion, current state TRAINING\n",
      "run mnist-fs-7796 - waiting for completion, current state TRAINING\n",
      "run mnist-fs-7796 - waiting for completion, current state TRAINING\n",
      "run mnist-fs-7796 - waiting for completion, current state TRAINING\n",
      "run mnist-fs-7796 - waiting for completion, current state TRAINING\n",
      "run mnist-fs-7796 - waiting for completion, current state TRAINING\n",
      "run mnist-fs-7796 - waiting for completion, current state TRAINING\n",
      "run mnist-fs-7796 - waiting for completion, current state TRAINING\n",
      "run mnist-fs-7796 - waiting for completion, current state TRAINING\n",
      "run mnist-fs-7796 - waiting for completion, current state TRAINING\n",
      "run mnist-fs-7796 - waiting for completion, current state TRAINING\n",
      "run mnist-fs-7796 - waiting for completion, current state TRAINING\n",
      "run mnist-fs-7796 - waiting for completion, current state TRAINING\n",
      "run mnist-fs-7796 - waiting for completion, current state TRAINING\n",
      "run mnist-fs-7796 - waiting for completion, current state TRAINING\n",
      "run mnist-fs-7796 - waiting for completion, current state TRAINING\n",
      "run mnist-fs-7796 - waiting for completion, current state TRAINING\n",
      "run mnist-fs-7796 - waiting for completion, current state TRAINING\n",
      "run mnist-fs-7796 - waiting for completion, current state TRAINING\n",
      "run mnist-fs-7796 - waiting for completion, current state TRAINING\n",
      "run mnist-fs-7796 - waiting for completion, current state TRAINING\n",
      "run mnist-fs-7796 - waiting for completion, current state TRAINING\n",
      "run mnist-fs-7796 - waiting for completion, current state TRAINING\n",
      "run mnist-fs-7796 - waiting for completion, current state TRAINING\n",
      "run mnist-fs-7796 - waiting for completion, current state TRAINING\n",
      "run mnist-fs-7796 - waiting for completion, current state TRAINING\n",
      "run mnist-fs-7796 - waiting for completion, current state TRAINING\n",
      "run mnist-fs-7796 - waiting for completion, current state TRAINING\n",
      "run mnist-fs-7796 - waiting for completion, current state TRAINING\n",
      "run mnist-fs-7796 - completed with state COMPLETE and reason Succeeded: TFJob d3-tf-99f5940e-29bc-4fb4-a400-1708f66c2c7d successfully completed.\n"
     ]
    }
   ],
   "source": [
    "api.create_training_run(training)"
   ]
  },
  {
   "cell_type": "code",
   "execution_count": 7,
   "metadata": {},
   "outputs": [],
   "source": [
    "serving_name=generate(project_name)\n",
    "serving = DkubeServing(user, name=serving_name, description='serving deployed from dkube sdk')\n",
    "serving.update_transformer_code(project=project_name, code=transformer_code)\n",
    "serving.update_transformer_image(image_url='ocdr/d3-datascience-tf-cpu:v1.14')\n",
    "serving.update_serving_model(model_name)\n",
    "serving.update_serving_image(image_url='ocdr/d3-datascience-tf-cpu:v1.14')"
   ]
  },
  {
   "cell_type": "code",
   "execution_count": 8,
   "metadata": {},
   "outputs": [
    {
     "name": "stdout",
     "output_type": "stream",
     "text": [
      "run mnist-fs-1756 - waiting for completion, current state STARTING\n",
      "run mnist-fs-1756 - waiting for completion, current state STARTING\n",
      "run mnist-fs-1756 - waiting for completion, current state STARTING\n",
      "run mnist-fs-1756 - waiting for completion, current state STARTING\n",
      "run mnist-fs-1756 - waiting for completion, current state STARTING\n",
      "run mnist-fs-1756 - waiting for completion, current state STARTING\n",
      "run mnist-fs-1756 - waiting for completion, current state STARTING\n",
      "run mnist-fs-1756 - waiting for completion, current state STARTING\n",
      "run mnist-fs-1756 - waiting for completion, current state STARTING\n",
      "run mnist-fs-1756 - waiting for completion, current state STARTING\n",
      "run mnist-fs-1756 - waiting for completion, current state STARTING\n",
      "run mnist-fs-1756 - waiting for completion, current state STARTING\n",
      "run mnist-fs-1756 - waiting for completion, current state STARTING\n",
      "run mnist-fs-1756 - waiting for completion, current state STARTING\n",
      "run mnist-fs-1756 - waiting for completion, current state STARTING\n",
      "run mnist-fs-1756 - waiting for completion, current state STARTING\n",
      "run mnist-fs-1756 - waiting for completion, current state STARTING\n",
      "run mnist-fs-1756 - waiting for completion, current state STARTING\n",
      "run mnist-fs-1756 - waiting for completion, current state STARTING\n",
      "run mnist-fs-1756 - waiting for completion, current state STARTING\n",
      "run mnist-fs-1756 - waiting for completion, current state STARTING\n",
      "run mnist-fs-1756 - waiting for completion, current state STARTING\n",
      "run mnist-fs-1756 - waiting for completion, current state STARTING\n",
      "run mnist-fs-1756 - waiting for completion, current state STARTING\n",
      "run mnist-fs-1756 - waiting for completion, current state STARTING\n",
      "run mnist-fs-1756 - waiting for completion, current state STARTING\n",
      "run mnist-fs-1756 - waiting for completion, current state STARTING\n",
      "run mnist-fs-1756 - waiting for completion, current state STARTING\n",
      "run mnist-fs-1756 - waiting for completion, current state STARTING\n",
      "run mnist-fs-1756 - waiting for completion, current state STARTING\n",
      "run mnist-fs-1756 - waiting for completion, current state STARTING\n",
      "run mnist-fs-1756 - waiting for completion, current state STARTING\n",
      "run mnist-fs-1756 - waiting for completion, current state STARTING\n",
      "run mnist-fs-1756 - waiting for completion, current state STARTING\n",
      "run mnist-fs-1756 - waiting for completion, current state STARTING\n",
      "run mnist-fs-1756 - waiting for completion, current state STARTING\n",
      "run mnist-fs-1756 - waiting for completion, current state STARTING\n",
      "run mnist-fs-1756 - waiting for completion, current state STARTING\n",
      "run mnist-fs-1756 - waiting for completion, current state STARTING\n",
      "run mnist-fs-1756 - waiting for completion, current state STARTING\n",
      "run mnist-fs-1756 - waiting for completion, current state STARTING\n",
      "run mnist-fs-1756 - waiting for completion, current state STARTING\n",
      "run mnist-fs-1756 - waiting for completion, current state STARTING\n",
      "run mnist-fs-1756 - waiting for completion, current state STARTING\n",
      "run mnist-fs-1756 - waiting for completion, current state STARTING\n",
      "run mnist-fs-1756 - waiting for completion, current state STARTING\n",
      "run mnist-fs-1756 - waiting for completion, current state STARTING\n",
      "run mnist-fs-1756 - waiting for completion, current state STARTING\n",
      "run mnist-fs-1756 - waiting for completion, current state STARTING\n",
      "run mnist-fs-1756 - waiting for completion, current state STARTING\n",
      "run mnist-fs-1756 - waiting for completion, current state STARTING\n",
      "run mnist-fs-1756 - waiting for completion, current state STARTING\n",
      "run mnist-fs-1756 - waiting for completion, current state STARTING\n",
      "run mnist-fs-1756 - waiting for completion, current state STARTING\n",
      "run mnist-fs-1756 - waiting for completion, current state STARTING\n",
      "run mnist-fs-1756 - waiting for completion, current state STARTING\n",
      "run mnist-fs-1756 - waiting for completion, current state STARTING\n",
      "run mnist-fs-1756 - waiting for completion, current state STARTING\n",
      "run mnist-fs-1756 - waiting for completion, current state STARTING\n",
      "run mnist-fs-1756 - waiting for completion, current state STARTING\n",
      "run mnist-fs-1756 - waiting for completion, current state STARTING\n",
      "run mnist-fs-1756 - waiting for completion, current state STARTING\n",
      "run mnist-fs-1756 - waiting for completion, current state STARTING\n",
      "run mnist-fs-1756 - completed with state ERROR and reason Revision d3-inf-e270bd85-82c6-49f7-9d3b-9abc54b66517-predictor-defacllzm failed --- TimedOut: The target could not be activated. --- ExitCode127: Container failed with: OCI runtime create failed: container_linux.go:349: starting container process caused \"exec: \\\"--model_name=d3-inf-e270bd85-82c6-49f7-9d3b-9abc54b66517\\\": executable file not found in $PATH\": unknown\n"
     ]
    }
   ],
   "source": [
    "api.create_test_inference(serving)"
   ]
  },
  {
   "cell_type": "code",
   "execution_count": null,
   "metadata": {},
   "outputs": [],
   "source": []
  }
 ],
 "metadata": {
  "kernelspec": {
   "display_name": "Python 3",
   "language": "python",
   "name": "python3"
  },
  "language_info": {
   "codemirror_mode": {
    "name": "ipython",
    "version": 3
   },
   "file_extension": ".py",
   "mimetype": "text/x-python",
   "name": "python",
   "nbconvert_exporter": "python",
   "pygments_lexer": "ipython3",
   "version": "3.6.8"
  }
 },
 "nbformat": 4,
 "nbformat_minor": 4
}
