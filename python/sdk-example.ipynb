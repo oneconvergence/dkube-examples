{
 "cells": [
  {
   "cell_type": "markdown",
   "metadata": {},
   "source": [
    "## Installing DKube SDK"
   ]
  },
  {
   "cell_type": "code",
   "execution_count": null,
   "metadata": {},
   "outputs": [],
   "source": [
    "! pip3 install git+https://github.com/oneconvergence/dkube.git@2.2 --upgrade --no-cache-dir\n",
    "import os\n",
    "os._exit(00)"
   ]
  },
  {
   "cell_type": "code",
   "execution_count": null,
   "metadata": {},
   "outputs": [],
   "source": [
    "from dkube.sdk import *"
   ]
  },
  {
   "cell_type": "code",
   "execution_count": null,
   "metadata": {},
   "outputs": [],
   "source": [
    "user = os.getenv('USERNAME')\n",
    "authToken = os.getenv('DKUBE_USER_ACCESS_TOKEN')\n",
    "inp_path = \"/opt/dkube/input\"\n",
    "out_path = \"/opt/dkube/output\"\n",
    "code_name = \"mnist-fs\"\n",
    "training_fs = \"mnist-fs\"\n",
    "dataset_name = \"mnist\"\n",
    "model_name = \"mnist\"\n",
    "framework = \"tensorflow_1.14\"\n",
    "image = \"ocdr/d3-datascience-tf-cpu:fs-v1.14\"\n",
    "preprocess_script = f\"python featureset.py --fs {training_fs}\"\n",
    "training_script = f\"python model.py --fs {training_fs}\"\n",
    "transformer_code = \"tf/classification/mnist-fs/digits/transformer/transformer.py\""
   ]
  },
  {
   "cell_type": "code",
   "execution_count": null,
   "metadata": {},
   "outputs": [],
   "source": [
    "api = DkubeApi(token=authToken)"
   ]
  },
  {
   "cell_type": "code",
   "execution_count": null,
   "metadata": {},
   "outputs": [],
   "source": [
    "# api.list_models(user = user)"
   ]
  },
  {
   "cell_type": "code",
   "execution_count": null,
   "metadata": {},
   "outputs": [],
   "source": [
    "preprocessing_name= generate(code_name)\n",
    "preprocessing = DkubePreprocessing(user, name=preprocessing_name, description='triggered from dkube sdk')\n",
    "preprocessing.update_container(image_url=image)\n",
    "preprocessing.update_startupscript(preprocess_script)\n",
    "preprocessing.add_code(code_name)\n",
    "preprocessing.add_input_dataset(dataset_name, mountpath=inp_path)\n",
    "preprocessing.add_output_featureset(training_fs, mountpath=out_path)"
   ]
  },
  {
   "cell_type": "code",
   "execution_count": null,
   "metadata": {},
   "outputs": [],
   "source": [
    "api.create_preprocessing_run(preprocessing)"
   ]
  },
  {
   "cell_type": "code",
   "execution_count": null,
   "metadata": {},
   "outputs": [],
   "source": [
    "training_name= generate(code_name)\n",
    "training = DkubeTraining(user, name=training_name, description='triggered from dkube sdk')\n",
    "training.update_container(framework=framework, image_url=image)\n",
    "training.update_startupscript(training_script)\n",
    "training.add_code(code_name)\n",
    "training.add_input_featureset(training_fs, mountpath=inp_path)\n",
    "training.add_output_model(model_name, mountpath=out_path)"
   ]
  },
  {
   "cell_type": "code",
   "execution_count": null,
   "metadata": {},
   "outputs": [],
   "source": [
    "api.create_training_run(training)"
   ]
  },
  {
   "cell_type": "code",
   "execution_count": null,
   "metadata": {},
   "outputs": [],
   "source": [
    "for each_datum in api.list_models(user = user)[0][\"datums\"]:\n",
    "    if each_datum[\"datum\"][\"name\"] == model_name:\n",
    "        head_version = each_datum[\"datum\"][\"generated\"][\"head_version\"]\n",
    "        break"
   ]
  },
  {
   "cell_type": "code",
   "execution_count": null,
   "metadata": {},
   "outputs": [],
   "source": [
    "head_version"
   ]
  },
  {
   "cell_type": "code",
   "execution_count": null,
   "metadata": {},
   "outputs": [],
   "source": [
    "serving_name=generate(code_name)\n",
    "serving = DkubeServing(user, name=serving_name, description='serving deployed from dkube sdk')\n",
    "serving.update_transformer_code(project=code_name, code=transformer_code)\n",
    "serving.update_transformer_image(image_url='ocdr/d3-datascience-tf-cpu:v1.14')\n",
    "serving.update_serving_model(model_name, version = head_version)\n",
    "serving.update_serving_image(image_url='ocdr/tensorflowserver:1.14')\n",
    "serving.set_production_deploy() #For production deployment, when MODEL_CATALOG_ENABLED=false\n",
    "serving.update_autoscaling_config(min_replicas=1, max_concurrent_requests=1)"
   ]
  },
  {
   "cell_type": "code",
   "execution_count": null,
   "metadata": {},
   "outputs": [],
   "source": [
    "api.create_test_inference(serving)"
   ]
  },
  {
   "cell_type": "code",
   "execution_count": null,
   "metadata": {},
   "outputs": [],
   "source": []
  }
 ],
 "metadata": {
  "kernelspec": {
   "display_name": "Python 3",
   "language": "python",
   "name": "python3"
  },
  "language_info": {
   "codemirror_mode": {
    "name": "ipython",
    "version": 3
   },
   "file_extension": ".py",
   "mimetype": "text/x-python",
   "name": "python",
   "nbconvert_exporter": "python",
   "pygments_lexer": "ipython3",
   "version": "3.8.2-final"
  }
 },
 "nbformat": 4,
 "nbformat_minor": 4
}
