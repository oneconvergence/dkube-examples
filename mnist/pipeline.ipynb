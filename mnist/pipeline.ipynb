{
 "cells": [
  {
   "cell_type": "code",
   "execution_count": null,
   "metadata": {},
   "outputs": [],
   "source": [
    "import os,sys\n",
    "import kfp\n",
    "from dkube.pipelines import dkube_training_op, dkube_serving_op\n",
    "from dkube.sdk import DkubeApi, DkubeCode, DkubeDataset, DkubeModel, DkubeTraining, DkubeServing"
   ]
  },
  {
   "cell_type": "code",
   "execution_count": null,
   "metadata": {},
   "outputs": [],
   "source": [
    "username = os.getenv(\"USERNAME\")\n",
    "token = os.getenv(\"DKUBE_USER_ACCESS_TOKEN\")\n",
    "client = kfp.Client(existing_token=token)\n",
    "api = DkubeApi(token=token)"
   ]
  },
  {
   "cell_type": "code",
   "execution_count": null,
   "metadata": {},
   "outputs": [],
   "source": [
    "code_name = \"dkube-examples\"\n",
    "model_name = \"mnist\"\n",
    "dataset_name = \"mnist\"\n",
    "image = \"ocdr/dkube-datascience-tf-cpu:v2.0.0\""
   ]
  },
  {
   "cell_type": "code",
   "execution_count": null,
   "metadata": {},
   "outputs": [],
   "source": [
    "#Create code repo \n",
    "code = DkubeCode(username,code_name)\n",
    "code.update_git_details(url=\"https://github.com/oneconvergence/dkube-examples-2.0.git\", branch=\"tensorflow\")\n",
    "#api.create_code(code)\n",
    "\n",
    "#Create dataset repo\n",
    "dataset = DkubeDataset(username,dataset_name)\n",
    "dataset.update_git_details(url=\"https://dkube.s3.amazonaws.com/datasets/mnist.pkl.gz\")\n",
    "dataset.update_dataset_source(source=\"pub_url\")\n",
    "#api.create_dataset(dataset)\n",
    "\n",
    "#Create model repo\n",
    "model = DkubeModel(username, model_name)\n",
    "#api.create_model(model)"
   ]
  },
  {
   "cell_type": "code",
   "execution_count": null,
   "metadata": {},
   "outputs": [],
   "source": [
    "training = DkubeTraining(username, name=\"train\")\n",
    "training.update_container(framework=\"tensorflow_2.0.0\", image_url=image)\n",
    "training.add_code(code_name, commitid=\"\")\n",
    "training.update_startupscript(\"python mnist/train.py\")\n",
    "training.add_input_dataset(dataset_name, mountpath='/mnist')\n",
    "training.add_output_model(model_name, mountpath='/opt/dkube/output')\n",
    "training.add_envvar(\"EPOCH\",\"1\")\n",
    "\n",
    "serving = DkubeServing(username, name=\"serving\")\n",
    "serving.set_transformer(True, script='mnist/transformer.py')\n",
    "serving.update_serving_model(model_name)\n",
    "    \n",
    "@kfp.dsl.pipeline(\n",
    "    name='dkube-mnist-pl',\n",
    "    description='sample mnist pipeline with dkube components'\n",
    ")\n",
    "def mnist_pipeline(token, program='training'):\n",
    "    train   = dkube_training_op(\"train\", authtoken=token, training=training)    \n",
    "    dkube_serving_op(\"serving\", authtoken=token, serving=serving).after(train)\n",
    "    "
   ]
  },
  {
   "cell_type": "code",
   "execution_count": null,
   "metadata": {},
   "outputs": [],
   "source": [
    "client.create_run_from_pipeline_func(mnist_pipeline, arguments={\"token\":token})"
   ]
  },
  {
   "cell_type": "code",
   "execution_count": null,
   "metadata": {},
   "outputs": [],
   "source": [
    "#generate & upload pipeline (Optional)\n",
    "import kfp.compiler as compiler\n",
    "compiler.Compiler().compile(mnist_pipeline, \"mnist-pipeline.zip\")\n",
    "client.upload_pipeline(\"mnist-pipeline.zip\")"
   ]
  }
 ],
 "metadata": {
  "kernelspec": {
   "display_name": "Python 3",
   "language": "python",
   "name": "python3"
  },
  "language_info": {
   "codemirror_mode": {
    "name": "ipython",
    "version": 3
   },
   "file_extension": ".py",
   "mimetype": "text/x-python",
   "name": "python",
   "nbconvert_exporter": "python",
   "pygments_lexer": "ipython3",
   "version": "3.6.8"
  }
 },
 "nbformat": 4,
 "nbformat_minor": 4
}
