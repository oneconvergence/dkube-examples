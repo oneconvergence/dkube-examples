{
 "cells": [
  {
   "cell_type": "code",
   "execution_count": null,
   "metadata": {},
   "outputs": [],
   "source": [
    "import os, json\n",
    "import kfp\n",
    "from dkube.sdk import *\n",
    "from dkube.pipelines import dkube_training_op, dkube_preprocessing_op, dkube_serving_op, dkube_storage_op, dkube_submit_op"
   ]
  },
  {
   "cell_type": "code",
   "execution_count": null,
   "metadata": {},
   "outputs": [],
   "source": [
    "token = os.getenv(\"DKUBE_USER_ACCESS_TOKEN\")\n",
    "client = kfp.Client(existing_token=token)\n",
    "api = DkubeApi(token=token)"
   ]
  },
  {
   "cell_type": "code",
   "execution_count": null,
   "metadata": {},
   "outputs": [],
   "source": [
    "# Project owner resources\n",
    "project_id = os.environ.get(\"DKUBE_PROJECT_ID\", \"wprz8s\")\n",
    "project_name = os.environ.get(\"DKUBE_PROJECT_NAME\",\"titanic\")\n",
    "project_owner = os.environ.get(\"DKUBE_PROJECT_OWNER\",\"ocdkube\")\n",
    "username = os.getenv(\"USERNAME\",\"ocdkube\")\n",
    "ptrain_dataset = f'{project_owner}:titanic-train'\n",
    "ptest_dataset = f'{project_owner}:titanic-test'\n",
    "\n",
    "# User resources\n",
    "code_name = f'{project_name}-code'\n",
    "train_fs_name = f\"{project_name}-train-fs-{username}\"\n",
    "test_fs_name = f\"{project_name}-test-fs-{username}\"\n",
    "model_name = f'{project_name}-model'\n",
    "\n",
    "# Program specific variables\n",
    "image = \"docker.io/ocdr/dkube-datascience-tf-cpu:fs-v2.0.0\"\n",
    "dataset_mount_points = [\"/dataset/train\", \"/dataset/test\"]\n",
    "output_featureset_mount_points = [\"/featureset/train\", \"/featureset/test\"]\n",
    "preprocessing_script = f\"python titanic/preprocess.py --train_fs {train_fs_name} --test_fs {test_fs_name}\"\n",
    "training_script = \"python training.py\"\n",
    "train_inp_mount_points = [\"/titanic-train\",\"/titanic-test\"]\n",
    "train_out_mount_points = [\"/model\"]\n",
    "runid = 0"
   ]
  },
  {
   "cell_type": "code",
   "execution_count": null,
   "metadata": {},
   "outputs": [],
   "source": [
    "#Create code repo \n",
    "code = DkubeCode(username,code_name)\n",
    "code.update_git_details(url=\"https://github.com/oneconvergence/dkube-examples-2.0.git\", branch=\"test\")\n",
    "#api.create_code(code)\n",
    "#Create train/test featureset\n",
    "#api.create_featureset(DkubeFeatureSet(train_fs_name))\n",
    "#api.create_featureset(DkubeFeatureSet(test_fs_name))"
   ]
  },
  {
   "cell_type": "code",
   "execution_count": null,
   "metadata": {},
   "outputs": [],
   "source": [
    "preprocess = DkubePreprocessing(username, name=train_fs_name )\n",
    "preprocess.update_container(image_url=image)\n",
    "preprocess.add_code(code_name, commitid=\"\")\n",
    "preprocess.update_startupscript(preprocessing_script)\n",
    "preprocess.add_input_dataset(ptrain_dataset, mountpath='/dataset/train')\n",
    "preprocess.add_input_dataset(ptest_dataset, mountpath='/dataset/test')\n",
    "preprocess.add_output_featureset(train_fs_name, mountpath='/featureset/train')\n",
    "preprocess.add_output_featureset(test_fs_name, mountpath='/featureset/test')"
   ]
  },
  {
   "cell_type": "code",
   "execution_count": null,
   "metadata": {},
   "outputs": [],
   "source": [
    "training = DkubeTraining(username, name=generate(project_name),tags=[f\"project:{project_id}\"])\n",
    "training.update_container(framework=\"scikit_0.2.2\", image_url=image)\n",
    "training.add_code(code_name, commitid=\"\")\n",
    "training.update_startupscript(\"python titanic/train.py\")\n",
    "training.add_input_featureset(train_fs_name, mountpath='/featureset/train')\n",
    "training.add_input_featureset(test_fs_name, mountpath='/featureset/test')\n",
    "training.add_output_model(model_name, mountpath='/model')"
   ]
  },
  {
   "cell_type": "code",
   "execution_count": null,
   "metadata": {},
   "outputs": [],
   "source": [
    "from dkube.sdk.rsrcs.storage import DkubeResourcePVC\n",
    "model_pvc = DkubeResourcePVC(type='model',kind=\"input\", name=model_name)\n",
    "test_fs_pvc = DkubeResourcePVC(type='featureset',kind=\"input\", name=test_fs_name)\n",
    "code_pvc = DkubeResourcePVC(type='program',kind=\"input\", name=code_name)"
   ]
  },
  {
   "cell_type": "code",
   "execution_count": null,
   "metadata": {},
   "outputs": [],
   "source": [
    "@kfp.dsl.pipeline(\n",
    "    name='dkube-titanic-pl',\n",
    "    description='example titanic pipeline to submit to leaderboard'\n",
    ")\n",
    "def titanic_pipeline(token, project_id):\n",
    "    preprocessing = dkube_preprocessing_op(\"preprocess\", authtoken=token, preprocessing=preprocess)\n",
    "\n",
    "    with kfp.dsl.ExitHandler(exit_op=dkube_storage_op(\"reclaim\", authtoken=token, command=\"reclaim\")):\n",
    "        train       = dkube_training_op(\"train\", authtoken=token, training=training).after(preprocessing)\n",
    "        storage  = dkube_storage_op(\"export\", authtoken=token, command=\"export\", claims=[code_pvc, model_pvc, test_fs_pvc]).after(train)\n",
    "    \n",
    "        predict_op = kfp.dsl.ContainerOp(\n",
    "            name=\"predict\", image=image,\n",
    "            command=[\"python\", \"/code/titanic/predict.py\"],\n",
    "            pvolumes={\n",
    "                     \"/model/\": kfp.dsl.PipelineVolume(pvc=model_pvc.claimname),\n",
    "                     \"/test_fs/\": kfp.dsl.PipelineVolume(pvc=test_fs_pvc.claimname),\n",
    "                     \"/code/\": kfp.dsl.PipelineVolume(pvc=code_pvc.claimname)\n",
    "                     },\n",
    "            file_outputs={\"output\": \"/tmp/prediction.csv\"},\n",
    "        ).after(storage)\n",
    "\n",
    "        predictions = kfp.dsl.InputArgumentPath(predict_op.outputs[\"output\"])\n",
    "        submit = dkube_submit_op(\"submit\", authtoken=token, project_id=project_id, predictions=predictions).after(predict_op)"
   ]
  },
  {
   "cell_type": "code",
   "execution_count": null,
   "metadata": {},
   "outputs": [],
   "source": [
    "client.create_run_from_pipeline_func(titanic_pipeline, run_name=\"[titanic] Run\" + str(runid), arguments={\"token\":token,\"project_id\":\"wprz8s\"})\n",
    "runid += 1"
   ]
  },
  {
   "cell_type": "code",
   "execution_count": null,
   "metadata": {},
   "outputs": [],
   "source": [
    "#kfp.compiler.Compiler().compile(titanic_pipeline, \"titanic_pipeline.zip\")"
   ]
  }
 ],
 "metadata": {
  "kernelspec": {
   "display_name": "Python 3",
   "language": "python",
   "name": "python3"
  },
  "language_info": {
   "codemirror_mode": {
    "name": "ipython",
    "version": 3
   },
   "file_extension": ".py",
   "mimetype": "text/x-python",
   "name": "python",
   "nbconvert_exporter": "python",
   "pygments_lexer": "ipython3",
   "version": "3.8.2-final"
  }
 },
 "nbformat": 4,
 "nbformat_minor": 4
}