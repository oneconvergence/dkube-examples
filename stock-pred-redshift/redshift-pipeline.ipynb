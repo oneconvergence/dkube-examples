{
 "cells": [
  {
   "cell_type": "code",
   "execution_count": null,
   "metadata": {},
   "outputs": [],
   "source": [
    "import os,sys,json\n",
    "import kfp\n",
    "from dkube.sdk import *"
   ]
  },
  {
   "cell_type": "code",
   "execution_count": null,
   "metadata": {},
   "outputs": [],
   "source": [
    "components_url = \"/mnt/dkube/pipeline/components/\"\n",
    "dkube_training_op = kfp.components.load_component_from_file(components_url + \"training/component.yaml\")\n",
    "dkube_serving_op = kfp.components.load_component_from_file(components_url + \"serving/component.yaml\")\n",
    "token = os.getenv(\"DKUBE_USER_ACCESS_TOKEN\")\n",
    "client = kfp.Client(existing_token=token)"
   ]
  },
  {
   "cell_type": "code",
   "execution_count": null,
   "metadata": {},
   "outputs": [],
   "source": [
    "def get_dataset_version(data_versions):\n",
    "    for i in range(len(data_versions)):\n",
    "        if data_versions[i]['version']['name'] == 'pg_internal':\n",
    "            return data_versions[i]['version']['uuid']"
   ]
  },
  {
   "cell_type": "code",
   "execution_count": null,
   "metadata": {},
   "outputs": [],
   "source": [
    "token = os.getenv(\"DKUBE_USER_ACCESS_TOKEN\")\n",
    "username =  os.getenv(\"USERNAME\")\n",
    "dkube_url = os.getenv(\"DKUBE_URL\")\n",
    "api = DkubeApi(URL=dkube_url,token=token)\n",
    "data_versions = api.get_dataset_versions(username,\"google-stock\")\n",
    "     \n",
    "        \n",
    "dataset_version = get_dataset_version(data_versions)"
   ]
  },
  {
   "cell_type": "code",
   "execution_count": null,
   "metadata": {},
   "outputs": [],
   "source": [
    "@kfp.dsl.pipeline(\n",
    "    name='stock-redshift-pl',\n",
    "    description='sample redshift pipeline with dkube components'\n",
    ")\n",
    "def stock_redshift_pipeline(token):\n",
    "\n",
    "        train       = dkube_training_op(auth_token = token, container = '{\"image\":\"docker.io/ocdr/d3-datascience-sklearn:v0.23.2\"}',\n",
    "                                    framework=\"sklearn\", version=\"0.23.2\",\n",
    "                                    program=\"stock-prediction\", run_script=\"python train.py\",\n",
    "                                    datasets='[\"google-stock\"]', input_dataset_versions=json.dumps([dataset_version]),\n",
    "                                    outputs='[\"stock-pred\"]',\n",
    "                                    input_dataset_mounts='[\"/opt/dkube/input\"]',\n",
    "                                    output_mounts='[\"/opt/dkube/model\"]')\n",
    "        \n",
    "        eval_stage       = dkube_training_op(auth_token = token, container = '{\"image\":\"docker.io/ocdr/d3-datascience-sklearn:v0.23.2\"}',\n",
    "                                    framework=\"sklearn\", version=\"0.23.2\",\n",
    "                                    program=\"stock-prediction\", run_script=\"python evaluation.py\",\n",
    "                                    datasets='[\"google-stock\"]',input_dataset_versions=json.dumps([dataset_version]), \n",
    "                                    models='[\"stock-pred\"]',\n",
    "                                    input_dataset_mounts='[\"/opt/dkube/input\"]',\n",
    "                                    input_model_mounts='[\"/opt/dkube/model\"]').after(train).set_display_name(\"evaluation\")\n",
    "\n",
    "        \n",
    "        serving     = dkube_serving_op(auth_token = token, model= train.outputs['artifact'], device='cpu', \n",
    "                                    serving_image = '{\"image\": \"ocdr/sklearnserver:0.23.2\"}',\n",
    "                                    transformer_image ='{\"image\":\"docker.io/ocdr/d3-datascience-sklearn:v0.23.2\"}',\n",
    "                                    transformer_project = \"stock-prediction\",\n",
    "                                    transformer_code = 'sklearn/stock-pred-redshift/model/transformer.py').after(train)"
   ]
  },
  {
   "cell_type": "code",
   "execution_count": null,
   "metadata": {},
   "outputs": [],
   "source": [
    "client.create_run_from_pipeline_func(stock_redshift_pipeline, arguments={\"token\":token})"
   ]
  },
  {
   "cell_type": "code",
   "execution_count": null,
   "metadata": {},
   "outputs": [],
   "source": [
    "\n",
    "\n",
    "#generate & upload pipeline (Optional)\n",
    "import kfp.compiler as compiler\n",
    "compiler.Compiler().compile(stock_redshift_pipeline, \"stock_redshift_pipeline.zip\")\n",
    "client.upload_pipeline(\"stock_redshift_pipeline.zip\")\n",
    "\n"
   ]
  },
  {
   "cell_type": "code",
   "execution_count": null,
   "metadata": {},
   "outputs": [],
   "source": []
  }
 ],
 "metadata": {
  "kernelspec": {
   "display_name": "Python 3",
   "language": "python",
   "name": "python3"
  },
  "language_info": {
   "codemirror_mode": {
    "name": "ipython",
    "version": 3
   },
   "file_extension": ".py",
   "mimetype": "text/x-python",
   "name": "python",
   "nbconvert_exporter": "python",
   "pygments_lexer": "ipython3",
   "version": "3.6.8"
  }
 },
 "nbformat": 4,
 "nbformat_minor": 4
}
