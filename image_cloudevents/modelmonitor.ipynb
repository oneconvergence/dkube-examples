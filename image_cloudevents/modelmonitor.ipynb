{
 "cells": [
  {
   "cell_type": "code",
   "execution_count": null,
   "metadata": {},
   "outputs": [],
   "source": [
    "%store -r\n",
    "import time\n",
    "import os,json\n",
    "import requests\n",
    "from dkube.sdk import *\n",
    "from dkube.sdk.api import DkubeApi\n",
    "from dkube.sdk.rsrcs import DkubeModelmonitor\n",
    "from dkube.sdk.rsrcs.modelmonitor import DatasetClass,ModelType,DriftAlgo\n",
    "from dkube.sdk.rsrcs.modelmonitor import DatasetFormat,DkubeModelmonitoralert, TimeZone\n",
    "from dkube.sdk.rsrcs.modelmonitor import DataType, ChannelOrder, ImageDataSavedFileFormat"
   ]
  },
  {
   "cell_type": "code",
   "execution_count": null,
   "metadata": {},
   "outputs": [],
   "source": [
    "MONITOR_NAME = image_exp_config['MONITOR_NAME']\n",
    "INPUT_TRAIN_TYPE = image_exp_config['INPUT_TRAIN_TYPE']\n",
    "DKUBEUSERNAME = image_exp_config['DKUBEUSERNAME']\n",
    "TOKEN = image_exp_config['TOKEN']\n",
    "DKUBE_URL = image_exp_config['DKUBE_URL']\n",
    "MODEL_NAME = image_exp_config['MODEL_NAME']\n",
    "RUN_FREQUENCY = image_exp_config['RUN_FREQUENCY']\n",
    "LIVE_DATASET = image_exp_config['LIVE_DATASET']\n",
    "TRAINING_DATASET = image_exp_config['TRAINING_DATASET']"
   ]
  },
  {
   "cell_type": "code",
   "execution_count": null,
   "metadata": {},
   "outputs": [],
   "source": [
    "def wait_for_deployment_running(deployment_id):\n",
    "    status = None\n",
    "    inference_url, inference = None, None\n",
    "    while True:\n",
    "        data = api.get_deployment(deployment_id)\n",
    "        status = data.data.inferenceservice_deployment.parameters.generated.status.state\n",
    "        inference = data.data.inferenceservice_deployment.parameters.inference\n",
    "        inference_url = data.data.inferenceservice_deployment.parameters.generated.details.serving.servingurl\n",
    "        if status == \"RUNNING\":\n",
    "            break\n",
    "        print(\"waiting for deployment to be running\")\n",
    "        time.sleep(api.wait_interval)\n",
    "    return inference, inference_url\n",
    "\n",
    "def get_dataset_version(username, dataset_name, version):\n",
    "    dataset_versions = api.get_dataset_versions(username, dataset_name)\n",
    "    versions = []\n",
    "    for each_version in dataset_versions:\n",
    "        if each_version[\"version\"][\"name\"] == version:\n",
    "            uuid = each_version[\"version\"][\"uuid\"]\n",
    "            return f\"{version}:{uuid}\"\n",
    "        else:\n",
    "            versions.append(each_version[\"version\"][\"name\"])\n",
    "    return f\"dataset version {version} not found, available version are {versions}\""
   ]
  },
  {
   "cell_type": "code",
   "execution_count": null,
   "metadata": {},
   "outputs": [],
   "source": [
    "api = DkubeApi(URL=os.getenv('DKUBE_URL'),token=os.getenv(\"DKUBE_USER_ACCESS_TOKEN\"))"
   ]
  },
  {
   "cell_type": "markdown",
   "metadata": {},
   "source": [
    "## Enabling logs"
   ]
  },
  {
   "cell_type": "code",
   "execution_count": null,
   "metadata": {},
   "outputs": [],
   "source": [
    "while True:\n",
    "    DEPLOYMENT_ID = api.get_deployment_id(name=MONITOR_NAME)\n",
    "    if DEPLOYMENT_ID:\n",
    "        break\n",
    "    print(\"waiting for deployment to come up\")\n",
    "    time.sleep(api.wait_interval)\n",
    "inference, INFERENCE_URL = wait_for_deployment_running(DEPLOYMENT_ID)\n",
    "if not inference.enable_logs:\n",
    "    print(\"Enabling logs\")\n",
    "    serving = DkubeServing(user=DKUBEUSERNAME, name=MONITOR_NAME)\n",
    "    serving.update_enable_logs(enable_logs=True)\n",
    "    api.update_inference(serving)\n",
    "print(\"Inference is up at URL: \", INFERENCE_URL)\n",
    "image_exp_config['INFERENCE_URL'] = INFERENCE_URL\n",
    "image_exp_config['DEPLOYMENT_ID'] = DEPLOYMENT_ID\n",
    "%store image_exp_config"
   ]
  },
  {
   "cell_type": "markdown",
   "metadata": {},
   "source": [
    "## Initializing model monitor"
   ]
  },
  {
   "cell_type": "code",
   "execution_count": null,
   "metadata": {},
   "outputs": [],
   "source": [
    "mm=DkubeModelmonitor(deployemnt_id = DEPLOYMENT_ID)"
   ]
  },
  {
   "cell_type": "code",
   "execution_count": null,
   "metadata": {},
   "outputs": [],
   "source": [
    "mm.update_modelmonitor_basics(model_type=ModelType.Classification.value, \n",
    "                               input_data_type=DataType.Image.value,\n",
    "                               data_timezone=TimeZone.UTC.value)"
   ]
  },
  {
   "cell_type": "code",
   "execution_count": null,
   "metadata": {},
   "outputs": [],
   "source": [
    "mm.update_image_data_shape(height=200, width=200, channel=1)"
   ]
  },
  {
   "cell_type": "code",
   "execution_count": null,
   "metadata": {},
   "outputs": [],
   "source": [
    "training_data = f'{TRAINING_DATASET}:'+ DKUBEUSERNAME\n",
    "train_data_version = get_dataset_version(DKUBEUSERNAME,\n",
    "                                            TRAINING_DATASET, \"v1\")\n",
    "prediction_data = LIVE_DATASET + \":\"+ DKUBEUSERNAME\n",
    "labelled_data = LIVE_DATASET + \":\"+ DKUBEUSERNAME\n",
    "predict_data_format = \"cloudeventlogs\""
   ]
  },
  {
   "cell_type": "markdown",
   "metadata": {},
   "source": [
    "## Adding train, predict, and labelled datasets"
   ]
  },
  {
   "cell_type": "code",
   "execution_count": null,
   "metadata": {},
   "outputs": [],
   "source": [
    "mm.add_datasources(data_class=DatasetClass.Train.value,name=training_data,\n",
    "                   version=train_data_version,\n",
    "                   s3_subpath=DEPLOYMENT_ID)\n",
    "mm.add_datasources(data_class=DatasetClass.Predict.value,name=prediction_data,\n",
    "                   s3_subpath=DEPLOYMENT_ID, data_format=predict_data_format,)\n",
    "mm.add_datasources(data_class=DatasetClass.Labelled.value,name=labelled_data,\n",
    "                   data_format=DataType.Tabular.value, s3_subpath=DEPLOYMENT_ID + \"/livedata\",\n",
    "                   predict_col=\"output\",groundtruth_col=\"label\",timestamp_col=\"timestamp\")"
   ]
  },
  {
   "cell_type": "markdown",
   "metadata": {},
   "source": [
    "## Health Monitoring"
   ]
  },
  {
   "cell_type": "code",
   "execution_count": null,
   "metadata": {},
   "outputs": [],
   "source": [
    "mm.update_deployment_monitoring_details(enabled=True, frequency=1)"
   ]
  },
  {
   "cell_type": "markdown",
   "metadata": {},
   "source": [
    "## Drift monitoring"
   ]
  },
  {
   "cell_type": "code",
   "execution_count": null,
   "metadata": {},
   "outputs": [],
   "source": [
    "mm.update_drift_monitoring_details(enabled=True,\n",
    "                                  frequency=RUN_FREQUENCY,\n",
    "                                  image_train_data_savedfile_format=\"images_in_labelled_folder\")"
   ]
  },
  {
   "cell_type": "markdown",
   "metadata": {},
   "source": [
    "## Performance Monitoring"
   ]
  },
  {
   "cell_type": "code",
   "execution_count": null,
   "metadata": {},
   "outputs": [],
   "source": [
    "mm.update_performance_monitoring_details(enabled=True,source_type=\"labelled_data\",frequency=RUN_FREQUENCY)"
   ]
  },
  {
   "cell_type": "markdown",
   "metadata": {},
   "source": [
    "## Creating model monitor"
   ]
  },
  {
   "cell_type": "code",
   "execution_count": null,
   "metadata": {},
   "outputs": [],
   "source": [
    "api.modelmonitor_create(mm,wait_for_completion=True)"
   ]
  },
  {
   "cell_type": "markdown",
   "metadata": {},
   "source": [
    "### Start the model monitor"
   ]
  },
  {
   "cell_type": "code",
   "execution_count": null,
   "metadata": {},
   "outputs": [],
   "source": [
    "api.modelmonitor_start(DEPLOYMENT_ID)"
   ]
  },
  {
   "cell_type": "markdown",
   "metadata": {},
   "source": [
    "### Cleanup"
   ]
  },
  {
   "cell_type": "code",
   "execution_count": null,
   "metadata": {},
   "outputs": [],
   "source": [
    "CLEANUP = False\n",
    "if CLEANUP:\n",
    "    from time import sleep\n",
    "    RETRIES = 4\n",
    "    while RETRIES:\n",
    "        mm = api.modelmonitor_get(deployment_id)\n",
    "        if mm[\"status\"] and mm[\"status\"][\"state\"].lower() != \"active\":\n",
    "            break\n",
    "        elif mm[\"status\"] and mm[\"status\"][\"state\"].lower() == \"active\":\n",
    "            api.modelmonitor_stop(deployment_id)\n",
    "        RETRIES -= 1\n",
    "        sleep(5)\n",
    "    else:\n",
    "        raise TimeoutError(\"modelmonitor failed to stopped\")\n",
    "    api.modelmonitor_delete(deployment_id)"
   ]
  },
  {
   "cell_type": "code",
   "execution_count": null,
   "metadata": {},
   "outputs": [],
   "source": []
  }
 ],
 "metadata": {
  "kernelspec": {
   "display_name": "Python 3",
   "language": "python",
   "name": "python3"
  },
  "language_info": {
   "codemirror_mode": {
    "name": "ipython",
    "version": 3
   },
   "file_extension": ".py",
   "mimetype": "text/x-python",
   "name": "python",
   "nbconvert_exporter": "python",
   "pygments_lexer": "ipython3",
   "version": "3.6.8"
  }
 },
 "nbformat": 4,
 "nbformat_minor": 4
}
