{
 "cells": [
  {
   "cell_type": "markdown",
   "metadata": {},
   "source": [
    "### Insurance model deployment in SageMaker"
   ]
  },
  {
   "cell_type": "code",
   "execution_count": null,
   "metadata": {},
   "outputs": [],
   "source": [
    "!pip install sagemaker >> /dev/null\n",
    "%store -r"
   ]
  },
  {
   "cell_type": "code",
   "execution_count": null,
   "metadata": {},
   "outputs": [],
   "source": [
    "import os\n",
    "os.environ[\"AWS_ACCESS_KEY_ID\"] = sgmkr_config['ACCESS_KEY']\n",
    "os.environ[\"AWS_SECRET_ACCESS_KEY\"] = sgmkr_config['SECRET_KEY']\n",
    "os.environ[\"AWS_DEFAULT_REGION\"] = sgmkr_config['REGION_NAME']\n",
    "HOME = os.getenv(\"HOME\")\n",
    "if HOME:\n",
    "    EXECUTABLE_DIR = os.path.join(HOME,\".local\", \"bin\")\n",
    "    PATH = os.getenv(\"PATH\")\n",
    "    if EXECUTABLE_DIR not in PATH:\n",
    "        os.environ[\"PATH\"] = f\"{PATH}:{EXECUTABLE_DIR}\"\n",
    "    PATH = os.getenv(\"PATH\")"
   ]
  },
  {
   "cell_type": "markdown",
   "metadata": {},
   "source": [
    "### Libraries"
   ]
  },
  {
   "cell_type": "code",
   "execution_count": null,
   "metadata": {},
   "outputs": [],
   "source": [
    "import os\n",
    "import boto3\n",
    "import re\n",
    "import time\n",
    "import json\n",
    "import joblib\n",
    "import pickle\n",
    "import tarfile\n",
    "import sagemaker\n",
    "from sagemaker.estimator import Estimator\n",
    "import time\n",
    "from time import gmtime, strftime\n",
    "import subprocess"
   ]
  },
  {
   "cell_type": "markdown",
   "metadata": {},
   "source": [
    "### Deploy the model in sagemaker"
   ]
  },
  {
   "cell_type": "code",
   "execution_count": null,
   "metadata": {},
   "outputs": [],
   "source": [
    "data_capture_prefix = \"{}/datacapture\".format(sgmkr_config['PREFIX'])\n",
    "s3_capture_upload_path = \"s3://{}/{}\".format(sgmkr_config['BUCKET'], data_capture_prefix)          \n",
    "reports_prefix = \"{}/reports\".format(sgmkr_config['PREFIX'])\n",
    "s3_report_path = \"s3://{}/{}\".format(sgmkr_config['BUCKET'], reports_prefix)\n",
    "code_prefix = \"{}/code\".format(sgmkr_config['PREFIX'])\n",
    "s3_code_preprocessor_uri = \"s3://{}/{}/{}\".format(sgmkr_config['BUCKET'], code_prefix, \"preprocessor.py\")\n",
    "s3_code_postprocessor_uri = \"s3://{}/{}/{}\".format(sgmkr_config['BUCKET'], code_prefix, \"postprocessor.py\")\n",
    "\n",
    "print(\"Capture path: {}\".format(s3_capture_upload_path))\n",
    "print(\"Report path: {}\".format(s3_report_path))\n",
    "print(\"Preproc Code path: {}\".format(s3_code_preprocessor_uri))\n",
    "print(\"Postproc Code path: {}\".format(s3_code_postprocessor_uri))"
   ]
  },
  {
   "cell_type": "code",
   "execution_count": null,
   "metadata": {},
   "outputs": [],
   "source": [
    "bashCommand = \"tar -cvpzf model.tar.gz model.joblib\"\n",
    "process = subprocess.Popen(bashCommand.split(), stdout=subprocess.PIPE)\n",
    "output, error = process.communicate()"
   ]
  },
  {
   "cell_type": "markdown",
   "metadata": {},
   "source": [
    "#### Upload trained model.joblib file in sagemaker"
   ]
  },
  {
   "cell_type": "code",
   "execution_count": null,
   "metadata": {},
   "outputs": [],
   "source": [
    "model_file = open(\"model.joblib\", \"rb\")\n",
    "s3_key = os.path.join(sgmkr_config['PREFIX'], \"model.joblib\")\n",
    "boto3.Session().resource(\"s3\").Bucket(sgmkr_config['BUCKET']).Object(s3_key).upload_fileobj(model_file)"
   ]
  },
  {
   "cell_type": "code",
   "execution_count": null,
   "metadata": {},
   "outputs": [],
   "source": [
    "boto_session = boto3.session.Session(aws_access_key_id=sgmkr_config['ACCESS_KEY'],\n",
    "                                     aws_secret_access_key=sgmkr_config['SECRET_KEY'],\n",
    "                                     region_name=sgmkr_config['REGION_NAME'])\n",
    "s3 = boto_session.resource('s3')\n",
    "#Upload tar.gz to bucket\n",
    "response = s3.meta.client.upload_file('model.tar.gz', sgmkr_config['BUCKET'], 'model.tar.gz')"
   ]
  },
  {
   "cell_type": "code",
   "execution_count": null,
   "metadata": {},
   "outputs": [],
   "source": [
    "%%writefile inference_script.py\n",
    "import joblib\n",
    "import os\n",
    "\n",
    "def model_fn(model_dir):\n",
    "    clf = joblib.load(os.path.join(model_dir, \"model.joblib\"))\n",
    "    return clf"
   ]
  },
  {
   "cell_type": "code",
   "execution_count": null,
   "metadata": {},
   "outputs": [],
   "source": [
    "from sagemaker.sklearn.model import SKLearnModel\n",
    "\n",
    "model = SKLearnModel(\n",
    "    model_data=f\"s3://{sgmkr_config['BUCKET']}/model.tar.gz\",\n",
    "    role=sgmkr_config['ROLE'],\n",
    "    entry_point='inference_script.py',\n",
    "    framework_version='0.23-1')"
   ]
  },
  {
   "cell_type": "markdown",
   "metadata": {},
   "source": [
    "### Deploying..."
   ]
  },
  {
   "cell_type": "code",
   "execution_count": null,
   "metadata": {},
   "outputs": [],
   "source": [
    "ENDPOINT_NAME = \"DEMO-insurance-model-monitor-\" + strftime(\"%Y-%m-%d-%H-%M-%S\", gmtime())\n",
    "sgmkr_config[\"ENDPOINT_NAME\"] = ENDPOINT_NAME\n",
    "%store sgmkr_config"
   ]
  },
  {
   "cell_type": "code",
   "execution_count": null,
   "metadata": {},
   "outputs": [],
   "source": [
    "from sagemaker.model_monitor import DataCaptureConfig\n",
    "\n",
    "print(\"ENDPOINT_NAME = {}\".format(ENDPOINT_NAME))\n",
    "\n",
    "data_capture_config = DataCaptureConfig(\n",
    "    enable_capture=True, sampling_percentage=100, destination_s3_uri=s3_capture_upload_path\n",
    ")\n",
    "\n",
    "predictor = model.deploy(\n",
    "    initial_instance_count=1,\n",
    "    instance_type=\"ml.t2.medium\",\n",
    "    endpoint_name=ENDPOINT_NAME,\n",
    "    data_capture_config=data_capture_config,\n",
    "    wait=False\n",
    ")\n",
    "print(\"Sagemaker will take 10-15 mins to create the endpoint\")"
   ]
  },
  {
   "cell_type": "code",
   "execution_count": null,
   "metadata": {},
   "outputs": [],
   "source": [
    "CLEANUP = False\n",
    "if CLEANUP:\n",
    "    client = boto3.client(service_name=\"sagemaker\", aws_access_key_id=ACCESS_KEY,\n",
    "                                     aws_secret_access_key=SECRET_KEY,\n",
    "                                     region_name=REGION_NAME)\n",
    "    client.delete_endpoint(EndpointName = ENDPOINT_NAME)"
   ]
  },
  {
   "cell_type": "code",
   "execution_count": null,
   "metadata": {},
   "outputs": [],
   "source": []
  }
 ],
 "metadata": {
  "kernelspec": {
   "display_name": "Python 3",
   "language": "python",
   "name": "python3"
  },
  "language_info": {
   "codemirror_mode": {
    "name": "ipython",
    "version": 3
   },
   "file_extension": ".py",
   "mimetype": "text/x-python",
   "name": "python",
   "nbconvert_exporter": "python",
   "pygments_lexer": "ipython3",
   "version": "3.6.8"
  }
 },
 "nbformat": 4,
 "nbformat_minor": 4
}
