{
 "cells": [
  {
   "cell_type": "code",
   "execution_count": null,
   "metadata": {},
   "outputs": [
    {
     "name": "stdout",
     "output_type": "stream",
     "text": [
      "Requirement already satisfied: psycopg2-binary in /home/dkube/.local/lib/python3.6/site-packages (2.8.5)\n",
      "\u001b[33mWARNING: You are using pip version 19.1.1, however version 20.2.2 is available.\n",
      "You should consider upgrading via the 'pip install --upgrade pip' command.\u001b[0m\n"
     ]
    }
   ],
   "source": [
    "!pip install psycopg2-binary --user\n",
    "import os\n",
    "os._exit(00)"
   ]
  },
  {
   "cell_type": "code",
   "execution_count": 1,
   "metadata": {},
   "outputs": [],
   "source": [
    "import numpy as np\n",
    "from sklearn.svm import SVR\n",
    "from sklearn.metrics import mean_squared_error, mean_absolute_error, r2_score\n",
    "import csv, sys, requests\n",
    "from PIL import Image\n",
    "import cv2, os, json, re\n",
    "import joblib, psycopg2\n",
    "import seaborn as sns; sns.set()\n",
    "import matplotlib.pyplot as plt\n",
    "import pandas as pd"
   ]
  },
  {
   "cell_type": "code",
   "execution_count": 2,
   "metadata": {},
   "outputs": [],
   "source": [
    "DB_NAME = 'rs-stocks'"
   ]
  },
  {
   "cell_type": "code",
   "execution_count": 3,
   "metadata": {},
   "outputs": [],
   "source": [
    "def eval_metrics(actual, pred):\n",
    "    rmse = np.sqrt(mean_squared_error(actual, pred))\n",
    "    mae = mean_absolute_error(actual, pred)\n",
    "    r2 = r2_score(actual, pred)\n",
    "    return rmse, mae, r2\n",
    "\n",
    "def rs_fetch_datasets():\n",
    "    user = os.getenv(\"DKUBE_USER_LOGIN_NAME\")\n",
    "    url = \"http://dkube-controller-worker.dkube:5000/dkube/v2/controller/users/%s/datums/class/dataset/datum/%s\"\n",
    "    headers={\"authorization\": \"Bearer \"+os.getenv(\"DKUBE_USER_ACCESS_TOKEN\")}\n",
    "    datasets = []\n",
    "    for ds in json.load(open('/etc/dkube/redshift.json')):\n",
    "        resp = requests.get(url % (user, ds.get('rs_name')), headers=headers).json()\n",
    "        ds['rs_password'] = resp['data']['datum']['redshift']['password']\n",
    "        datasets.append(ds)\n",
    "    return datasets\n",
    "\n",
    "def get_password(user, db):\n",
    "    datasets = rs_fetch_datasets()\n",
    "    for dataset in datasets:\n",
    "        if dataset.get(\"rs_user\") == user and dataset.get(\"rs_database\") == db:\n",
    "            return dataset.get(\"rs_password\")\n",
    "    raise Exception(\"Failed to find password for DB {} with User {}\".format(user, db))"
   ]
  },
  {
   "cell_type": "code",
   "execution_count": 4,
   "metadata": {},
   "outputs": [],
   "source": [
    "def load_rs_to_csv(usr,passwd, hst, prt, db):\n",
    "    try:\n",
    "        connection = psycopg2.connect(user = usr,\n",
    "       \t                              password = passwd,\n",
    "           \t                          host = hst,\n",
    "               \t                      port = prt,\n",
    "                   \t                  database = db)\n",
    "    except (Exception, psycopg2.Error) as error :\n",
    "        print(\"Error while connecting to Redshift\", error)\n",
    "\n",
    "    wf = open('goog.csv', mode='w')\n",
    "    csv_writer = csv.writer(wf, delimiter=',', quotechar='\"', quoting=csv.QUOTE_MINIMAL)\n",
    "    csv_writer.writerow(['Date','Open','High','Low','Close','Volume'])\n",
    "\n",
    "    cursor = connection.cursor()\n",
    "    cursor.execute(\"SELECT * from sklearn;\")\n",
    "    record = cursor.fetchall()\n",
    "    for each in record:\n",
    "        csv_writer.writerow(each)"
   ]
  },
  {
   "cell_type": "code",
   "execution_count": 5,
   "metadata": {},
   "outputs": [],
   "source": [
    "def get_data(filename):\n",
    "    with open(filename, 'r') as csvfile:\n",
    "        csvFileReader = csv.reader(csvfile)\n",
    "        next(csvFileReader)    # skipping column names\n",
    "        for row in csvFileReader:\n",
    "            dates.append(int(row[0].split('-')[0]))\n",
    "            prices.append(float(row[1]))\n",
    "    return"
   ]
  },
  {
   "cell_type": "code",
   "execution_count": 6,
   "metadata": {},
   "outputs": [],
   "source": [
    "dates = []\n",
    "prices = []\n",
    "name = 'SVM for stock Preiction'\n",
    "kernel = 'rbf'\n",
    "C = 1e3\n",
    "gamma = 0.1\n",
    "degree= 2"
   ]
  },
  {
   "cell_type": "code",
   "execution_count": 7,
   "metadata": {},
   "outputs": [],
   "source": [
    "for each_db in json.load(open('/etc/dkube/redshift.json')):\n",
    "    if each_db[\"rs_name\"] == DB_NAME:\n",
    "        r_endpoint = each_db[\"rs_endpoint\"]\n",
    "        r_database = each_db[\"rs_database\"]\n",
    "        r_user = each_db[\"rs_user\"]\n",
    "r_password = get_password(r_user, r_database)"
   ]
  },
  {
   "cell_type": "code",
   "execution_count": 11,
   "metadata": {},
   "outputs": [],
   "source": [
    "#r_endpoint, r_database, r_user, r_password"
   ]
  },
  {
   "cell_type": "code",
   "execution_count": 12,
   "metadata": {},
   "outputs": [],
   "source": [
    "if 'https:' in r_endpoint:\n",
    "    p = '(?:https*://)?(?P<host>[^:/ ]+).?(?P<port>[0-9]*).*'\n",
    "    m = re.search(p,r_endpoint)\n",
    "else:\n",
    "    p = '(?:http*://)?(?P<host>[^:/ ]+).?(?P<port>[0-9]*).*'\n",
    "    m = re.search(p,r_endpoint)\n",
    "\n",
    "load_rs_to_csv(r_user, r_password, m.group('host'), m.group('port'), r_database)\n",
    "\n",
    "get_data('goog.csv')"
   ]
  },
  {
   "cell_type": "markdown",
   "metadata": {},
   "source": [
    "## Dataset Visulization"
   ]
  },
  {
   "cell_type": "code",
   "execution_count": 13,
   "metadata": {},
   "outputs": [
    {
     "data": {
      "text/html": [
       "<div>\n",
       "<style scoped>\n",
       "    .dataframe tbody tr th:only-of-type {\n",
       "        vertical-align: middle;\n",
       "    }\n",
       "\n",
       "    .dataframe tbody tr th {\n",
       "        vertical-align: top;\n",
       "    }\n",
       "\n",
       "    .dataframe thead th {\n",
       "        text-align: right;\n",
       "    }\n",
       "</style>\n",
       "<table border=\"1\" class=\"dataframe\">\n",
       "  <thead>\n",
       "    <tr style=\"text-align: right;\">\n",
       "      <th></th>\n",
       "      <th>dates</th>\n",
       "      <th>price</th>\n",
       "    </tr>\n",
       "  </thead>\n",
       "  <tbody>\n",
       "    <tr>\n",
       "      <th>0</th>\n",
       "      <td>26</td>\n",
       "      <td>708.58</td>\n",
       "    </tr>\n",
       "    <tr>\n",
       "      <th>1</th>\n",
       "      <td>25</td>\n",
       "      <td>700.01</td>\n",
       "    </tr>\n",
       "    <tr>\n",
       "      <th>2</th>\n",
       "      <td>24</td>\n",
       "      <td>688.92</td>\n",
       "    </tr>\n",
       "    <tr>\n",
       "      <th>3</th>\n",
       "      <td>23</td>\n",
       "      <td>701.45</td>\n",
       "    </tr>\n",
       "    <tr>\n",
       "      <th>4</th>\n",
       "      <td>22</td>\n",
       "      <td>707.45</td>\n",
       "    </tr>\n",
       "  </tbody>\n",
       "</table>\n",
       "</div>"
      ],
      "text/plain": [
       "   dates   price\n",
       "0     26  708.58\n",
       "1     25  700.01\n",
       "2     24  688.92\n",
       "3     23  701.45\n",
       "4     22  707.45"
      ]
     },
     "execution_count": 13,
     "metadata": {},
     "output_type": "execute_result"
    }
   ],
   "source": [
    "d = {'dates': dates, 'price': prices}\n",
    "stdata = pd.DataFrame(d)\n",
    "stdata.head(5)"
   ]
  },
  {
   "cell_type": "code",
   "execution_count": 14,
   "metadata": {},
   "outputs": [
    {
     "data": {
      "text/plain": [
       "<matplotlib.axes._subplots.AxesSubplot at 0x7fab52f50080>"
      ]
     },
     "execution_count": 14,
     "metadata": {},
     "output_type": "execute_result"
    },
    {
     "data": {
      "image/png": "[encoded data removed]",
      "text/plain": [
       "<Figure size 432x288 with 1 Axes>"
      ]
     },
     "metadata": {},
     "output_type": "display_data"
    }
   ],
   "source": [
    "sns.set_style(\"darkgrid\")\n",
    "sns.pointplot(x='dates', y='price', data=stdata, join=False)"
   ]
  },
  {
   "cell_type": "markdown",
   "metadata": {},
   "source": [
    "## Fitting data "
   ]
  },
  {
   "cell_type": "code",
   "execution_count": 15,
   "metadata": {},
   "outputs": [],
   "source": [
    "dates = np.reshape(dates,(len(dates), 1))\n",
    "\n",
    "svm = SVR(kernel= kernel, C= C, degree= degree, gamma=gamma)\n",
    "\n",
    "svm.fit(dates, prices)\n",
    "\n",
    "predictions = svm.predict(dates)"
   ]
  },
  {
   "cell_type": "code",
   "execution_count": 16,
   "metadata": {},
   "outputs": [
    {
     "name": "stdout",
     "output_type": "stream",
     "text": [
      "RMSE:  3.745203677890233\n",
      "MAE:  1.9037466212676966\n",
      "R2 score:  0.9846989109422634\n"
     ]
    }
   ],
   "source": [
    "(rmse, mae, r2) = eval_metrics(prices, predictions)\n",
    "print(\"RMSE: \", rmse)\n",
    "print(\"MAE: \", mae)\n",
    "print(\"R2 score: \", r2)"
   ]
  },
  {
   "cell_type": "markdown",
   "metadata": {},
   "source": [
    "## Visualising Support Vectors"
   ]
  },
  {
   "cell_type": "code",
   "execution_count": 17,
   "metadata": {},
   "outputs": [
    {
     "data": {
      "text/plain": [
       "<matplotlib.axes._subplots.AxesSubplot at 0x7fab52eb5898>"
      ]
     },
     "execution_count": 17,
     "metadata": {},
     "output_type": "execute_result"
    },
    {
     "data": {
      "image/png": "[encoded data removed]",
      "text/plain": [
       "<Figure size 432x288 with 1 Axes>"
      ]
     },
     "metadata": {},
     "output_type": "display_data"
    }
   ],
   "source": [
    "support_vector_indices = svm.support_\n",
    "support_vectors = svm.support_vectors_\n",
    "d = {'indices': support_vector_indices, 'vectors': support_vectors.reshape(support_vectors.shape[0])}\n",
    "vectors = pd.DataFrame(d)\n",
    "sns.set_style(\"darkgrid\")\n",
    "sns.pointplot(x='indices', y='vectors', data=vectors, join=False)"
   ]
  },
  {
   "cell_type": "markdown",
   "metadata": {},
   "source": [
    "## Comparison of predictions with training data"
   ]
  },
  {
   "cell_type": "code",
   "execution_count": 18,
   "metadata": {},
   "outputs": [
    {
     "data": {
      "image/png": "[encoded data removed]",
      "text/plain": [
       "<Figure size 432x288 with 1 Axes>"
      ]
     },
     "metadata": {},
     "output_type": "display_data"
    }
   ],
   "source": [
    "plt.plot(dates, prices, color= 'black', label = 'Data', marker = '*')\n",
    "plt.plot(dates,predictions, color= 'red', label = \"Predictions\", marker = 'o')\n",
    "plt.xlabel('Date')\n",
    "plt.ylabel('Price')\n",
    "plt.title('SVM predictions with '+kernel+ ' kernel')\n",
    "plt.legend()\n",
    "plt.show()"
   ]
  },
  {
   "cell_type": "code",
   "execution_count": null,
   "metadata": {},
   "outputs": [],
   "source": []
  }
 ],
 "metadata": {
  "kernelspec": {
   "display_name": "Python 3",
   "language": "python",
   "name": "python3"
  },
  "language_info": {
   "codemirror_mode": {
    "name": "ipython",
    "version": 3
   },
   "file_extension": ".py",
   "mimetype": "text/x-python",
   "name": "python",
   "nbconvert_exporter": "python",
   "pygments_lexer": "ipython3",
   "version": "3.6.8"
  }
 },
 "nbformat": 4,
 "nbformat_minor": 4
}
