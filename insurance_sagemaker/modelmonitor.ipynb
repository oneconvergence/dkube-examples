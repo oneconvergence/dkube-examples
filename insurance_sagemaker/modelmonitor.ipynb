{
 "cells": [
  {
   "cell_type": "markdown",
   "metadata": {},
   "source": [
    "### Model Monitoring"
   ]
  },
  {
   "cell_type": "code",
   "execution_count": null,
   "metadata": {},
   "outputs": [],
   "source": [
    "%store -r\n",
    "import os,json\n",
    "from dkube.sdk import *\n",
    "from dkube.sdk.api import DkubeApi\n",
    "from dkube.sdk.rsrcs import operator\n",
    "from dkube.sdk.rsrcs.operator import DkubeCluster\n",
    "from dkube.sdk.rsrcs import DkubeModelmonitor\n",
    "from dkube.sdk.rsrcs.modelmonitor import DatasetClass,ModelType,DriftAlgo, DataType\n",
    "from dkube.sdk.rsrcs.modelmonitor import DatasetFormat,DkubeModelmonitoralert, TimeZone"
   ]
  },
  {
   "cell_type": "code",
   "execution_count": null,
   "metadata": {},
   "outputs": [],
   "source": [
    "def get_dataset_version(username, dataset_name, version):\n",
    "    dataset_versions = api.get_dataset_versions(username, dataset_name)\n",
    "    versions = []\n",
    "    for each_version in dataset_versions:\n",
    "        if each_version[\"version\"][\"name\"] == version:\n",
    "            uuid = each_version[\"version\"][\"uuid\"]\n",
    "            return f\"{version}:{uuid}\"\n",
    "        else:\n",
    "            versions.append(each_version[\"version\"][\"name\"])\n",
    "    return f\"dataset version {version} not found, available version are {versions}\""
   ]
  },
  {
   "cell_type": "code",
   "execution_count": null,
   "metadata": {},
   "outputs": [],
   "source": [
    "api = DkubeApi(URL=sgmkr_config['DKUBE_URL'], token=sgmkr_config['TOKEN'])"
   ]
  },
  {
   "cell_type": "markdown",
   "metadata": {},
   "source": [
    "#### Predict Dataset"
   ]
  },
  {
   "cell_type": "code",
   "execution_count": null,
   "metadata": {},
   "outputs": [],
   "source": [
    "PREDICT_PREFIX = sgmkr_config['PREFIX'] +\"/datacapture/\"+sgmkr_config['ENDPOINT_NAME']+\"/AllTraffic/\""
   ]
  },
  {
   "cell_type": "code",
   "execution_count": null,
   "metadata": {},
   "outputs": [],
   "source": [
    "pname =  sgmkr_config['MONITOR_NAME']+'-predict'\n",
    "\n",
    "if sgmkr_config['DATA_SOURCE'] == 'aws_s3':\n",
    "    try:\n",
    "        dataset = DkubeDataset(sgmkr_config['DKUBEUSERNAME'], name=pname,remote=True)\n",
    "        dataset.update_dataset_source('aws_s3')\n",
    "        dataset.update_awss3_details(\n",
    "            bucket=sgmkr_config['BUCKET'],\n",
    "            prefix=PREDICT_PREFIX,key=os.getenv(\"AWS_ACCESS_KEY_ID\",sgmkr_config['ACCESS_KEY']),\n",
    "            secret=os.getenv(\"AWS_SECRET_ACCESS_KEY\",sgmkr_config['SECRET_KEY']))\n",
    "        api.create_dataset(dataset)\n",
    "        \n",
    "    except Exception as e:\n",
    "        if e.reason:\n",
    "            if e.reason.lower() != \"conflict\":\n",
    "                response = e.body\n",
    "                print(f\"Failed[{response.code}]: {response.message}\")\n",
    "        else:\n",
    "            raise e"
   ]
  },
  {
   "cell_type": "markdown",
   "metadata": {},
   "source": [
    "#### Configure Sagemaker Cluster in Dkube"
   ]
  },
  {
   "cell_type": "code",
   "execution_count": null,
   "metadata": {},
   "outputs": [],
   "source": [
    "pcluster = DkubeCluster(name=sgmkr_config['SAGEMAKER_DKUBE_CLUSTER_NAME'])\n",
    "pcluster.update_kind(\"sagemaker\")\n",
    "pcluster.update_access_keys(sgmkr_config['ACCESS_KEY'],sgmkr_config['SECRET_KEY'])\n",
    "pcluster.cluster.access_keys.region = sgmkr_config['REGION_NAME']"
   ]
  },
  {
   "cell_type": "code",
   "execution_count": null,
   "metadata": {},
   "outputs": [],
   "source": [
    "api.configure_clusters(pcluster.cluster)"
   ]
  },
  {
   "cell_type": "markdown",
   "metadata": {},
   "source": [
    "#### Import Deployment"
   ]
  },
  {
   "cell_type": "code",
   "execution_count": null,
   "metadata": {},
   "outputs": [],
   "source": [
    "id = api.import_deployment(name=sgmkr_config['MONITOR_NAME'],\n",
    "                           cluster=sgmkr_config['SAGEMAKER_DKUBE_CLUSTER_NAME'],variant=\"sagemaker\")"
   ]
  },
  {
   "cell_type": "code",
   "execution_count": null,
   "metadata": {},
   "outputs": [],
   "source": [
    "text_file = open(\"transform-data.py\", \"r\")\n",
    "#read whole file to a string\n",
    "script = text_file.read()\n",
    "#close file\n",
    "text_file.close()\n",
    "\n",
    "with open('thresholds.json') as f:\n",
    "    thresholds = json.load(f)"
   ]
  },
  {
   "cell_type": "markdown",
   "metadata": {},
   "source": [
    "#### Model Monitor"
   ]
  },
  {
   "cell_type": "code",
   "execution_count": null,
   "metadata": {},
   "outputs": [],
   "source": [
    "mm=DkubeModelmonitor(id)\n",
    "mt=ModelType.Regression\n",
    "dc_t=DatasetClass.Train"
   ]
  },
  {
   "cell_type": "code",
   "execution_count": null,
   "metadata": {},
   "outputs": [],
   "source": [
    "mm.update_modelmonitor_basics(model_type=ModelType.Regression.value, \n",
    "                               input_data_type=DataType.Tabular.value,\n",
    "                               data_timezone=TimeZone.UTC.value)\n",
    "mm.add_thresholds(thresholds=thresholds)"
   ]
  },
  {
   "cell_type": "markdown",
   "metadata": {},
   "source": [
    "#### Training Details"
   ]
  },
  {
   "cell_type": "code",
   "execution_count": null,
   "metadata": {},
   "outputs": [],
   "source": [
    "training_data = f\"{sgmkr_config['DKUBE_BASE_DATASET']}:\"+ sgmkr_config['DKUBEUSERNAME']\n",
    "train_data_version = get_dataset_version(sgmkr_config['DKUBEUSERNAME'],\n",
    "                                            sgmkr_config['DKUBE_BASE_DATASET'], \"v1\")\n",
    "prediction_data = sgmkr_config['MONITOR_NAME'] +'-predict:'+ sgmkr_config['DKUBEUSERNAME']\n",
    "labelled_data = sgmkr_config['MONITOR_NAME'] +'-groundtruth:'+ sgmkr_config['DKUBEUSERNAME']\n",
    "predict_data_format = str(DatasetFormat.Sagemakerlogs)"
   ]
  },
  {
   "cell_type": "code",
   "execution_count": null,
   "metadata": {},
   "outputs": [],
   "source": [
    "mm.add_datasources(data_class=str(DatasetClass.Train),\n",
    "                   name=training_data,data_format=str(DatasetFormat.Tabular),\n",
    "                   version=train_data_version,transformer_script = script)\n",
    "mm.add_datasources(data_class=str(DatasetClass.Predict),\n",
    "                   name=prediction_data,data_format=predict_data_format,\n",
    "                   date_suffix=\"yyyy/mm/dd/hh\")\n",
    "mm.add_datasources(data_class=str(DatasetClass.Labelled),\n",
    "                   name=labelled_data,data_format=str(DatasetFormat.Tabular),\n",
    "                   predict_col=\"charges\",groundtruth_col=\"GT_target\",timestamp_col=\"timestamp\")"
   ]
  },
  {
   "cell_type": "markdown",
   "metadata": {},
   "source": [
    "#### Add Drift monitoring details"
   ]
  },
  {
   "cell_type": "code",
   "execution_count": null,
   "metadata": {},
   "outputs": [],
   "source": [
    "mm.update_drift_monitoring_details(enabled=True,frequency=5,algorithm='auto')"
   ]
  },
  {
   "cell_type": "markdown",
   "metadata": {},
   "source": [
    "#### Create Model monitor"
   ]
  },
  {
   "cell_type": "code",
   "execution_count": null,
   "metadata": {},
   "outputs": [],
   "source": [
    "id = api.modelmonitor_create(mm,wait_for_completion=True)"
   ]
  },
  {
   "cell_type": "markdown",
   "metadata": {},
   "source": [
    "#### Schema update"
   ]
  },
  {
   "cell_type": "code",
   "execution_count": null,
   "metadata": {},
   "outputs": [],
   "source": [
    "api.modelmonitor_update_schema(id,label='charges',schema_class='continuous',schema_type=\"prediction_output\")\n",
    "api.modelmonitor_update_schema(id,label='unique_id',schema_class='continuous',schema_type=\"row_id\")\n",
    "api.modelmonitor_update_schema(id,label='timestamp',schema_class='continuous',schema_type=\"timestamp\")\n",
    "\n",
    "## age and bmi to continuous\n",
    "api.modelmonitor_update_schema(id,label='age',schema_class='continuous',schema_type='input_feature', selected=True)\n",
    "api.modelmonitor_update_schema(id,label='bmi',schema_class='continuous',schema_type='input_feature', selected=True)\n",
    "\n",
    "## select these features\n",
    "api.modelmonitor_update_schema(id,label='sex',schema_type='input_feature',schema_class='categorical', selected=True)\n",
    "api.modelmonitor_update_schema(id,label='children',schema_type='input_feature',schema_class='categorical', selected=True)\n",
    "api.modelmonitor_update_schema(id,label='smoker',schema_type='input_feature',schema_class='categorical', selected=True)\n",
    "api.modelmonitor_update_schema(id,label='region',schema_type='input_feature',schema_class='categorical', selected=True)"
   ]
  },
  {
   "cell_type": "markdown",
   "metadata": {},
   "source": [
    "#### Performance Monitoring"
   ]
  },
  {
   "cell_type": "code",
   "execution_count": null,
   "metadata": {},
   "outputs": [],
   "source": [
    "mm=DkubeModelmonitor(id)\n",
    "mm.update_performance_monitoring_details(enabled=True,source_type=\"labelled_data\",frequency=5)"
   ]
  },
  {
   "cell_type": "code",
   "execution_count": null,
   "metadata": {},
   "outputs": [],
   "source": [
    "api.modelmonitor_update(mm)"
   ]
  },
  {
   "cell_type": "markdown",
   "metadata": {},
   "source": [
    "#### Deployment monitoring"
   ]
  },
  {
   "cell_type": "code",
   "execution_count": null,
   "metadata": {},
   "outputs": [],
   "source": [
    "mm=DkubeModelmonitor(id)\n",
    "mm.update_deployment_monitoring_details(enabled=True,frequency=1,source_type=\"labelled_data\")"
   ]
  },
  {
   "cell_type": "code",
   "execution_count": null,
   "metadata": {},
   "outputs": [],
   "source": [
    "api.modelmonitor_update(mm)"
   ]
  },
  {
   "cell_type": "markdown",
   "metadata": {},
   "source": [
    "#### Add alerts"
   ]
  },
  {
   "cell_type": "code",
   "execution_count": null,
   "metadata": {},
   "outputs": [],
   "source": [
    "alert = DkubeModelmonitoralert(name='age_alert')\n",
    "alert.update_alert(alert_class = 'feature_drift',feature='age',threshold=0.02)\n",
    "api.modelmonitor_add_alert(id,alert)"
   ]
  },
  {
   "cell_type": "markdown",
   "metadata": {},
   "source": [
    "#### Start the model monitor"
   ]
  },
  {
   "cell_type": "code",
   "execution_count": null,
   "metadata": {},
   "outputs": [],
   "source": [
    "api.modelmonitor_start(id)"
   ]
  },
  {
   "cell_type": "markdown",
   "metadata": {},
   "source": [
    "#### Cleanup"
   ]
  },
  {
   "cell_type": "code",
   "execution_count": null,
   "metadata": {},
   "outputs": [],
   "source": [
    "CLEANUP = False\n",
    "if CLEANUP:\n",
    "    from time import sleep\n",
    "    RETRIES = 4\n",
    "    while RETRIES:\n",
    "        mm = api.modelmonitor_get(id)\n",
    "        if mm[\"status\"] and mm[\"status\"][\"state\"].lower() != \"active\":\n",
    "            break\n",
    "        elif mm[\"status\"] and mm[\"status\"][\"state\"].lower() == \"active\":\n",
    "            api.modelmonitor_stop(id)\n",
    "        RETRIES -= 1\n",
    "        sleep(5)\n",
    "    else:\n",
    "        raise TimeoutError(\"modelmonitor failed to stopped\")\n",
    "    api.modelmonitor_delete(id)\n",
    "    api.delete_dataset(DKUBEUSERNAME,pname,force=True)"
   ]
  },
  {
   "cell_type": "code",
   "execution_count": null,
   "metadata": {},
   "outputs": [],
   "source": []
  }
 ],
 "metadata": {
  "kernelspec": {
   "display_name": "Python 3",
   "language": "python",
   "name": "python3"
  },
  "language_info": {
   "codemirror_mode": {
    "name": "ipython",
    "version": 3
   },
   "file_extension": ".py",
   "mimetype": "text/x-python",
   "name": "python",
   "nbconvert_exporter": "python",
   "pygments_lexer": "ipython3",
   "version": "3.6.8"
  }
 },
 "nbformat": 4,
 "nbformat_minor": 4
}
