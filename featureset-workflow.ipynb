{
 "cells": [
  {
   "cell_type": "markdown",
   "metadata": {},
   "source": [
    "# Titanic example using featuresets"
   ]
  },
  {
   "cell_type": "code",
   "execution_count": 1,
   "metadata": {},
   "outputs": [],
   "source": [
    "import zipfile\n",
    "import os\n",
    "import numpy as np\n",
    "import pandas as pd\n",
    "import argparse\n",
    "import yaml\n",
    "import seaborn as sns\n",
    "from sklearn.metrics import accuracy_score\n",
    "from sklearn.ensemble import RandomForestClassifier\n",
    "from dkube.sdk import *"
   ]
  },
  {
   "cell_type": "markdown",
   "metadata": {},
   "source": [
    "## Getting API client handle"
   ]
  },
  {
   "cell_type": "code",
   "execution_count": 2,
   "metadata": {},
   "outputs": [],
   "source": [
    "# Dkube user access token for API authentication\n",
    "authToken = os.getenv(\"DKUBE_USER_ACCESS_TOKEN\")\n",
    "# Get client handle\n",
    "api = DkubeApi(token=authToken)"
   ]
  },
  {
   "cell_type": "markdown",
   "metadata": {},
   "source": [
    "## Creating Featureset"
   ]
  },
  {
   "cell_type": "code",
   "execution_count": 3,
   "metadata": {},
   "outputs": [
    {
     "name": "stdout",
     "output_type": "stream",
     "text": [
      "Featureset name train-fs-4518\n",
      "\n",
      "---- Featureset name train-fs-4518 -- Create featureset \n",
      "\n",
      "create_featureset: waiting for featureset to be setup\n",
      "create_featureset: waiting for featureset to be setup\n",
      "create_featureset: waiting for featureset to be setup\n",
      "create_featureset: waiting for featureset to be setup\n",
      "create_featureset: waiting for featureset to be setup\n"
     ]
    },
    {
     "data": {
      "text/plain": [
       "{'code': 200, 'message': 'Successfully created featureSet', 'uuid': None}"
      ]
     },
     "execution_count": 3,
     "metadata": {},
     "output_type": "execute_result"
    }
   ],
   "source": [
    "train_fs = generate('train-fs')\n",
    "print(f\"Featureset name {train_fs}\\n\")\n",
    "featureset = DkubeFeatureSet(name=train_fs, description=\"Titanic FeatureSet experiments\")\n",
    "print(f\"---- Featureset name {train_fs} -- Create featureset \\n\")\n",
    "api.create_featureset(featureset)"
   ]
  },
  {
   "cell_type": "markdown",
   "metadata": {},
   "source": [
    "## Reading data"
   ]
  },
  {
   "cell_type": "code",
   "execution_count": 4,
   "metadata": {},
   "outputs": [
    {
     "name": "stdout",
     "output_type": "stream",
     "text": [
      "       PassengerId    Survived      Pclass         Age       SibSp  \\\n",
      "count   891.000000  891.000000  891.000000  714.000000  891.000000   \n",
      "mean    446.000000    0.383838    2.308642   29.699118    0.523008   \n",
      "std     257.353842    0.486592    0.836071   14.526497    1.102743   \n",
      "min       1.000000    0.000000    1.000000    0.420000    0.000000   \n",
      "25%     223.500000    0.000000    2.000000   20.125000    0.000000   \n",
      "50%     446.000000    0.000000    3.000000   28.000000    0.000000   \n",
      "75%     668.500000    1.000000    3.000000   38.000000    1.000000   \n",
      "max     891.000000    1.000000    3.000000   80.000000    8.000000   \n",
      "\n",
      "            Parch        Fare  \n",
      "count  891.000000  891.000000  \n",
      "mean     0.381594   32.204208  \n",
      "std      0.806057   49.693429  \n",
      "min      0.000000    0.000000  \n",
      "25%      0.000000    7.910400  \n",
      "50%      0.000000   14.454200  \n",
      "75%      0.000000   31.000000  \n",
      "max      6.000000  512.329200  \n"
     ]
    }
   ],
   "source": [
    "train_data = pd.read_csv(\"https://dkube.s3.amazonaws.com/datasets/titanic/train.csv\")\n",
    "print(train_data.describe())"
   ]
  },
  {
   "cell_type": "code",
   "execution_count": 5,
   "metadata": {},
   "outputs": [
    {
     "data": {
      "text/plain": [
       "PassengerId      int64\n",
       "Survived         int64\n",
       "Pclass           int64\n",
       "Name            object\n",
       "Sex             object\n",
       "Age            float64\n",
       "SibSp            int64\n",
       "Parch            int64\n",
       "Ticket          object\n",
       "Fare           float64\n",
       "Cabin           object\n",
       "Embarked        object\n",
       "dtype: object"
      ]
     },
     "execution_count": 5,
     "metadata": {},
     "output_type": "execute_result"
    }
   ],
   "source": [
    "train_data.dtypes"
   ]
  },
  {
   "cell_type": "markdown",
   "metadata": {},
   "source": [
    "## Feature Engineering on training data"
   ]
  },
  {
   "cell_type": "code",
   "execution_count": 6,
   "metadata": {},
   "outputs": [
    {
     "name": "stdout",
     "output_type": "stream",
     "text": [
      "    Age     Fare  Survived  Pclass  SibSp  Parch  Sex_female  Sex_male\n",
      "0  22.0   7.2500         0       3      1      0           0         1\n",
      "1  38.0  71.2833         1       1      1      0           1         0\n",
      "2  26.0   7.9250         1       3      0      0           1         0\n",
      "3  35.0  53.1000         1       1      1      0           1         0\n",
      "4  35.0   8.0500         0       3      0      0           0         1\n"
     ]
    }
   ],
   "source": [
    "train_data[\"Age\"].fillna(value=train_data[\"Age\"].median(), inplace=True)\n",
    "\n",
    "# Drop rows where fare is less than 100\n",
    "train_data = train_data[train_data[\"Fare\"] < 100]\n",
    "\n",
    "# Fill in null values\n",
    "train_data[\"Embarked\"].fillna(method=\"ffill\", inplace=True)\n",
    "\n",
    "# test_data = pd.read_csv(\"titanic/test.csv\")\n",
    "# test_data['Age'].fillna(value=test_data['Age'].median(), inplace=True)\n",
    "# test_data['Fare'].fillna(test_data['Fare'].median() , inplace = True)\n",
    "\n",
    "# Select features for training\n",
    "features = [\"Pclass\", \"Sex\", \"SibSp\", \"Parch\"]\n",
    "train_df = pd.get_dummies(train_data[features])\n",
    "train_df = pd.concat([train_data[[\"Age\", \"Fare\", \"Survived\"]], train_df], axis=1)\n",
    "print(train_df.head())"
   ]
  },
  {
   "cell_type": "code",
   "execution_count": 7,
   "metadata": {},
   "outputs": [
    {
     "data": {
      "text/plain": [
       "<matplotlib.axes._subplots.AxesSubplot at 0x7f74dd8a61d0>"
      ]
     },
     "execution_count": 7,
     "metadata": {},
     "output_type": "execute_result"
    },
    {
     "data": {
      "image/png": "[encoded data removed]",
      "text/plain": [
       "<Figure size 432x288 with 2 Axes>"
      ]
     },
     "metadata": {
      "needs_background": "light"
     },
     "output_type": "display_data"
    }
   ],
   "source": [
    "sns.heatmap(train_df.corr(), annot=True)"
   ]
  },
  {
   "cell_type": "markdown",
   "metadata": {},
   "source": [
    "## Committing features to the generated featureset"
   ]
  },
  {
   "cell_type": "code",
   "execution_count": 8,
   "metadata": {},
   "outputs": [
    {
     "name": "stdout",
     "output_type": "stream",
     "text": [
      "{'code': 200, 'message': 'Successfully created featureSet version', 'uuid': None}\n"
     ]
    }
   ],
   "source": [
    "resp = api.commit_featureset(name=train_fs, df=train_df)\n",
    "print(resp)"
   ]
  },
  {
   "cell_type": "markdown",
   "metadata": {},
   "source": [
    "## Reading featureset"
   ]
  },
  {
   "cell_type": "code",
   "execution_count": 9,
   "metadata": {},
   "outputs": [
    {
     "name": "stdout",
     "output_type": "stream",
     "text": [
      "read_featureset: No version specified, using the latest version v2\n",
      "read_featureset: version v2 not ready, state:data_add_in_progress expected:synced\n",
      "read_featureset: version v2 not ready, state:data_add_complete expected:synced\n",
      "read_featureset: version v2 not ready, state:data_push_complete expected:synced\n",
      "read_featureset: version v2 not ready, state:meta_commit_done expected:synced\n",
      "read_featureset: features not ready, status:starting expected:completed\n"
     ]
    }
   ],
   "source": [
    "feature_df = api.read_featureset(name=train_fs)"
   ]
  },
  {
   "cell_type": "markdown",
   "metadata": {},
   "source": [
    "## Preparing input output pairs"
   ]
  },
  {
   "cell_type": "code",
   "execution_count": 10,
   "metadata": {},
   "outputs": [],
   "source": [
    "y = feature_df[\"Survived\"].values\n",
    "x = feature_df.drop(\"Survived\", 1).values"
   ]
  },
  {
   "cell_type": "markdown",
   "metadata": {},
   "source": [
    "## Training random forest classifier"
   ]
  },
  {
   "cell_type": "code",
   "execution_count": 11,
   "metadata": {},
   "outputs": [],
   "source": [
    "model_RFC = RandomForestClassifier(n_estimators=100, max_depth=5, random_state=1)\n",
    "model_RFC.fit(x, y)\n",
    "predictions = model_RFC.predict(x)"
   ]
  },
  {
   "cell_type": "code",
   "execution_count": 12,
   "metadata": {},
   "outputs": [],
   "source": [
    "accuracy = accuracy_score(y, predictions)"
   ]
  },
  {
   "cell_type": "markdown",
   "metadata": {},
   "source": [
    "## Accuracy"
   ]
  },
  {
   "cell_type": "code",
   "execution_count": 13,
   "metadata": {},
   "outputs": [
    {
     "data": {
      "text/plain": [
       "0.8448687350835322"
      ]
     },
     "execution_count": 13,
     "metadata": {},
     "output_type": "execute_result"
    }
   ],
   "source": [
    "accuracy"
   ]
  }
 ],
 "metadata": {
  "kernelspec": {
   "display_name": "Python 3",
   "language": "python",
   "name": "python3"
  },
  "language_info": {
   "codemirror_mode": {
    "name": "ipython",
    "version": 3
   },
   "file_extension": ".py",
   "mimetype": "text/x-python",
   "name": "python",
   "nbconvert_exporter": "python",
   "pygments_lexer": "ipython3",
   "version": "3.6.8"
  }
 },
 "nbformat": 4,
 "nbformat_minor": 4
}
