{
 "cells": [
  {
   "cell_type": "code",
   "execution_count": null,
   "metadata": {},
   "outputs": [],
   "source": [
    "!pip install kfp==1.4.0 kfp-server-api==1.2.0\n",
    "\n",
    "import sys\n",
    "!{sys.executable} -m pip install kfp >/dev/nullimport os"
   ]
  },
  {
   "cell_type": "code",
   "execution_count": null,
   "metadata": {},
   "outputs": [],
   "source": [
    "import json\n",
    "import kfp\n",
    "import kfp.dsl as dsl\n",
    "import kfp.compiler as compiler\n",
    "from kfp import components\n",
    "from kubernetes import client as k8s_client\n",
    "\n",
    "import os\n",
    "import json\n",
    "import kfp\n",
    "import string\n",
    "import random\n",
    "import kfp.dsl as dsl\n",
    "import kfp.compiler as compiler\n",
    "from kfp import components\n",
    "from kubernetes import client as k8s_client"
   ]
  },
  {
   "cell_type": "code",
   "execution_count": null,
   "metadata": {},
   "outputs": [],
   "source": [
    "dkube_preprocessing_op      = components.load_component_from_file(\"/mnt/dkube/pipeline/components/preprocess/component.yaml\")\n",
    "dkube_training_op           = components.load_component_from_file(\"/mnt/dkube/pipeline/components/training/component.yaml\")\n",
    "dkube_serving_op            = components.load_component_from_file(\"/mnt/dkube/pipeline/components/serving/component.yaml\")"
   ]
  },
  {
   "cell_type": "code",
   "execution_count": null,
   "metadata": {},
   "outputs": [],
   "source": [
    "image = \"docker.io/ocdr/d3-datascience-sklearn:v0.23.2\"\n",
    "serving_image = \"ocdr/sklearnserver:0.23.2\"\n",
    "dataset = 'insurance'\n",
    "featureset = 'insurance-fs'\n",
    "training_program = 'insurance'\n",
    "model = 'insurance'\n",
    "preprocessing_script = f\"python insurance/preprocessing.py --fs {featureset}\"\n",
    "training_script = f\"python insurance/training.py --fs {featureset}\"\n",
    "transformer_code='insurance/transformer.py'\n",
    "user = os.getenv('USERNAME')\n",
    "framework = \"sklearn\"\n",
    "f_version = \"0.23.2\"\n",
    "input_mount_point = \"/opt/dkube/in\"\n",
    "output_mount_point = \"/opt/dkube/out\""
   ]
  },
  {
   "cell_type": "code",
   "execution_count": null,
   "metadata": {},
   "outputs": [],
   "source": [
    "@kfp.dsl.pipeline(\n",
    "    name='dkube-insurance-pl',\n",
    "    description='sample insurance pipeline with featuresets'\n",
    ")\n",
    "def insurance_pipeline(token):\n",
    "    \n",
    "    preprocessing = dkube_preprocessing_op(token, json.dumps({\"image\": image}),\n",
    "                                           program=training_program, run_script=preprocessing_script,\n",
    "                                           datasets=json.dumps([dataset]), \n",
    "                                           output_featuresets=json.dumps([str(featureset)]),\n",
    "                                           input_dataset_mounts=json.dumps([input_mount_point]), \n",
    "                                           output_featureset_mounts=json.dumps([output_mount_point])\n",
    "                                            )\n",
    "\n",
    "    train       = dkube_training_op(token, json.dumps({\"image\": image}),\n",
    "                                    framework=framework, version=f_version,\n",
    "                                    program=training_program, run_script=training_script,\n",
    "                                    featuresets=json.dumps([featureset]), outputs=json.dumps([model]),\n",
    "                                    input_featureset_mounts=json.dumps([input_mount_point]),\n",
    "                                    output_mounts=json.dumps([output_mount_point])).after(preprocessing)\n",
    "\n",
    "    serving     = dkube_serving_op(token, train.outputs['artifact'], device='cpu', \n",
    "                                    serving_image=json.dumps({\"image\": serving_image}),\n",
    "                                    transformer_image=json.dumps({\"image\": image}),\n",
    "                                    transformer_project=training_program,\n",
    "                                    transformer_code=transformer_code).after(train)"
   ]
  },
  {
   "cell_type": "markdown",
   "metadata": {},
   "source": [
    "# Create a run"
   ]
  },
  {
   "cell_type": "code",
   "execution_count": null,
   "metadata": {},
   "outputs": [],
   "source": [
    "existing_token = os.getenv(\"DKUBE_USER_ACCESS_TOKEN\")\n",
    "client = kfp.Client(existing_token=existing_token)\n",
    "client.create_run_from_pipeline_func(insurance_pipeline, arguments={\"token\":existing_token})"
   ]
  },
  {
   "cell_type": "markdown",
   "metadata": {},
   "source": [
    "# Compile pipeline"
   ]
  },
  {
   "cell_type": "code",
   "execution_count": null,
   "metadata": {},
   "outputs": [],
   "source": [
    "# compile\n",
    "import tempfile\n",
    "f = tempfile.NamedTemporaryFile(suffix=\".zip\", delete=False)\n",
    "kfp.compiler.Compiler().compile(insurance_pipeline,f.name)"
   ]
  },
  {
   "cell_type": "markdown",
   "metadata": {},
   "source": [
    "## Upload pipeline"
   ]
  },
  {
   "cell_type": "code",
   "execution_count": null,
   "metadata": {},
   "outputs": [],
   "source": [
    "pipeline_id = client.get_pipeline_id(\"Insurance pipeline\")\n",
    "\n",
    "if(pipeline_id != None):\n",
    "    pipeline_version = ''.join(random.choices(string.ascii_uppercase + string.digits, k = 7))\n",
    "    new_pipeline = client.upload_pipeline_version(f.name,pipeline_version_name = pipeline_version, pipeline_id = pipeline_id)\n",
    "else:\n",
    "    pipeline = client.upload_pipeline(f.name, pipeline_name=\"Insurance pipeline\")\n"
   ]
  },
  {
   "cell_type": "code",
   "execution_count": null,
   "metadata": {},
   "outputs": [],
   "source": []
  }
 ],
 "metadata": {
  "kernelspec": {
   "display_name": "Python 3",
   "language": "python",
   "name": "python3"
  },
  "language_info": {
   "codemirror_mode": {
    "name": "ipython",
    "version": 3
   },
   "file_extension": ".py",
   "mimetype": "text/x-python",
   "name": "python",
   "nbconvert_exporter": "python",
   "pygments_lexer": "ipython3",
   "version": "3.6.8"
  }
 },
 "nbformat": 4,
 "nbformat_minor": 4
}
