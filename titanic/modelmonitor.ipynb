{
 "cells": [
  {
   "cell_type": "code",
   "execution_count": null,
   "metadata": {},
   "outputs": [],
   "source": [
    "%store -r\n",
    "import os\n",
    "from dkube.sdk import *\n",
    "from dkube.sdk.api import DkubeApi\n",
    "from dkube.sdk.rsrcs import DkubeModelmonitor\n",
    "from dkube.sdk.rsrcs.modelmonitor import DatasetClass,ModelType,DriftAlgo\n",
    "from dkube.sdk.rsrcs.modelmonitor import DatasetFormat,DkubeModelmonitoralert"
   ]
  },
  {
   "cell_type": "code",
   "execution_count": null,
   "metadata": {},
   "outputs": [],
   "source": [
    "api = DkubeApi(URL=os.getenv('DKUBE_URL',DKUBE_URL),token=os.getenv(\"DKUBE_USER_ACCESS_TOKEN\",TOKEN))"
   ]
  },
  {
   "cell_type": "markdown",
   "metadata": {},
   "source": [
    "### Import deployment"
   ]
  },
  {
   "cell_type": "code",
   "execution_count": null,
   "metadata": {},
   "outputs": [],
   "source": [
    "api.import_deployment(name=MONITOR_NAME)"
   ]
  },
  {
   "cell_type": "markdown",
   "metadata": {},
   "source": [
    "### Model Monitor"
   ]
  },
  {
   "cell_type": "code",
   "execution_count": null,
   "metadata": {},
   "outputs": [],
   "source": [
    "mm=DkubeModelmonitor(name=MONITOR_NAME)"
   ]
  },
  {
   "cell_type": "code",
   "execution_count": null,
   "metadata": {},
   "outputs": [],
   "source": [
    "mt=ModelType.Classification\n",
    "dc_t=DatasetClass.Train"
   ]
  },
  {
   "cell_type": "code",
   "execution_count": null,
   "metadata": {},
   "outputs": [],
   "source": [
    "text_file = open(\"transform_data.py\", \"r\")\n",
    "#read whole file to a string\n",
    "script = text_file.read()\n",
    "#close file\n",
    "text_file.close()"
   ]
  },
  {
   "cell_type": "code",
   "execution_count": null,
   "metadata": {},
   "outputs": [],
   "source": [
    "mm.update_modelmonitor(model_type=str(mt),data_timezone=\"utc\",input_data_type=\"tabular\")"
   ]
  },
  {
   "cell_type": "markdown",
   "metadata": {},
   "source": [
    "#### TRAINING Details"
   ]
  },
  {
   "cell_type": "code",
   "execution_count": null,
   "metadata": {},
   "outputs": [],
   "source": [
    "if DATA_SOURCE == \"local\" or DATA_SOURCE == \"aws_s3\":\n",
    "    training_data = f'{DKUBE_BASE_DATASET}:'+ DKUBEUSERNAME\n",
    "    train_data_version = 'v1:'+api.get_dataset_versions(\n",
    "        DKUBEUSERNAME,\n",
    "        DKUBE_BASE_DATASET)[0]['version']['uuid']\n",
    "    prediction_data = MONITOR_NAME +'-predict:'+ DKUBEUSERNAME\n",
    "    labelled_data = MONITOR_NAME +'-groundtruth:'+ DKUBEUSERNAME\n",
    "\n",
    "if DATA_SOURCE == 'local':\n",
    "    predict_data_version = 'v1:'+api.get_dataset_versions(\n",
    "        DKUBEUSERNAME,\n",
    "        MONITOR_NAME+'-predict')[0]['version']['uuid']\n",
    "    labelled_data_version = 'v1:'+api.get_dataset_versions(\n",
    "        DKUBEUSERNAME,\n",
    "        MONITOR_NAME+'-groundtruth')[0]['version']['uuid']\n",
    "\n",
    "if DATA_SOURCE == \"aws_s3\":\n",
    "    if PREDICT_DATASET_FORMAT == \"tabular\":\n",
    "        predict_data_format = str(DatasetFormat.Tabular)\n",
    "    if PREDICT_DATASET_FORMAT == \"cloudevents\":\n",
    "        predict_data_format = str(DatasetFormat.Cloudevents)\n",
    "    if PREDICT_DATASET_FORMAT == \"sagemaker\":\n",
    "        predict_data_format = str(DatasetFormat.Sagemaker)  \n",
    "\n",
    "if DATA_SOURCE == \"sql\":\n",
    "    training_data = f'{DKUBE_BASE_DATASET}:'+ DKUBEUSERNAME"
   ]
  },
  {
   "cell_type": "markdown",
   "metadata": {},
   "source": [
    "### Add Training Dataset"
   ]
  },
  {
   "cell_type": "code",
   "execution_count": null,
   "metadata": {},
   "outputs": [],
   "source": [
    "if DATA_SOURCE == 'sql':\n",
    "    mm.add_datasources(data_class=str(DatasetClass.Train),name=training_data,data_format=str(DatasetFormat.Tabular),sql_query=\"select * from titanic\",transformer_script = script)\n",
    "    mm.add_datasources(data_class=str(DatasetClass.Predict),name=training_data,data_format=str(DatasetFormat.Tabular),sql_query=\"select * from titanic_predict\",date_suffix=\"yyyy/mm/dd/hh\")\n",
    "    mm.add_datasources(data_class=str(DatasetClass.Labelled),name=training_data,data_format=str(DatasetFormat.Tabular),sql_query=\"select * from titanic_gt\",predict_col=\"Survived\",groundtruth_col=\"GT_target\",timestamp_col=\"timestamp\")\n",
    "\n",
    "if DATA_SOURCE == 'local':\n",
    "    mm.add_datasources(data_class=str(DatasetClass.Train),name=training_data,data_format=str(DatasetFormat.Tabular),version=train_data_version,transformer_script = script)\n",
    "    mm.add_datasources(data_class=str(DatasetClass.Predict),name=prediction_data,data_format=str(DatasetFormat.Tabular),version=predict_data_version,date_suffix=\"none\")\n",
    "    mm.add_datasources(data_class=str(DatasetClass.Labelled),name=labelled_data,data_format=str(DatasetFormat.Tabular),version=labelled_data_version,predict_col=\"Survived\",groundtruth_col=\"GT_target\",timestamp_col=\"timestamp\")\n",
    "\n",
    "if DATA_SOURCE == 'aws_s3':\n",
    "    mm.add_datasources(data_class=str(DatasetClass.Train),name=training_data,data_format=str(DatasetFormat.Tabular),version=train_data_version,transformer_script = script)\n",
    "    mm.add_datasources(data_class=str(DatasetClass.Predict),name=prediction_data,data_format=predict_data_format,date_suffix=\"yyyy/mm/dd/hh\")\n",
    "    mm.add_datasources(data_class=str(DatasetClass.Labelled),name=labelled_data,data_format=str(DatasetFormat.Tabular),predict_col=\"Survived\",groundtruth_col=\"GT_target\",timestamp_col=\"timestamp\")"
   ]
  },
  {
   "cell_type": "markdown",
   "metadata": {},
   "source": [
    "### Add Drift monitoring details"
   ]
  },
  {
   "cell_type": "code",
   "execution_count": null,
   "metadata": {},
   "outputs": [],
   "source": [
    "mm.update_drift_monitoring_details(enabled=True,frequency=5,algorithm='auto')"
   ]
  },
  {
   "cell_type": "markdown",
   "metadata": {},
   "source": [
    "### Create Model Monitor"
   ]
  },
  {
   "cell_type": "code",
   "execution_count": null,
   "metadata": {},
   "outputs": [],
   "source": [
    "api.modelmonitor_create(mm,wait_for_completion=True)"
   ]
  },
  {
   "cell_type": "markdown",
   "metadata": {},
   "source": [
    "#### Extracting ID of the model monitor"
   ]
  },
  {
   "cell_type": "code",
   "execution_count": null,
   "metadata": {},
   "outputs": [],
   "source": [
    "id = api.modelmonitor_get_id(MONITOR_NAME)\n",
    "id"
   ]
  },
  {
   "cell_type": "markdown",
   "metadata": {},
   "source": [
    "### Update Schema"
   ]
  },
  {
   "cell_type": "code",
   "execution_count": null,
   "metadata": {},
   "outputs": [],
   "source": [
    "api.modelmonitor_update_schema(id,label='Survived',schema_class='categorical',schema_type=\"prediction_output\",selected=False)\n",
    "api.modelmonitor_update_schema(id,label='PassengerId',schema_class='continuous',schema_type=\"row_id\",selected=False)\n",
    "api.modelmonitor_update_schema(id,label='timestamp',schema_class='continuous',schema_type=\"timestamp\",selected=False)\n",
    "\n",
    "api.modelmonitor_update_schema(id,label='Age',schema_class='continuous',schema_type='input_feature')\n",
    "api.modelmonitor_update_schema(id,label='Fare',schema_class='continuous',schema_type='input_feature')\n",
    "api.modelmonitor_update_schema(id,label='SibSp',schema_class='continuous',schema_type='input_feature')\n",
    "api.modelmonitor_update_schema(id,label='Parch',schema_class='continuous',schema_type='input_feature')\n",
    "api.modelmonitor_update_schema(id,label='Pclass',schema_class='categorical',schema_type='input_feature')\n",
    "api.modelmonitor_update_schema(id,label='Sex_male',schema_class='categorical',schema_type='input_feature')\n",
    "api.modelmonitor_update_schema(id,label='Sex_female',schema_class='categorical',schema_type='input_feature')\n"
   ]
  },
  {
   "cell_type": "markdown",
   "metadata": {},
   "source": [
    "### Performance Monitoring"
   ]
  },
  {
   "cell_type": "code",
   "execution_count": null,
   "metadata": {},
   "outputs": [],
   "source": [
    "mm=DkubeModelmonitor(name=MONITOR_NAME)\n",
    "mm.update_performance_monitoring_details(enabled=True,source_type=\"labelled_data\",frequency=5,soft_thresholds={\"accuracy\":{\"hard\":0.890476152,\"soft\":0.816269806},\"precision\":{\"hard\":0.8795999999999999,\"soft\":0.8063},\"f1_score\": {\"hard\":0.67929912,\"soft\":0.62269086}})"
   ]
  },
  {
   "cell_type": "code",
   "execution_count": null,
   "metadata": {},
   "outputs": [],
   "source": [
    "api.modelmonitor_update(id,mm)"
   ]
  },
  {
   "cell_type": "markdown",
   "metadata": {},
   "source": [
    "### Add Alerts"
   ]
  },
  {
   "cell_type": "markdown",
   "metadata": {},
   "source": [
    "#### Feature Alerts"
   ]
  },
  {
   "cell_type": "code",
   "execution_count": null,
   "metadata": {},
   "outputs": [],
   "source": [
    "alert = DkubeModelmonitoralert(name='age_alert')\n",
    "alert.update_alert(alert_class = 'feature_drift',feature='Age',threshold=0.02)\n",
    "api.modelmonitor_add_alert(id,alert)"
   ]
  },
  {
   "cell_type": "code",
   "execution_count": null,
   "metadata": {},
   "outputs": [],
   "source": [
    "alert = DkubeModelmonitoralert(name='fare_alert')\n",
    "alert.update_alert(alert_class = 'feature_drift',feature='Fare',threshold=0.05)\n",
    "api.modelmonitor_add_alert(id,alert)"
   ]
  },
  {
   "cell_type": "markdown",
   "metadata": {},
   "source": [
    "#### Performance Alerts"
   ]
  },
  {
   "cell_type": "code",
   "execution_count": null,
   "metadata": {},
   "outputs": [],
   "source": [
    "alert = DkubeModelmonitoralert(name='metrics_alert')\n",
    "alert.update_alert(alert_class = 'performance_decay',metric = 'accuracy',threshold=0.70)\n",
    "api.modelmonitor_add_alert(id,alert)"
   ]
  },
  {
   "cell_type": "markdown",
   "metadata": {},
   "source": [
    "#### 6. Start the Model Monitor"
   ]
  },
  {
   "cell_type": "code",
   "execution_count": null,
   "metadata": {},
   "outputs": [],
   "source": [
    "api.modelmonitor_start(id)"
   ]
  },
  {
   "cell_type": "markdown",
   "metadata": {},
   "source": [
    "#### 7. Retraining"
   ]
  },
  {
   "cell_type": "code",
   "execution_count": null,
   "metadata": {},
   "outputs": [],
   "source": [
    "%store -r\n",
    "id = api.modelmonitor_get_id(MONITOR_NAME)\n",
    "\n",
    "if INPUT_TRAIN_TYPE == 'retraining':\n",
    "    api.modelmonitor_stop(id)\n",
    "    \n",
    "    training_data = f'{RETRAINING_DATASET}:'+DKUBEUSERNAME\n",
    "    data_dict = api.get_dataset_versions(DKUBEUSERNAME,RETRAINING_DATASET)[0]['version']\n",
    "    train_data_version = data_dict['name']+\":\"+data_dict['uuid']\n",
    "    \n",
    "    mm=DkubeModelmonitor(name=MONITOR_NAME)\n",
    "    mm.update_datasources(name=training_data,data_class=str(DatasetClass.Train),version=train_data_version)\n",
    "    api.modelmonitor_update(id,mm)\n",
    "    \n",
    "    \n",
    "    ### Start the model monitor\n",
    "    api.modelmonitor_start(id)\n",
    "\n"
   ]
  },
  {
   "cell_type": "markdown",
   "metadata": {},
   "source": [
    "#### 8. Cleanup"
   ]
  },
  {
   "cell_type": "code",
   "execution_count": null,
   "metadata": {},
   "outputs": [],
   "source": [
    "CLEANUP = False\n",
    "if CLEANUP:\n",
    "    from time import sleep\n",
    "    RETRIES = 4\n",
    "    while RETRIES:\n",
    "        mm = api.modelmonitor_get(id)\n",
    "        if mm[\"status\"] and mm[\"status\"][\"state\"].lower() != \"active\":\n",
    "            break\n",
    "        elif mm[\"status\"] and mm[\"status\"][\"state\"].lower() == \"active\":\n",
    "            api.modelmonitor_stop(id)\n",
    "        RETRIES -= 1\n",
    "        sleep(5)\n",
    "    else:\n",
    "        raise TimeoutError(\"modelmonitor failed to stopped\")\n",
    "    api.modelmonitor_delete(id)"
   ]
  }
 ],
 "metadata": {
  "kernelspec": {
   "display_name": "Python 3",
   "language": "python",
   "name": "python3"
  },
  "language_info": {
   "codemirror_mode": {
    "name": "ipython",
    "version": 3
   },
   "file_extension": ".py",
   "mimetype": "text/x-python",
   "name": "python",
   "nbconvert_exporter": "python",
   "pygments_lexer": "ipython3",
   "version": "3.6.8"
  }
 },
 "nbformat": 4,
 "nbformat_minor": 4
}
