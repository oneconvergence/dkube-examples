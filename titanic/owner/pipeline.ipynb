{
 "cells": [
  {
   "cell_type": "code",
   "execution_count": null,
   "metadata": {},
   "outputs": [],
   "source": [
    "import os, sys\n",
    "from dkube.sdk import *\n",
    "\n",
    "username = os.getenv('USERNAME')\n",
    "api = DkubeApi(token=os.getenv('DKUBE_USER_ACCESS_TOKEN'))"
   ]
  },
  {
   "cell_type": "code",
   "execution_count": 15,
   "metadata": {},
   "outputs": [],
   "source": [
    "project=DkubeProject(\"titanic\")\n",
    "info = api.create_project(project)\n",
    "project.description = \"Machine Learning from Disaster\"\n",
    "api.update_project(info[\"id\"], project)\n",
    "api.set_active_project(info[\"id\"])"
   ]
  },
  {
   "cell_type": "code",
   "execution_count": null,
   "metadata": {},
   "outputs": [],
   "source": [
    "#Create code repo with eval code\n",
    "code = DkubeCode(username,\"titanic\")\n",
    "code.update_git_details(url=\"https://github.com/oneconvergence/dkube-examples-2.0.git\", branch=\"tensorflow\")\n",
    "api.create_code(code)"
   ]
  },
  {
   "cell_type": "code",
   "execution_count": null,
   "metadata": {},
   "outputs": [],
   "source": [
    "#upload train dataset\n",
    "dataset = DkubeDataset(username,\"titanic-train\")\n",
    "dataset.update_git_details(url=\"https://dkube.s3.amazonaws.com/datasets/titanic/train.csv\")\n",
    "dataset.update_dataset_source(source=\"pub_url\")\n",
    "api.create_dataset(dataset)"
   ]
  },
  {
   "cell_type": "code",
   "execution_count": null,
   "metadata": {},
   "outputs": [],
   "source": [
    "#upload test dataset\n",
    "dataset = DkubeDataset(username,\"titanic-test\")\n",
    "dataset.update_git_details(url=\"https://dkube.s3.amazonaws.com/datasets/titanic/test.csv\")\n",
    "dataset.update_dataset_source(source=\"pub_url\")\n",
    "api.create_dataset(dataset)"
   ]
  },
  {
   "cell_type": "code",
   "execution_count": null,
   "metadata": {},
   "outputs": [],
   "source": [
    "#Update project evaluation information\n",
    "project.eval_repo = \"titanic\"\n",
    "project.eval_script = \"cd titanic/owner && python eval.py\"\n",
    "api.update_project(info[\"id\"], project)"
   ]
  }
 ],
 "metadata": {
  "kernelspec": {
   "display_name": "Python 3",
   "language": "python",
   "name": "python3"
  },
  "language_info": {
   "codemirror_mode": {
    "name": "ipython",
    "version": 3
   },
   "file_extension": ".py",
   "mimetype": "text/x-python",
   "name": "python",
   "nbconvert_exporter": "python",
   "pygments_lexer": "ipython3",
   "version": "3.6.8"
  }
 },
 "nbformat": 4,
 "nbformat_minor": 4
}