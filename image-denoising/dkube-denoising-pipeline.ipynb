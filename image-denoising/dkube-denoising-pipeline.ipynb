{
 "cells": [
  {
   "cell_type": "code",
   "execution_count": 1,
   "metadata": {},
   "outputs": [
    {
     "name": "stdout",
     "output_type": "stream",
     "text": [
      "Defaulting to user installation because normal site-packages is not writeable\n",
      "Requirement already satisfied: kfp==1.4.0 in /home/ocdkube/.local/lib/python3.8/site-packages (1.4.0)\n",
      "Requirement already satisfied: kfp-server-api==1.2.0 in /home/ocdkube/.local/lib/python3.8/site-packages (1.2.0)\n",
      "Requirement already satisfied: kfp-pipeline-spec<0.2.0,>=0.1.0 in /home/ocdkube/.local/lib/python3.8/site-packages (from kfp==1.4.0) (0.1.7)\n",
      "Requirement already satisfied: requests-toolbelt>=0.8.0 in /usr/local/lib/python3.8/site-packages (from kfp==1.4.0) (0.9.1)\n",
      "Requirement already satisfied: fire>=0.3.1 in /home/ocdkube/.local/lib/python3.8/site-packages (from kfp==1.4.0) (0.4.0)\n",
      "Requirement already satisfied: kubernetes<12.0.0,>=8.0.0 in /usr/local/lib/python3.8/site-packages (from kfp==1.4.0) (11.0.0)\n",
      "Requirement already satisfied: google-auth>=1.6.1 in /usr/local/lib/python3.8/site-packages (from kfp==1.4.0) (1.26.1)\n",
      "Requirement already satisfied: click in /usr/local/lib/python3.8/site-packages (from kfp==1.4.0) (7.1.2)\n",
      "Requirement already satisfied: PyYAML>=5.3 in /usr/local/lib/python3.8/site-packages (from kfp==1.4.0) (5.4.1)\n",
      "Requirement already satisfied: tabulate in /usr/local/lib/python3.8/site-packages (from kfp==1.4.0) (0.8.9)\n",
      "Requirement already satisfied: google-cloud-storage>=1.13.0 in /usr/local/lib/python3.8/site-packages (from kfp==1.4.0) (1.36.0)\n",
      "Requirement already satisfied: Deprecated in /usr/local/lib/python3.8/site-packages (from kfp==1.4.0) (1.2.12)\n",
      "Requirement already satisfied: strip-hints in /usr/local/lib/python3.8/site-packages (from kfp==1.4.0) (0.1.9)\n",
      "Requirement already satisfied: jsonschema>=3.0.1 in /usr/local/lib/python3.8/site-packages (from kfp==1.4.0) (3.2.0)\n",
      "Requirement already satisfied: cloudpickle in /usr/local/lib/python3.8/site-packages (from kfp==1.4.0) (1.6.0)\n",
      "Requirement already satisfied: docstring-parser>=0.7.3 in /home/ocdkube/.local/lib/python3.8/site-packages (from kfp==1.4.0) (0.7.3)\n",
      "Requirement already satisfied: certifi in /usr/local/lib/python3.8/site-packages (from kfp-server-api==1.2.0) (2020.12.5)\n",
      "Requirement already satisfied: six>=1.10 in /usr/local/lib/python3.8/site-packages (from kfp-server-api==1.2.0) (1.15.0)\n",
      "Requirement already satisfied: urllib3>=1.15 in /usr/local/lib/python3.8/site-packages (from kfp-server-api==1.2.0) (1.26.3)\n",
      "Requirement already satisfied: python-dateutil in /usr/local/lib/python3.8/site-packages (from kfp-server-api==1.2.0) (2.8.1)\n",
      "Requirement already satisfied: protobuf<4,>=3.13.0 in /usr/local/lib/python3.8/site-packages (from kfp-pipeline-spec<0.2.0,>=0.1.0->kfp==1.4.0) (3.14.0)\n",
      "Requirement already satisfied: requests<3.0.0,>=2.0.1 in /usr/local/lib/python3.8/site-packages (from requests-toolbelt>=0.8.0->kfp==1.4.0) (2.25.1)\n",
      "Requirement already satisfied: termcolor in /home/ocdkube/.local/lib/python3.8/site-packages (from fire>=0.3.1->kfp==1.4.0) (1.1.0)\n",
      "Requirement already satisfied: websocket-client!=0.40.0,!=0.41.*,!=0.42.*,>=0.32.0 in /usr/local/lib/python3.8/site-packages (from kubernetes<12.0.0,>=8.0.0->kfp==1.4.0) (0.57.0)\n",
      "Requirement already satisfied: requests-oauthlib in /usr/local/lib/python3.8/site-packages (from kubernetes<12.0.0,>=8.0.0->kfp==1.4.0) (1.3.0)\n",
      "Requirement already satisfied: setuptools>=21.0.0 in /usr/local/lib/python3.8/site-packages (from kubernetes<12.0.0,>=8.0.0->kfp==1.4.0) (50.3.0)\n",
      "Requirement already satisfied: pyasn1-modules>=0.2.1 in /usr/local/lib/python3.8/site-packages (from google-auth>=1.6.1->kfp==1.4.0) (0.2.8)\n",
      "Requirement already satisfied: cachetools<5.0,>=2.0.0 in /usr/local/lib/python3.8/site-packages (from google-auth>=1.6.1->kfp==1.4.0) (4.2.1)\n",
      "Requirement already satisfied: rsa<5,>=3.1.4; python_version >= \"3.6\" in /usr/local/lib/python3.8/site-packages (from google-auth>=1.6.1->kfp==1.4.0) (4.7)\n",
      "Requirement already satisfied: google-resumable-media<2.0dev,>=1.2.0 in /usr/local/lib/python3.8/site-packages (from google-cloud-storage>=1.13.0->kfp==1.4.0) (1.2.0)\n",
      "Requirement already satisfied: google-cloud-core<2.0dev,>=1.4.1 in /usr/local/lib/python3.8/site-packages (from google-cloud-storage>=1.13.0->kfp==1.4.0) (1.6.0)\n",
      "Requirement already satisfied: wrapt<2,>=1.10 in /usr/local/lib/python3.8/site-packages (from Deprecated->kfp==1.4.0) (1.12.1)\n",
      "Requirement already satisfied: wheel in /usr/local/lib/python3.8/site-packages (from strip-hints->kfp==1.4.0) (0.35.1)\n",
      "Requirement already satisfied: attrs>=17.4.0 in /usr/local/lib/python3.8/site-packages (from jsonschema>=3.0.1->kfp==1.4.0) (20.3.0)\n",
      "Requirement already satisfied: pyrsistent>=0.14.0 in /usr/local/lib/python3.8/site-packages (from jsonschema>=3.0.1->kfp==1.4.0) (0.17.3)\n",
      "Requirement already satisfied: idna<3,>=2.5 in /usr/local/lib/python3.8/site-packages (from requests<3.0.0,>=2.0.1->requests-toolbelt>=0.8.0->kfp==1.4.0) (2.10)\n",
      "Requirement already satisfied: chardet<5,>=3.0.2 in /usr/local/lib/python3.8/site-packages (from requests<3.0.0,>=2.0.1->requests-toolbelt>=0.8.0->kfp==1.4.0) (4.0.0)\n",
      "Requirement already satisfied: oauthlib>=3.0.0 in /usr/local/lib/python3.8/site-packages (from requests-oauthlib->kubernetes<12.0.0,>=8.0.0->kfp==1.4.0) (3.1.0)\n",
      "Requirement already satisfied: pyasn1<0.5.0,>=0.4.6 in /usr/local/lib/python3.8/site-packages (from pyasn1-modules>=0.2.1->google-auth>=1.6.1->kfp==1.4.0) (0.4.8)\n",
      "Requirement already satisfied: google-crc32c<2.0dev,>=1.0; python_version >= \"3.5\" in /usr/local/lib/python3.8/site-packages (from google-resumable-media<2.0dev,>=1.2.0->google-cloud-storage>=1.13.0->kfp==1.4.0) (1.1.2)\n",
      "Requirement already satisfied: google-api-core<2.0.0dev,>=1.21.0 in /usr/local/lib/python3.8/site-packages (from google-cloud-core<2.0dev,>=1.4.1->google-cloud-storage>=1.13.0->kfp==1.4.0) (1.26.0)\n",
      "Requirement already satisfied: cffi>=1.0.0 in /usr/local/lib/python3.8/site-packages (from google-crc32c<2.0dev,>=1.0; python_version >= \"3.5\"->google-resumable-media<2.0dev,>=1.2.0->google-cloud-storage>=1.13.0->kfp==1.4.0) (1.14.4)\n",
      "Requirement already satisfied: googleapis-common-protos<2.0dev,>=1.6.0 in /usr/local/lib/python3.8/site-packages (from google-api-core<2.0.0dev,>=1.21.0->google-cloud-core<2.0dev,>=1.4.1->google-cloud-storage>=1.13.0->kfp==1.4.0) (1.52.0)\n",
      "Requirement already satisfied: pytz in /usr/local/lib/python3.8/site-packages (from google-api-core<2.0.0dev,>=1.21.0->google-cloud-core<2.0dev,>=1.4.1->google-cloud-storage>=1.13.0->kfp==1.4.0) (2021.1)\n",
      "Requirement already satisfied: packaging>=14.3 in /usr/local/lib/python3.8/site-packages (from google-api-core<2.0.0dev,>=1.21.0->google-cloud-core<2.0dev,>=1.4.1->google-cloud-storage>=1.13.0->kfp==1.4.0) (20.9)\n",
      "Requirement already satisfied: pycparser in /usr/local/lib/python3.8/site-packages (from cffi>=1.0.0->google-crc32c<2.0dev,>=1.0; python_version >= \"3.5\"->google-resumable-media<2.0dev,>=1.2.0->google-cloud-storage>=1.13.0->kfp==1.4.0) (2.20)\n",
      "Requirement already satisfied: pyparsing>=2.0.2 in /usr/local/lib/python3.8/site-packages (from packaging>=14.3->google-api-core<2.0.0dev,>=1.21.0->google-cloud-core<2.0dev,>=1.4.1->google-cloud-storage>=1.13.0->kfp==1.4.0) (2.4.7)\n",
      "\u001b[33mWARNING: You are using pip version 20.2.3; however, version 21.1.1 is available.\n",
      "You should consider upgrading via the '/usr/local/bin/python -m pip install --upgrade pip' command.\u001b[0m\n",
      "/bin/bash: /dev/nullimport: Permission denied\n"
     ]
    }
   ],
   "source": [
    "!pip install kfp==1.4.0 kfp-server-api==1.2.0\n",
    "\n",
    "import sys\n",
    "!{sys.executable} -m pip install kfp >/dev/nullimport os\n"
   ]
  },
  {
   "cell_type": "code",
   "execution_count": 2,
   "metadata": {},
   "outputs": [],
   "source": [
    "import os\n",
    "import random\n",
    "import string\n",
    "import json\n",
    "import kfp\n",
    "import kfp.dsl as dsl\n",
    "import kfp.compiler as compiler\n",
    "from kfp import components\n",
    "from kubernetes import client as k8s_client"
   ]
  },
  {
   "cell_type": "code",
   "execution_count": 3,
   "metadata": {},
   "outputs": [],
   "source": [
    "dkube_training_op           = components.load_component_from_file(\"/mnt/dkube/pipeline/components/training/component.yaml\")\n",
    "dkube_serving_op            = components.load_component_from_file(\"/mnt/dkube/pipeline/components/serving/component.yaml\")"
   ]
  },
  {
   "cell_type": "code",
   "execution_count": 4,
   "metadata": {},
   "outputs": [],
   "source": [
    "image = \"ocdr/d3-datascience-pytorch-cpu:v1.6\"\n",
    "serving_image = \"ocdr/pytorchserver:1.6\"\n",
    "training_program = \"Img-DN\"\n",
    "dataset = \"Img-DN\"\n",
    "model = \"Img-DN\"\n",
    "training_script = \"python image-denoising/model-care.py\"\n",
    "transformer_code=\"image-denoising/transformer.py\"\n",
    "user = os.getenv('USERNAME')\n",
    "framework = \"pytorch\"\n",
    "f_version =  \"1.6\"\n",
    "output_mount_point = \"/opt/dkube/output/\"\n",
    "input_mount_point = \"/opt/dkube/input/\""
   ]
  },
  {
   "cell_type": "code",
   "execution_count": 5,
   "metadata": {},
   "outputs": [],
   "source": [
    "@kfp.dsl.pipeline(\n",
    "    name='Img-Denoising',\n",
    "    description='IMAGE-DENOISING EXAMPLE'\n",
    ")\n",
    "def image_denoising_pipeline(token):\n",
    "    \n",
    "        train       = dkube_training_op(token, json.dumps({\"image\": image}),\n",
    "                                    framework=framework, version=f_version,\n",
    "                                    program=training_program, run_script=training_script,\n",
    "                                    datasets=json.dumps([dataset]), outputs=json.dumps([model]),\n",
    "                                    input_dataset_mounts=json.dumps([input_mount_point]),\n",
    "                                    output_mounts=json.dumps([output_mount_point]))\n",
    "\n",
    "       \n",
    "        serving     = dkube_serving_op(token, train.outputs['artifact'], device='cpu', \n",
    "                                    serving_image=json.dumps({\"image\": serving_image}),\n",
    "                                    transformer_image=json.dumps({\"image\": image}),\n",
    "                                    transformer_project=training_program,\n",
    "                                    transformer_code=transformer_code).after(train)"
   ]
  },
  {
   "cell_type": "markdown",
   "metadata": {},
   "source": [
    "### Create a Run"
   ]
  },
  {
   "cell_type": "code",
   "execution_count": 6,
   "metadata": {},
   "outputs": [
    {
     "data": {
      "text/html": [
       "<a href=\"/pipeline/#/experiments/details/67c3a7b6-5e9d-4816-82b6-e03a1f4ac195\" target=\"_blank\" >Experiment details</a>."
      ],
      "text/plain": [
       "<IPython.core.display.HTML object>"
      ]
     },
     "metadata": {},
     "output_type": "display_data"
    },
    {
     "data": {
      "text/html": [
       "<a href=\"/pipeline/#/runs/details/5f10cfc9-0617-4196-bc0b-d9595f72b3aa\" target=\"_blank\" >Run details</a>."
      ],
      "text/plain": [
       "<IPython.core.display.HTML object>"
      ]
     },
     "metadata": {},
     "output_type": "display_data"
    },
    {
     "data": {
      "text/plain": [
       "RunPipelineResult(run_id=5f10cfc9-0617-4196-bc0b-d9595f72b3aa)"
      ]
     },
     "execution_count": 6,
     "metadata": {},
     "output_type": "execute_result"
    }
   ],
   "source": [
    "existing_token = os.getenv(\"DKUBE_USER_ACCESS_TOKEN\")\n",
    "client = kfp.Client(existing_token=existing_token)\n",
    "client.create_run_from_pipeline_func(image_denoising_pipeline, arguments={\"token\":existing_token})"
   ]
  },
  {
   "cell_type": "markdown",
   "metadata": {},
   "source": [
    "### Compile and generate tar ball"
   ]
  },
  {
   "cell_type": "code",
   "execution_count": 7,
   "metadata": {},
   "outputs": [],
   "source": [
    "# compile\n",
    "import tempfile\n",
    "f = tempfile.NamedTemporaryFile(suffix=\".zip\", delete=False)\n",
    "kfp.compiler.Compiler().compile(image_denoising_pipeline,f.name)"
   ]
  },
  {
   "cell_type": "markdown",
   "metadata": {},
   "source": [
    "### Upload pipeline"
   ]
  },
  {
   "cell_type": "code",
   "execution_count": 8,
   "metadata": {},
   "outputs": [
    {
     "data": {
      "text/html": [
       "<a href=/pipeline/#/pipelines/details/c0829075-d724-4d39-88f2-f0a03b1125a0>Pipeline details</a>."
      ],
      "text/plain": [
       "<IPython.core.display.HTML object>"
      ]
     },
     "metadata": {},
     "output_type": "display_data"
    }
   ],
   "source": [
    "pipeline_id = client.get_pipeline_id(\"Img-Denoising\")\n",
    "\n",
    "if(pipeline_id != None):\n",
    "    pipeline_version = ''.join(random.choices(string.ascii_uppercase + string.digits, k = 7))\n",
    "    new_pipeline = client.upload_pipeline_version(f.name,pipeline_version_name = pipeline_version, pipeline_id = pipeline_id)\n",
    "else:\n",
    "    pipeline = client.upload_pipeline(f.name, pipeline_name=\"Img-Denoising\")\n"
   ]
  },
  {
   "cell_type": "code",
   "execution_count": null,
   "metadata": {},
   "outputs": [],
   "source": []
  }
 ],
 "metadata": {
  "kernelspec": {
   "display_name": "Python 3",
   "language": "python",
   "name": "python3"
  },
  "language_info": {
   "codemirror_mode": {
    "name": "ipython",
    "version": 3
   },
   "file_extension": ".py",
   "mimetype": "text/x-python",
   "name": "python",
   "nbconvert_exporter": "python",
   "pygments_lexer": "ipython3",
   "version": "3.8.5"
  }
 },
 "nbformat": 4,
 "nbformat_minor": 4
}
